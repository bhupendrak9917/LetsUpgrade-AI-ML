{
 "cells": [
  {
   "cell_type": "markdown",
   "metadata": {},
   "source": [
    "# 1. Create a 3x3x3 array with random values "
   ]
  },
  {
   "cell_type": "code",
   "execution_count": 2,
   "metadata": {},
   "outputs": [
    {
     "name": "stdout",
     "output_type": "stream",
     "text": [
      "[[[0.22792281 0.41784534 0.30254263]\n",
      "  [0.30436407 0.78202463 0.11808413]\n",
      "  [0.68297713 0.60312326 0.00360184]]\n",
      "\n",
      " [[0.45812353 0.05002107 0.50185672]\n",
      "  [0.39952953 0.62821908 0.28938793]\n",
      "  [0.51778304 0.96338941 0.11219254]]\n",
      "\n",
      " [[0.01338611 0.18934609 0.24012581]\n",
      "  [0.94217122 0.70297558 0.60096041]\n",
      "  [0.98532744 0.92726612 0.3450726 ]]]\n"
     ]
    }
   ],
   "source": [
    "import numpy as np\n",
    "ar1= np.random.random((3,3,3))\n",
    "print(ar1)"
   ]
  },
  {
   "cell_type": "markdown",
   "metadata": {},
   "source": [
    "# 2.Create a 5x5 matrix with values 1,2,3,4 just below the diagonal"
   ]
  },
  {
   "cell_type": "code",
   "execution_count": 3,
   "metadata": {},
   "outputs": [
    {
     "name": "stdout",
     "output_type": "stream",
     "text": [
      "[[0 0 0 0 0]\n",
      " [0 1 0 0 0]\n",
      " [0 0 2 0 0]\n",
      " [0 0 0 3 0]\n",
      " [0 0 0 0 4]]\n"
     ]
    }
   ],
   "source": [
    "ar2= np.diag([0,1,2,3,4])\n",
    "print(ar2)"
   ]
  },
  {
   "cell_type": "markdown",
   "metadata": {},
   "source": [
    "# 3.Create a 8x8 matrix and fill it with a checkerboard pattern"
   ]
  },
  {
   "cell_type": "code",
   "execution_count": 7,
   "metadata": {},
   "outputs": [
    {
     "name": "stdout",
     "output_type": "stream",
     "text": [
      "Checkerboard pattern:\n",
      "[[0 1 0 1 0 1 0 1]\n",
      " [1 0 1 0 1 0 1 0]\n",
      " [0 1 0 1 0 1 0 1]\n",
      " [1 0 1 0 1 0 1 0]\n",
      " [0 1 0 1 0 1 0 1]\n",
      " [1 0 1 0 1 0 1 0]\n",
      " [0 1 0 1 0 1 0 1]\n",
      " [1 0 1 0 1 0 1 0]]\n"
     ]
    }
   ],
   "source": [
    "ar3 = np.ones((3,3))\n",
    "print(\"Checkerboard pattern:\")\n",
    "ar3 = np.zeros((8,8),dtype=int)\n",
    "ar3[1::2,::2] = 1\n",
    "ar3[::2,1::2] = 1\n",
    "print(ar3)\n"
   ]
  },
  {
   "cell_type": "markdown",
   "metadata": {},
   "source": [
    "# 4. Normalize a 5x5 random matrix"
   ]
  },
  {
   "cell_type": "code",
   "execution_count": 9,
   "metadata": {},
   "outputs": [
    {
     "name": "stdout",
     "output_type": "stream",
     "text": [
      "Original Array:\n",
      "[[0.03153351 0.03595841 0.02736807]\n",
      " [0.33538457 0.6691112  0.61279381]\n",
      " [0.76593433 0.75191326 0.13553417]]\n",
      "After normalization:\n",
      "[[0.0056399  0.0116311  0.        ]\n",
      " [0.41704654 0.86890394 0.79265162]\n",
      " [1.         0.98101582 0.14645416]]\n"
     ]
    }
   ],
   "source": [
    "ar4= np.random.random((3,3))\n",
    "print(\"Original Array:\")\n",
    "print(ar4)\n",
    "xmax, xmin = ar4.max(), ar4.min()\n",
    "ar4 = (ar4 - xmin)/(xmax - xmin)\n",
    "print(\"After normalization:\")\n",
    "print(ar4)\n"
   ]
  },
  {
   "cell_type": "markdown",
   "metadata": {},
   "source": [
    "# 5.  How to find common values between two arrays?"
   ]
  },
  {
   "cell_type": "code",
   "execution_count": 10,
   "metadata": {},
   "outputs": [
    {
     "name": "stdout",
     "output_type": "stream",
     "text": [
      "Array1:  [ 0 10 20 40 60]\n",
      "Array2:  [10, 30, 40]\n",
      "Common values between two arrays:\n",
      "[10 40]\n"
     ]
    }
   ],
   "source": [
    "a1 = np.array([0, 10, 20, 40, 60])\n",
    "print(\"Array1: \",a1)\n",
    "a2 = [10, 30, 40]\n",
    "print(\"Array2: \",a2)\n",
    "print(\"Common values between two arrays:\")\n",
    "print(np.intersect1d(a1, a2))"
   ]
  },
  {
   "cell_type": "markdown",
   "metadata": {},
   "source": [
    "# 6.How to get the dates of yesterday, today and tomorrow?"
   ]
  },
  {
   "cell_type": "code",
   "execution_count": 11,
   "metadata": {},
   "outputs": [
    {
     "name": "stdout",
     "output_type": "stream",
     "text": [
      "Yestraday:  2020-07-27\n",
      "Today:  2020-07-28\n",
      "Tomorrow:  2020-07-29\n"
     ]
    }
   ],
   "source": [
    "yesterday = np.datetime64('today', 'D') - np.timedelta64(1, 'D')\n",
    "print(\"Yestraday: \",yesterday)\n",
    "today     = np.datetime64('today', 'D')\n",
    "print(\"Today: \",today)\n",
    "tomorrow  = np.datetime64('today', 'D') + np.timedelta64(1, 'D')\n",
    "print(\"Tomorrow: \",tomorrow)"
   ]
  },
  {
   "cell_type": "markdown",
   "metadata": {},
   "source": [
    "# 7. Consider two random array A and B, check if they are equal"
   ]
  },
  {
   "cell_type": "code",
   "execution_count": 12,
   "metadata": {},
   "outputs": [
    {
     "name": "stdout",
     "output_type": "stream",
     "text": [
      "First array:\n",
      "[1 0 0 1 1 1]\n",
      "Second array:\n",
      "[0 1 1 1 1 0]\n",
      "Test above two arrays are equal or not!\n",
      "False\n"
     ]
    }
   ],
   "source": [
    "x = np.random.randint(0,2,6)\n",
    "print(\"First array:\")\n",
    "print(x)\n",
    "y = np.random.randint(0,2,6)\n",
    "print(\"Second array:\")\n",
    "print(y)\n",
    "print(\"Test above two arrays are equal or not!\")\n",
    "array_equal = np.allclose(x, y)\n",
    "print(array_equal)"
   ]
  },
  {
   "cell_type": "markdown",
   "metadata": {},
   "source": [
    "# 8.Create random vector of size 10 and replace the maximum value by 0 "
   ]
  },
  {
   "cell_type": "code",
   "execution_count": 13,
   "metadata": {},
   "outputs": [
    {
     "name": "stdout",
     "output_type": "stream",
     "text": [
      "Original array:\n",
      "[0.19249441 0.22606943 0.88848574 0.62999153 0.71148512 0.33004517\n",
      " 0.35029678 0.62008454 0.47395644 0.6501781 ]\n",
      "Maximum value replaced by 0:\n",
      "[0.19249441 0.22606943 0.         0.62999153 0.71148512 0.33004517\n",
      " 0.35029678 0.62008454 0.47395644 0.6501781 ]\n"
     ]
    }
   ],
   "source": [
    "x = np.random.random(10)\n",
    "print(\"Original array:\")\n",
    "print(x)\n",
    "x[x.argmax()] = 0\n",
    "print(\"Maximum value replaced by 0:\")\n",
    "print(x)"
   ]
  },
  {
   "cell_type": "markdown",
   "metadata": {},
   "source": [
    "# 9. How to print all the values of an array?"
   ]
  },
  {
   "cell_type": "code",
   "execution_count": 17,
   "metadata": {},
   "outputs": [
    {
     "name": "stdout",
     "output_type": "stream",
     "text": [
      "[[1. 1. 1. 1.]\n",
      " [1. 1. 1. 1.]\n",
      " [1. 1. 1. 1.]\n",
      " [1. 1. 1. 1.]]\n"
     ]
    }
   ],
   "source": [
    "np.set_printoptions(threshold=np.inf)\n",
    "x = np.ones((4, 4))\n",
    "print(x)"
   ]
  },
  {
   "cell_type": "markdown",
   "metadata": {},
   "source": [
    "# 10.Subtract the mean of each row of a matrix"
   ]
  },
  {
   "cell_type": "code",
   "execution_count": 18,
   "metadata": {},
   "outputs": [
    {
     "name": "stdout",
     "output_type": "stream",
     "text": [
      "Original matrix:\n",
      "\n",
      "[[0.63316708 0.85056349 0.15695281 0.90655409 0.43193322 0.33981367\n",
      "  0.32013814 0.32649473 0.57100075 0.40294835]\n",
      " [0.34007074 0.94812017 0.07649863 0.51080079 0.79912304 0.37625205\n",
      "  0.32837714 0.36312167 0.53772254 0.45732447]\n",
      " [0.05468311 0.10372834 0.22690334 0.2228935  0.84031653 0.99773118\n",
      "  0.90561811 0.13830203 0.80295847 0.50352969]\n",
      " [0.47902913 0.09017466 0.45428977 0.21624232 0.96548607 0.39017118\n",
      "  0.91376303 0.02297957 0.95869587 0.03067804]\n",
      " [0.34692272 0.04366339 0.93259912 0.07722943 0.61778638 0.72775206\n",
      "  0.90251291 0.65293687 0.74493919 0.54066256]]\n",
      "\n",
      "Subtract the mean of each row of the said matrix:\n",
      "\n",
      "[[ 0.13921045  0.35660685 -0.33700383  0.41259746 -0.06202342 -0.15414296\n",
      "  -0.17381849 -0.1674619   0.07704411 -0.09100828]\n",
      " [-0.13367039  0.47437905 -0.39724249  0.03705966  0.32538192 -0.09748907\n",
      "  -0.14536399 -0.11061945  0.06398142 -0.01641665]\n",
      " [-0.42498332 -0.37593809 -0.25276309 -0.25677293  0.3606501   0.51806475\n",
      "   0.42595168 -0.3413644   0.32329203  0.02386326]\n",
      " [ 0.02687817 -0.36197631  0.0021388  -0.23590864  0.51333511 -0.06197978\n",
      "   0.46161207 -0.4291714   0.50654491 -0.42147293]\n",
      " [-0.21177774 -0.51503707  0.37389865 -0.48147103  0.05908592  0.1690516\n",
      "   0.34381245  0.0942364   0.18623873 -0.0180379 ]]\n"
     ]
    }
   ],
   "source": [
    "print(\"Original matrix:\\n\")\n",
    "X = np.random.rand(5, 10)\n",
    "print(X)\n",
    "print(\"\\nSubtract the mean of each row of the said matrix:\\n\")\n",
    "Y = X - X.mean(axis=1, keepdims=True)\n",
    "print(Y)"
   ]
  },
  {
   "cell_type": "markdown",
   "metadata": {},
   "source": [
    "# 11.Consider a given vector, how to add 1 to each element indexed by a second vector (be careful with repeated indices)? "
   ]
  },
  {
   "cell_type": "code",
   "execution_count": 19,
   "metadata": {},
   "outputs": [
    {
     "name": "stdout",
     "output_type": "stream",
     "text": [
      "[3. 5. 2. 2. 6. 2. 3. 1. 4. 2.]\n",
      "[ 5.  9.  3.  3. 11.  3.  5.  1.  7.  3.]\n"
     ]
    }
   ],
   "source": [
    "a1 = np.ones(10)\n",
    "a2 = np.random.randint(0,len(a1),20)\n",
    "a1 += np.bincount(a2, minlength=len(a1))\n",
    "print(a1)\n",
    "np.add.at(a1, a2, 1)\n",
    "print(a1)"
   ]
  },
  {
   "cell_type": "markdown",
   "metadata": {},
   "source": [
    "# 12.How to get the diagonal of a dot product?"
   ]
  },
  {
   "cell_type": "code",
   "execution_count": 20,
   "metadata": {},
   "outputs": [
    {
     "data": {
      "text/plain": [
       "array([1.81991711, 1.38788707, 1.68751834, 0.88320134, 1.11345564])"
      ]
     },
     "execution_count": 20,
     "metadata": {},
     "output_type": "execute_result"
    }
   ],
   "source": [
    "A = np.random.uniform(0,1,(5,5))\n",
    "B = np.random.uniform(0,1,(5,5))\n",
    "np.diag(np.dot(A, B))\n",
    "np.sum(A * B.T, axis=1)\n",
    "np.einsum(\"ij,ji->i\", A, B)"
   ]
  },
  {
   "cell_type": "markdown",
   "metadata": {},
   "source": [
    "# 13.How to find the most frequent value in an array?"
   ]
  },
  {
   "cell_type": "code",
   "execution_count": 21,
   "metadata": {},
   "outputs": [
    {
     "name": "stdout",
     "output_type": "stream",
     "text": [
      "2\n"
     ]
    }
   ],
   "source": [
    "Z = np.random.randint(0,10,50)\n",
    "print(np.bincount(Z).argmax())"
   ]
  },
  {
   "cell_type": "markdown",
   "metadata": {},
   "source": [
    "# 14.How to get the n largest values of an array"
   ]
  },
  {
   "cell_type": "code",
   "execution_count": 22,
   "metadata": {},
   "outputs": [
    {
     "name": "stdout",
     "output_type": "stream",
     "text": [
      "[9995 9996 9997 9998 9999]\n",
      "[9999 9998 9996 9997 9995]\n"
     ]
    }
   ],
   "source": [
    "arr = np.arange(10000)\n",
    "np.random.shuffle(arr)\n",
    "n = 5\n",
    "print (arr[np.argsort(arr)[-n:]])\n",
    "print (arr[np.argpartition(-arr,n)[:n]])"
   ]
  },
  {
   "cell_type": "markdown",
   "metadata": {},
   "source": [
    "# 15.How to create a record array from a regular array?"
   ]
  },
  {
   "cell_type": "code",
   "execution_count": 23,
   "metadata": {},
   "outputs": [
    {
     "name": "stdout",
     "output_type": "stream",
     "text": [
      "[(b'Hello', 2.5, 3) (b'World', 3.6, 2)]\n"
     ]
    }
   ],
   "source": [
    "arr1 = np.array([(\"Hello\", 2.5, 3),\n",
    "(\"World\", 3.6, 2)])\n",
    "arr2 = np.core.records.fromarrays(arr1.T,\n",
    "names='col1, col2, col3',\n",
    "formats = 'S8, f8, i8')\n",
    "print(arr2)"
   ]
  }
 ],
 "metadata": {
  "kernelspec": {
   "display_name": "Python 3",
   "language": "python",
   "name": "python3"
  },
  "language_info": {
   "codemirror_mode": {
    "name": "ipython",
    "version": 3
   },
   "file_extension": ".py",
   "mimetype": "text/x-python",
   "name": "python",
   "nbconvert_exporter": "python",
   "pygments_lexer": "ipython3",
   "version": "3.7.6"
  }
 },
 "nbformat": 4,
 "nbformat_minor": 2
}
