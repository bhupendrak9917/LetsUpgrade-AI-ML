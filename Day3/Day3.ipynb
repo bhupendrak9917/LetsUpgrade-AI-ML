{
 "cells": [
  {
   "cell_type": "code",
   "execution_count": 2,
   "metadata": {},
   "outputs": [
    {
     "name": "stdout",
     "output_type": "stream",
     "text": [
      "(-20-13j)\n",
      "<class 'complex'>\n"
     ]
    }
   ],
   "source": [
    "# Answer 1:\n",
    "num1= 45 + 32j\n",
    "num2= 65 +45j\n",
    "num3= num1-num2\n",
    "print(num3)\n",
    "print(type(num3))"
   ]
  },
  {
   "cell_type": "code",
   "execution_count": 7,
   "metadata": {},
   "outputs": [
    {
     "name": "stdout",
     "output_type": "stream",
     "text": [
      "3.0\n"
     ]
    }
   ],
   "source": [
    "#Answer 2:\n",
    "r=81\n",
    "p= pow(r,(0.25))\n",
    "print(p)"
   ]
  },
  {
   "cell_type": "code",
   "execution_count": 9,
   "metadata": {},
   "outputs": [
    {
     "name": "stdout",
     "output_type": "stream",
     "text": [
      "the value of num1 before swapping: 67\n",
      "the value of num2 before swapping: 89\n",
      "the value of num1 after swapping: 89\n",
      "the value of num2 after swapping: 67\n"
     ]
    }
   ],
   "source": [
    "#Answer 3:\n",
    "num1= 67\n",
    "num2= 89\n",
    "print(\"the value of num1 before swapping:\",num1)\n",
    "print(\"the value of num2 before swapping:\",num2)\n",
    "temp= num1\n",
    "num1= num2\n",
    "num2= temp\n",
    "print(\"the value of num1 after swapping:\",num1)\n",
    "print(\"the value of num2 after swapping:\",num2)"
   ]
  },
  {
   "cell_type": "code",
   "execution_count": 10,
   "metadata": {},
   "outputs": [
    {
     "name": "stdout",
     "output_type": "stream",
     "text": [
      "the value of num1 before swapping: 45\n",
      "the value of num2 before swapping: 90\n",
      "the value of num1 after swapping: 90\n",
      "the value of num2 after swapping: 45\n"
     ]
    }
   ],
   "source": [
    "# Answer 4:\n",
    "num1= 45\n",
    "num2= 90\n",
    "print(\"the value of num1 before swapping:\",num1)\n",
    "print(\"the value of num2 before swapping:\",num2)\n",
    "num1, num2 = num2, num1\n",
    "print(\"the value of num1 after swapping:\",num1)\n",
    "print(\"the value of num2 after swapping:\",num2)"
   ]
  },
  {
   "cell_type": "code",
   "execution_count": 13,
   "metadata": {},
   "outputs": [
    {
     "name": "stdout",
     "output_type": "stream",
     "text": [
      "Farenheit: 150\n",
      "Celsius: 65.55555555555556\n",
      "Kelvin: 338.7055555555555\n"
     ]
    }
   ],
   "source": [
    "# Answer 5:\n",
    "f= 150\n",
    "c= (f-32)*5/9\n",
    "k= c+273.15\n",
    "print(\"Farenheit:\",f)\n",
    "print(\"Celsius:\",c)\n",
    "print(\"Kelvin:\",k)"
   ]
  },
  {
   "cell_type": "code",
   "execution_count": 14,
   "metadata": {},
   "outputs": [
    {
     "name": "stdout",
     "output_type": "stream",
     "text": [
      "<class 'int'>\n",
      "<class 'float'>\n",
      "<class 'str'>\n",
      "<class 'list'>\n",
      "<class 'tuple'>\n"
     ]
    }
   ],
   "source": [
    "# Answer 6:\n",
    "a= 45\n",
    "b= 23.56\n",
    "c= \"Hello!\"\n",
    "d= [1,2,3,4]\n",
    "e= (1,2,3,4)\n",
    "print(type(a))\n",
    "print(type(b))\n",
    "print(type(c))\n",
    "print(type(d))\n",
    "print(type(e))"
   ]
  },
  {
   "cell_type": "markdown",
   "metadata": {},
   "source": [
    "# This is answer no 7:\n",
    "# My class in Lets Upgrade is going well upto now, Thanks to Darshan Sir who is explaining us all the topic using real world example.\n",
    " Todays Session Sir gave us the intro to Python programming\n",
    " Upto now sir showed us how to download Python, anaconda navigator and create profile in Github and how make repository in github and how to upload files on github.\n",
    " We came across the brief introduction to python.\n",
    " print function, addition, subtraction, using operators in complex numbers."
   ]
  },
  {
   "cell_type": "code",
   "execution_count": null,
   "metadata": {},
   "outputs": [],
   "source": []
  }
 ],
 "metadata": {
  "kernelspec": {
   "display_name": "Python 3",
   "language": "python",
   "name": "python3"
  },
  "language_info": {
   "codemirror_mode": {
    "name": "ipython",
    "version": 3
   },
   "file_extension": ".py",
   "mimetype": "text/x-python",
   "name": "python",
   "nbconvert_exporter": "python",
   "pygments_lexer": "ipython3",
   "version": "3.7.6"
  }
 },
 "nbformat": 4,
 "nbformat_minor": 4
}
