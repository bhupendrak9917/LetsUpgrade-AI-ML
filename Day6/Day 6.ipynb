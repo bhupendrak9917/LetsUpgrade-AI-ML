{
 "cells": [
  {
   "cell_type": "code",
   "execution_count": 2,
   "metadata": {},
   "outputs": [
    {
     "name": "stdout",
     "output_type": "stream",
     "text": [
      "Enter your email-id:bhupendrakumar1545@gmail.com\n",
      "gmail\n"
     ]
    }
   ],
   "source": [
    "# Answer 1:\n",
    "email= input(\"Enter your email-id:\")\n",
    "list(email)\n",
    "n= email.split(\"@\")\n",
    "l= n[1]\n",
    "k= l.split(\".\")\n",
    "print(k[0])"
   ]
  },
  {
   "cell_type": "code",
   "execution_count": 6,
   "metadata": {},
   "outputs": [
    {
     "name": "stdout",
     "output_type": "stream",
     "text": [
      "Enter the list:bag white raw data python\n",
      "['bag', 'data', 'python', 'raw', 'white']\n"
     ]
    }
   ],
   "source": [
    "#Answer 2:\n",
    "ch= input(\"Enter the list:\")\n",
    "r= ch.split()\n",
    "r.sort()\n",
    "print(r)"
   ]
  },
  {
   "cell_type": "code",
   "execution_count": 11,
   "metadata": {},
   "outputs": [
    {
     "name": "stdout",
     "output_type": "stream",
     "text": [
      "{'apple', 'mango', 'banana', 'cherry', 'grapes'}\n",
      "{'mango', 'banana', 'cherry', 'grapes'}\n",
      "set()\n"
     ]
    }
   ],
   "source": [
    "#Answer 3:\n",
    "myset= {\"apple\", \"banana\", \"mango\", \"cherry\"}\n",
    "myset.add(\"grapes\")\n",
    "print(myset)\n",
    "myset.remove(\"apple\")\n",
    "print(myset)\n",
    "myset.clear()\n",
    "print(myset)"
   ]
  },
  {
   "cell_type": "code",
   "execution_count": 12,
   "metadata": {},
   "outputs": [
    {
     "name": "stdout",
     "output_type": "stream",
     "text": [
      "[3, 5, 8]\n"
     ]
    }
   ],
   "source": [
    "#Answer 4:\n",
    "def find_missing(lst): \n",
    "    start = lst[0] \n",
    "    end = lst[-1] \n",
    "    return sorted(set(range(start, end + 1)).difference(lst)) \n",
    "\n",
    "lst = [1, 2, 4, 6, 7, 9, 10] \n",
    "print(find_missing(lst)) \n"
   ]
  },
  {
   "cell_type": "code",
   "execution_count": 13,
   "metadata": {},
   "outputs": [
    {
     "name": "stdout",
     "output_type": "stream",
     "text": [
      "[1, 2, 3, 4, 5, 6, 8, 90]\n"
     ]
    }
   ],
   "source": [
    "#Answer 5:\n",
    "mylist = [1, 2, 3, 3, 3, 4, 4, 5, 6, 8, 8, 90, 90, 90, 4]\n",
    "mylist = list(dict.fromkeys(mylist))\n",
    "print(mylist) "
   ]
  },
  {
   "cell_type": "code",
   "execution_count": null,
   "metadata": {},
   "outputs": [],
   "source": []
  }
 ],
 "metadata": {
  "kernelspec": {
   "display_name": "Python 3",
   "language": "python",
   "name": "python3"
  },
  "language_info": {
   "codemirror_mode": {
    "name": "ipython",
    "version": 3
   },
   "file_extension": ".py",
   "mimetype": "text/x-python",
   "name": "python",
   "nbconvert_exporter": "python",
   "pygments_lexer": "ipython3",
   "version": "3.7.6"
  }
 },
 "nbformat": 4,
 "nbformat_minor": 4
}
