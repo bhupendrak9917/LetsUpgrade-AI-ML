{
 "cells": [
  {
   "cell_type": "code",
   "execution_count": 1,
   "id": "cbc692d4",
   "metadata": {},
   "outputs": [],
   "source": [
    "import numpy as np \n",
    "import pandas as pd \n",
    "import seaborn as sns \n",
    "import matplotlib.pyplot as plt \n",
    "from scipy.stats import pearsonr # for pearson's correlation\n",
    "\n",
    "from sklearn.model_selection import train_test_split  \n",
    "from sklearn.preprocessing import StandardScaler,MinMaxScaler,RobustScaler \n",
    "from sklearn.linear_model import LogisticRegression \n",
    "from sklearn.naive_bayes import GaussianNB \n",
    "from sklearn.neighbors import KNeighborsClassifier \n",
    "from sklearn.svm import SVC \n",
    "from sklearn.tree import DecisionTreeClassifier\n",
    "from IPython.display import Image  \n",
    "from sklearn import tree \n",
    "\n",
    "from os import system # using user environment\n",
    "from sklearn.ensemble import BaggingClassifier \n",
    "from sklearn.ensemble import AdaBoostClassifier \n",
    "from sklearn.ensemble import GradientBoostingClassifier \n",
    "from sklearn.ensemble import RandomForestClassifier \n",
    "from sklearn.preprocessing import LabelEncoder \n",
    "\n",
    "from sklearn.tree import export_graphviz \n",
    "#from sklearn.externals.six import StringIO  #for stringIO\n",
    "#import pydotplus \n",
    "#import graphviz \n",
    "from statistics import median,mean\n",
    "\n",
    "from sklearn.metrics import accuracy_score,confusion_matrix,recall_score \n",
    "from sklearn.metrics import precision_score,classification_report,roc_auc_score,precision_score \n",
    "\n",
    "from warnings import filterwarnings\n",
    "filterwarnings(\"ignore\")"
   ]
  },
  {
   "cell_type": "code",
   "execution_count": 2,
   "id": "d7c655f8",
   "metadata": {},
   "outputs": [
    {
     "data": {
      "text/html": [
       "<div>\n",
       "<style scoped>\n",
       "    .dataframe tbody tr th:only-of-type {\n",
       "        vertical-align: middle;\n",
       "    }\n",
       "\n",
       "    .dataframe tbody tr th {\n",
       "        vertical-align: top;\n",
       "    }\n",
       "\n",
       "    .dataframe thead th {\n",
       "        text-align: right;\n",
       "    }\n",
       "</style>\n",
       "<table border=\"1\" class=\"dataframe\">\n",
       "  <thead>\n",
       "    <tr style=\"text-align: right;\">\n",
       "      <th></th>\n",
       "      <th>age</th>\n",
       "      <th>job</th>\n",
       "      <th>marital</th>\n",
       "      <th>education</th>\n",
       "      <th>default</th>\n",
       "      <th>balance</th>\n",
       "      <th>housing</th>\n",
       "      <th>loan</th>\n",
       "      <th>contact</th>\n",
       "      <th>day</th>\n",
       "      <th>month</th>\n",
       "      <th>duration</th>\n",
       "      <th>campaign</th>\n",
       "      <th>pdays</th>\n",
       "      <th>previous</th>\n",
       "      <th>poutcome</th>\n",
       "      <th>Target</th>\n",
       "    </tr>\n",
       "  </thead>\n",
       "  <tbody>\n",
       "    <tr>\n",
       "      <th>0</th>\n",
       "      <td>58</td>\n",
       "      <td>management</td>\n",
       "      <td>married</td>\n",
       "      <td>tertiary</td>\n",
       "      <td>no</td>\n",
       "      <td>2143</td>\n",
       "      <td>yes</td>\n",
       "      <td>no</td>\n",
       "      <td>unknown</td>\n",
       "      <td>5</td>\n",
       "      <td>may</td>\n",
       "      <td>261</td>\n",
       "      <td>1</td>\n",
       "      <td>-1</td>\n",
       "      <td>0</td>\n",
       "      <td>unknown</td>\n",
       "      <td>no</td>\n",
       "    </tr>\n",
       "    <tr>\n",
       "      <th>1</th>\n",
       "      <td>44</td>\n",
       "      <td>technician</td>\n",
       "      <td>single</td>\n",
       "      <td>secondary</td>\n",
       "      <td>no</td>\n",
       "      <td>29</td>\n",
       "      <td>yes</td>\n",
       "      <td>no</td>\n",
       "      <td>unknown</td>\n",
       "      <td>5</td>\n",
       "      <td>may</td>\n",
       "      <td>151</td>\n",
       "      <td>1</td>\n",
       "      <td>-1</td>\n",
       "      <td>0</td>\n",
       "      <td>unknown</td>\n",
       "      <td>no</td>\n",
       "    </tr>\n",
       "    <tr>\n",
       "      <th>2</th>\n",
       "      <td>33</td>\n",
       "      <td>entrepreneur</td>\n",
       "      <td>married</td>\n",
       "      <td>secondary</td>\n",
       "      <td>no</td>\n",
       "      <td>2</td>\n",
       "      <td>yes</td>\n",
       "      <td>yes</td>\n",
       "      <td>unknown</td>\n",
       "      <td>5</td>\n",
       "      <td>may</td>\n",
       "      <td>76</td>\n",
       "      <td>1</td>\n",
       "      <td>-1</td>\n",
       "      <td>0</td>\n",
       "      <td>unknown</td>\n",
       "      <td>no</td>\n",
       "    </tr>\n",
       "    <tr>\n",
       "      <th>3</th>\n",
       "      <td>47</td>\n",
       "      <td>blue-collar</td>\n",
       "      <td>married</td>\n",
       "      <td>unknown</td>\n",
       "      <td>no</td>\n",
       "      <td>1506</td>\n",
       "      <td>yes</td>\n",
       "      <td>no</td>\n",
       "      <td>unknown</td>\n",
       "      <td>5</td>\n",
       "      <td>may</td>\n",
       "      <td>92</td>\n",
       "      <td>1</td>\n",
       "      <td>-1</td>\n",
       "      <td>0</td>\n",
       "      <td>unknown</td>\n",
       "      <td>no</td>\n",
       "    </tr>\n",
       "    <tr>\n",
       "      <th>4</th>\n",
       "      <td>33</td>\n",
       "      <td>unknown</td>\n",
       "      <td>single</td>\n",
       "      <td>unknown</td>\n",
       "      <td>no</td>\n",
       "      <td>1</td>\n",
       "      <td>no</td>\n",
       "      <td>no</td>\n",
       "      <td>unknown</td>\n",
       "      <td>5</td>\n",
       "      <td>may</td>\n",
       "      <td>198</td>\n",
       "      <td>1</td>\n",
       "      <td>-1</td>\n",
       "      <td>0</td>\n",
       "      <td>unknown</td>\n",
       "      <td>no</td>\n",
       "    </tr>\n",
       "  </tbody>\n",
       "</table>\n",
       "</div>"
      ],
      "text/plain": [
       "   age           job  marital  education default  balance housing loan  \\\n",
       "0   58    management  married   tertiary      no     2143     yes   no   \n",
       "1   44    technician   single  secondary      no       29     yes   no   \n",
       "2   33  entrepreneur  married  secondary      no        2     yes  yes   \n",
       "3   47   blue-collar  married    unknown      no     1506     yes   no   \n",
       "4   33       unknown   single    unknown      no        1      no   no   \n",
       "\n",
       "   contact  day month  duration  campaign  pdays  previous poutcome Target  \n",
       "0  unknown    5   may       261         1     -1         0  unknown     no  \n",
       "1  unknown    5   may       151         1     -1         0  unknown     no  \n",
       "2  unknown    5   may        76         1     -1         0  unknown     no  \n",
       "3  unknown    5   may        92         1     -1         0  unknown     no  \n",
       "4  unknown    5   may       198         1     -1         0  unknown     no  "
      ]
     },
     "execution_count": 2,
     "metadata": {},
     "output_type": "execute_result"
    }
   ],
   "source": [
    "DataFrame = pd.read_csv(\"bank-full.csv\") \n",
    "DataFrame.head()"
   ]
  },
  {
   "cell_type": "code",
   "execution_count": 3,
   "id": "0953e216",
   "metadata": {},
   "outputs": [
    {
     "data": {
      "text/html": [
       "<div>\n",
       "<style scoped>\n",
       "    .dataframe tbody tr th:only-of-type {\n",
       "        vertical-align: middle;\n",
       "    }\n",
       "\n",
       "    .dataframe tbody tr th {\n",
       "        vertical-align: top;\n",
       "    }\n",
       "\n",
       "    .dataframe thead th {\n",
       "        text-align: right;\n",
       "    }\n",
       "</style>\n",
       "<table border=\"1\" class=\"dataframe\">\n",
       "  <thead>\n",
       "    <tr style=\"text-align: right;\">\n",
       "      <th></th>\n",
       "      <th>age</th>\n",
       "      <th>job</th>\n",
       "      <th>marital</th>\n",
       "      <th>education</th>\n",
       "      <th>default</th>\n",
       "      <th>balance</th>\n",
       "      <th>housing</th>\n",
       "      <th>loan</th>\n",
       "      <th>contact</th>\n",
       "      <th>day</th>\n",
       "      <th>month</th>\n",
       "      <th>duration</th>\n",
       "      <th>campaign</th>\n",
       "      <th>pdays</th>\n",
       "      <th>previous</th>\n",
       "      <th>poutcome</th>\n",
       "      <th>Target</th>\n",
       "    </tr>\n",
       "  </thead>\n",
       "  <tbody>\n",
       "    <tr>\n",
       "      <th>45206</th>\n",
       "      <td>51</td>\n",
       "      <td>technician</td>\n",
       "      <td>married</td>\n",
       "      <td>tertiary</td>\n",
       "      <td>no</td>\n",
       "      <td>825</td>\n",
       "      <td>no</td>\n",
       "      <td>no</td>\n",
       "      <td>cellular</td>\n",
       "      <td>17</td>\n",
       "      <td>nov</td>\n",
       "      <td>977</td>\n",
       "      <td>3</td>\n",
       "      <td>-1</td>\n",
       "      <td>0</td>\n",
       "      <td>unknown</td>\n",
       "      <td>yes</td>\n",
       "    </tr>\n",
       "    <tr>\n",
       "      <th>45207</th>\n",
       "      <td>71</td>\n",
       "      <td>retired</td>\n",
       "      <td>divorced</td>\n",
       "      <td>primary</td>\n",
       "      <td>no</td>\n",
       "      <td>1729</td>\n",
       "      <td>no</td>\n",
       "      <td>no</td>\n",
       "      <td>cellular</td>\n",
       "      <td>17</td>\n",
       "      <td>nov</td>\n",
       "      <td>456</td>\n",
       "      <td>2</td>\n",
       "      <td>-1</td>\n",
       "      <td>0</td>\n",
       "      <td>unknown</td>\n",
       "      <td>yes</td>\n",
       "    </tr>\n",
       "    <tr>\n",
       "      <th>45208</th>\n",
       "      <td>72</td>\n",
       "      <td>retired</td>\n",
       "      <td>married</td>\n",
       "      <td>secondary</td>\n",
       "      <td>no</td>\n",
       "      <td>5715</td>\n",
       "      <td>no</td>\n",
       "      <td>no</td>\n",
       "      <td>cellular</td>\n",
       "      <td>17</td>\n",
       "      <td>nov</td>\n",
       "      <td>1127</td>\n",
       "      <td>5</td>\n",
       "      <td>184</td>\n",
       "      <td>3</td>\n",
       "      <td>success</td>\n",
       "      <td>yes</td>\n",
       "    </tr>\n",
       "    <tr>\n",
       "      <th>45209</th>\n",
       "      <td>57</td>\n",
       "      <td>blue-collar</td>\n",
       "      <td>married</td>\n",
       "      <td>secondary</td>\n",
       "      <td>no</td>\n",
       "      <td>668</td>\n",
       "      <td>no</td>\n",
       "      <td>no</td>\n",
       "      <td>telephone</td>\n",
       "      <td>17</td>\n",
       "      <td>nov</td>\n",
       "      <td>508</td>\n",
       "      <td>4</td>\n",
       "      <td>-1</td>\n",
       "      <td>0</td>\n",
       "      <td>unknown</td>\n",
       "      <td>no</td>\n",
       "    </tr>\n",
       "    <tr>\n",
       "      <th>45210</th>\n",
       "      <td>37</td>\n",
       "      <td>entrepreneur</td>\n",
       "      <td>married</td>\n",
       "      <td>secondary</td>\n",
       "      <td>no</td>\n",
       "      <td>2971</td>\n",
       "      <td>no</td>\n",
       "      <td>no</td>\n",
       "      <td>cellular</td>\n",
       "      <td>17</td>\n",
       "      <td>nov</td>\n",
       "      <td>361</td>\n",
       "      <td>2</td>\n",
       "      <td>188</td>\n",
       "      <td>11</td>\n",
       "      <td>other</td>\n",
       "      <td>no</td>\n",
       "    </tr>\n",
       "  </tbody>\n",
       "</table>\n",
       "</div>"
      ],
      "text/plain": [
       "       age           job   marital  education default  balance housing loan  \\\n",
       "45206   51    technician   married   tertiary      no      825      no   no   \n",
       "45207   71       retired  divorced    primary      no     1729      no   no   \n",
       "45208   72       retired   married  secondary      no     5715      no   no   \n",
       "45209   57   blue-collar   married  secondary      no      668      no   no   \n",
       "45210   37  entrepreneur   married  secondary      no     2971      no   no   \n",
       "\n",
       "         contact  day month  duration  campaign  pdays  previous poutcome  \\\n",
       "45206   cellular   17   nov       977         3     -1         0  unknown   \n",
       "45207   cellular   17   nov       456         2     -1         0  unknown   \n",
       "45208   cellular   17   nov      1127         5    184         3  success   \n",
       "45209  telephone   17   nov       508         4     -1         0  unknown   \n",
       "45210   cellular   17   nov       361         2    188        11    other   \n",
       "\n",
       "      Target  \n",
       "45206    yes  \n",
       "45207    yes  \n",
       "45208    yes  \n",
       "45209     no  \n",
       "45210     no  "
      ]
     },
     "execution_count": 3,
     "metadata": {},
     "output_type": "execute_result"
    }
   ],
   "source": [
    "DataFrame.tail()"
   ]
  },
  {
   "cell_type": "markdown",
   "id": "3d82dcb8",
   "metadata": {},
   "source": [
    "### Exploratory Data Analysis"
   ]
  },
  {
   "cell_type": "code",
   "execution_count": 4,
   "id": "9d8d7b88",
   "metadata": {},
   "outputs": [
    {
     "name": "stdout",
     "output_type": "stream",
     "text": [
      "Number of rows in dataframe 45211\n",
      "Number of features in dataframe 17\n"
     ]
    }
   ],
   "source": [
    "print('Number of rows in dataframe', DataFrame.shape[0])\n",
    "print('Number of features in dataframe', DataFrame.shape[1])"
   ]
  },
  {
   "cell_type": "code",
   "execution_count": 5,
   "id": "250ed2fa",
   "metadata": {},
   "outputs": [
    {
     "data": {
      "text/html": [
       "<div>\n",
       "<style scoped>\n",
       "    .dataframe tbody tr th:only-of-type {\n",
       "        vertical-align: middle;\n",
       "    }\n",
       "\n",
       "    .dataframe tbody tr th {\n",
       "        vertical-align: top;\n",
       "    }\n",
       "\n",
       "    .dataframe thead th {\n",
       "        text-align: right;\n",
       "    }\n",
       "</style>\n",
       "<table border=\"1\" class=\"dataframe\">\n",
       "  <thead>\n",
       "    <tr style=\"text-align: right;\">\n",
       "      <th></th>\n",
       "      <th>age</th>\n",
       "      <th>job</th>\n",
       "      <th>marital</th>\n",
       "      <th>education</th>\n",
       "      <th>default</th>\n",
       "      <th>balance</th>\n",
       "      <th>housing</th>\n",
       "      <th>loan</th>\n",
       "      <th>contact</th>\n",
       "      <th>day</th>\n",
       "      <th>month</th>\n",
       "      <th>duration</th>\n",
       "      <th>campaign</th>\n",
       "      <th>pdays</th>\n",
       "      <th>previous</th>\n",
       "      <th>poutcome</th>\n",
       "      <th>Target</th>\n",
       "    </tr>\n",
       "  </thead>\n",
       "  <tbody>\n",
       "    <tr>\n",
       "      <th>Datatypes of attributes</th>\n",
       "      <td>int64</td>\n",
       "      <td>object</td>\n",
       "      <td>object</td>\n",
       "      <td>object</td>\n",
       "      <td>object</td>\n",
       "      <td>int64</td>\n",
       "      <td>object</td>\n",
       "      <td>object</td>\n",
       "      <td>object</td>\n",
       "      <td>int64</td>\n",
       "      <td>object</td>\n",
       "      <td>int64</td>\n",
       "      <td>int64</td>\n",
       "      <td>int64</td>\n",
       "      <td>int64</td>\n",
       "      <td>object</td>\n",
       "      <td>object</td>\n",
       "    </tr>\n",
       "  </tbody>\n",
       "</table>\n",
       "</div>"
      ],
      "text/plain": [
       "                           age     job marital education default balance  \\\n",
       "Datatypes of attributes  int64  object  object    object  object   int64   \n",
       "\n",
       "                        housing    loan contact    day   month duration  \\\n",
       "Datatypes of attributes  object  object  object  int64  object    int64   \n",
       "\n",
       "                        campaign  pdays previous poutcome  Target  \n",
       "Datatypes of attributes    int64  int64    int64   object  object  "
      ]
     },
     "execution_count": 5,
     "metadata": {},
     "output_type": "execute_result"
    }
   ],
   "source": [
    "DataFrame.dtypes.to_frame('Datatypes of attributes').T"
   ]
  },
  {
   "cell_type": "code",
   "execution_count": 6,
   "id": "1b70f887",
   "metadata": {},
   "outputs": [
    {
     "data": {
      "text/html": [
       "<div>\n",
       "<style scoped>\n",
       "    .dataframe tbody tr th:only-of-type {\n",
       "        vertical-align: middle;\n",
       "    }\n",
       "\n",
       "    .dataframe tbody tr th {\n",
       "        vertical-align: top;\n",
       "    }\n",
       "\n",
       "    .dataframe thead th {\n",
       "        text-align: right;\n",
       "    }\n",
       "</style>\n",
       "<table border=\"1\" class=\"dataframe\">\n",
       "  <thead>\n",
       "    <tr style=\"text-align: right;\">\n",
       "      <th></th>\n",
       "      <th>age</th>\n",
       "      <th>job</th>\n",
       "      <th>marital</th>\n",
       "      <th>education</th>\n",
       "      <th>default</th>\n",
       "      <th>balance</th>\n",
       "      <th>housing</th>\n",
       "      <th>loan</th>\n",
       "      <th>contact</th>\n",
       "      <th>day</th>\n",
       "      <th>month</th>\n",
       "      <th>duration</th>\n",
       "      <th>campaign</th>\n",
       "      <th>pdays</th>\n",
       "      <th>previous</th>\n",
       "      <th>poutcome</th>\n",
       "      <th>Target</th>\n",
       "    </tr>\n",
       "  </thead>\n",
       "  <tbody>\n",
       "    <tr>\n",
       "      <th>Datatypes of attributes</th>\n",
       "      <td>int64</td>\n",
       "      <td>category</td>\n",
       "      <td>category</td>\n",
       "      <td>category</td>\n",
       "      <td>category</td>\n",
       "      <td>int64</td>\n",
       "      <td>category</td>\n",
       "      <td>category</td>\n",
       "      <td>category</td>\n",
       "      <td>int64</td>\n",
       "      <td>category</td>\n",
       "      <td>int64</td>\n",
       "      <td>int64</td>\n",
       "      <td>int64</td>\n",
       "      <td>int64</td>\n",
       "      <td>category</td>\n",
       "      <td>category</td>\n",
       "    </tr>\n",
       "  </tbody>\n",
       "</table>\n",
       "</div>"
      ],
      "text/plain": [
       "                           age       job   marital education   default  \\\n",
       "Datatypes of attributes  int64  category  category  category  category   \n",
       "\n",
       "                        balance   housing      loan   contact    day  \\\n",
       "Datatypes of attributes   int64  category  category  category  int64   \n",
       "\n",
       "                            month duration campaign  pdays previous  poutcome  \\\n",
       "Datatypes of attributes  category    int64    int64  int64    int64  category   \n",
       "\n",
       "                           Target  \n",
       "Datatypes of attributes  category  "
      ]
     },
     "execution_count": 6,
     "metadata": {},
     "output_type": "execute_result"
    }
   ],
   "source": [
    "DataFrame[['job','marital','education','default','housing','loan','contact','month','poutcome','Target']] = DataFrame[['job','marital','education','default','housing','loan','contact','month','poutcome','Target']].apply(pd.Categorical)\n",
    "DataFrame.dtypes.to_frame('Datatypes of attributes').T"
   ]
  },
  {
   "cell_type": "markdown",
   "id": "7eb537b4",
   "metadata": {},
   "source": [
    "### Checking the presence of missing values"
   ]
  },
  {
   "cell_type": "code",
   "execution_count": 7,
   "id": "9dcd7c58",
   "metadata": {},
   "outputs": [
    {
     "data": {
      "text/html": [
       "<div>\n",
       "<style scoped>\n",
       "    .dataframe tbody tr th:only-of-type {\n",
       "        vertical-align: middle;\n",
       "    }\n",
       "\n",
       "    .dataframe tbody tr th {\n",
       "        vertical-align: top;\n",
       "    }\n",
       "\n",
       "    .dataframe thead th {\n",
       "        text-align: right;\n",
       "    }\n",
       "</style>\n",
       "<table border=\"1\" class=\"dataframe\">\n",
       "  <thead>\n",
       "    <tr style=\"text-align: right;\">\n",
       "      <th></th>\n",
       "      <th>age</th>\n",
       "      <th>job</th>\n",
       "      <th>marital</th>\n",
       "      <th>education</th>\n",
       "      <th>default</th>\n",
       "      <th>balance</th>\n",
       "      <th>housing</th>\n",
       "      <th>loan</th>\n",
       "      <th>contact</th>\n",
       "      <th>day</th>\n",
       "      <th>month</th>\n",
       "      <th>duration</th>\n",
       "      <th>campaign</th>\n",
       "      <th>pdays</th>\n",
       "      <th>previous</th>\n",
       "      <th>poutcome</th>\n",
       "      <th>Target</th>\n",
       "    </tr>\n",
       "  </thead>\n",
       "  <tbody>\n",
       "    <tr>\n",
       "      <th>Presence of missing values</th>\n",
       "      <td>0</td>\n",
       "      <td>0</td>\n",
       "      <td>0</td>\n",
       "      <td>0</td>\n",
       "      <td>0</td>\n",
       "      <td>0</td>\n",
       "      <td>0</td>\n",
       "      <td>0</td>\n",
       "      <td>0</td>\n",
       "      <td>0</td>\n",
       "      <td>0</td>\n",
       "      <td>0</td>\n",
       "      <td>0</td>\n",
       "      <td>0</td>\n",
       "      <td>0</td>\n",
       "      <td>0</td>\n",
       "      <td>0</td>\n",
       "    </tr>\n",
       "  </tbody>\n",
       "</table>\n",
       "</div>"
      ],
      "text/plain": [
       "                            age  job  marital  education  default  balance  \\\n",
       "Presence of missing values    0    0        0          0        0        0   \n",
       "\n",
       "                            housing  loan  contact  day  month  duration  \\\n",
       "Presence of missing values        0     0        0    0      0         0   \n",
       "\n",
       "                            campaign  pdays  previous  poutcome  Target  \n",
       "Presence of missing values         0      0         0         0       0  "
      ]
     },
     "execution_count": 7,
     "metadata": {},
     "output_type": "execute_result"
    }
   ],
   "source": [
    "DataFrame.isnull().sum().to_frame('Presence of missing values').T"
   ]
  },
  {
   "cell_type": "code",
   "execution_count": 8,
   "id": "ce9a47a7",
   "metadata": {},
   "outputs": [
    {
     "data": {
      "text/plain": [
       "unknown    36959\n",
       "failure     4901\n",
       "other       1840\n",
       "success     1511\n",
       "Name: poutcome, dtype: int64"
      ]
     },
     "execution_count": 8,
     "metadata": {},
     "output_type": "execute_result"
    }
   ],
   "source": [
    "DataFrame['poutcome'].value_counts()"
   ]
  },
  {
   "cell_type": "code",
   "execution_count": 9,
   "id": "a212e214",
   "metadata": {},
   "outputs": [
    {
     "data": {
      "text/plain": [
       "cellular     29285\n",
       "unknown      13020\n",
       "telephone     2906\n",
       "Name: contact, dtype: int64"
      ]
     },
     "execution_count": 9,
     "metadata": {},
     "output_type": "execute_result"
    }
   ],
   "source": [
    "DataFrame['contact'].value_counts()"
   ]
  },
  {
   "cell_type": "code",
   "execution_count": 10,
   "id": "36aa5503",
   "metadata": {},
   "outputs": [
    {
     "data": {
      "text/plain": [
       "secondary    23202\n",
       "tertiary     13301\n",
       "primary       6851\n",
       "unknown       1857\n",
       "Name: education, dtype: int64"
      ]
     },
     "execution_count": 10,
     "metadata": {},
     "output_type": "execute_result"
    }
   ],
   "source": [
    "DataFrame['education'].value_counts()"
   ]
  },
  {
   "cell_type": "code",
   "execution_count": 11,
   "id": "61b91c0e",
   "metadata": {},
   "outputs": [
    {
     "data": {
      "text/plain": [
       "blue-collar      9732\n",
       "management       9458\n",
       "technician       7597\n",
       "admin.           5171\n",
       "services         4154\n",
       "retired          2264\n",
       "self-employed    1579\n",
       "entrepreneur     1487\n",
       "unemployed       1303\n",
       "housemaid        1240\n",
       "student           938\n",
       "unknown           288\n",
       "Name: job, dtype: int64"
      ]
     },
     "execution_count": 11,
     "metadata": {},
     "output_type": "execute_result"
    }
   ],
   "source": [
    "DataFrame['job'].value_counts()"
   ]
  },
  {
   "cell_type": "markdown",
   "id": "0fa4ffcd",
   "metadata": {},
   "source": [
    "### 5 point summary of numerical attribute"
   ]
  },
  {
   "cell_type": "code",
   "execution_count": 12,
   "id": "51909b7e",
   "metadata": {},
   "outputs": [
    {
     "data": {
      "text/html": [
       "<div>\n",
       "<style scoped>\n",
       "    .dataframe tbody tr th:only-of-type {\n",
       "        vertical-align: middle;\n",
       "    }\n",
       "\n",
       "    .dataframe tbody tr th {\n",
       "        vertical-align: top;\n",
       "    }\n",
       "\n",
       "    .dataframe thead th {\n",
       "        text-align: right;\n",
       "    }\n",
       "</style>\n",
       "<table border=\"1\" class=\"dataframe\">\n",
       "  <thead>\n",
       "    <tr style=\"text-align: right;\">\n",
       "      <th></th>\n",
       "      <th>count</th>\n",
       "      <th>mean</th>\n",
       "      <th>std</th>\n",
       "      <th>min</th>\n",
       "      <th>25%</th>\n",
       "      <th>50%</th>\n",
       "      <th>75%</th>\n",
       "      <th>max</th>\n",
       "    </tr>\n",
       "  </thead>\n",
       "  <tbody>\n",
       "    <tr>\n",
       "      <th>age</th>\n",
       "      <td>45211.0</td>\n",
       "      <td>40.936210</td>\n",
       "      <td>10.618762</td>\n",
       "      <td>18.0</td>\n",
       "      <td>33.0</td>\n",
       "      <td>39.0</td>\n",
       "      <td>48.0</td>\n",
       "      <td>95.0</td>\n",
       "    </tr>\n",
       "    <tr>\n",
       "      <th>balance</th>\n",
       "      <td>45211.0</td>\n",
       "      <td>1362.272058</td>\n",
       "      <td>3044.765829</td>\n",
       "      <td>-8019.0</td>\n",
       "      <td>72.0</td>\n",
       "      <td>448.0</td>\n",
       "      <td>1428.0</td>\n",
       "      <td>102127.0</td>\n",
       "    </tr>\n",
       "    <tr>\n",
       "      <th>day</th>\n",
       "      <td>45211.0</td>\n",
       "      <td>15.806419</td>\n",
       "      <td>8.322476</td>\n",
       "      <td>1.0</td>\n",
       "      <td>8.0</td>\n",
       "      <td>16.0</td>\n",
       "      <td>21.0</td>\n",
       "      <td>31.0</td>\n",
       "    </tr>\n",
       "    <tr>\n",
       "      <th>duration</th>\n",
       "      <td>45211.0</td>\n",
       "      <td>258.163080</td>\n",
       "      <td>257.527812</td>\n",
       "      <td>0.0</td>\n",
       "      <td>103.0</td>\n",
       "      <td>180.0</td>\n",
       "      <td>319.0</td>\n",
       "      <td>4918.0</td>\n",
       "    </tr>\n",
       "    <tr>\n",
       "      <th>campaign</th>\n",
       "      <td>45211.0</td>\n",
       "      <td>2.763841</td>\n",
       "      <td>3.098021</td>\n",
       "      <td>1.0</td>\n",
       "      <td>1.0</td>\n",
       "      <td>2.0</td>\n",
       "      <td>3.0</td>\n",
       "      <td>63.0</td>\n",
       "    </tr>\n",
       "    <tr>\n",
       "      <th>pdays</th>\n",
       "      <td>45211.0</td>\n",
       "      <td>40.197828</td>\n",
       "      <td>100.128746</td>\n",
       "      <td>-1.0</td>\n",
       "      <td>-1.0</td>\n",
       "      <td>-1.0</td>\n",
       "      <td>-1.0</td>\n",
       "      <td>871.0</td>\n",
       "    </tr>\n",
       "    <tr>\n",
       "      <th>previous</th>\n",
       "      <td>45211.0</td>\n",
       "      <td>0.580323</td>\n",
       "      <td>2.303441</td>\n",
       "      <td>0.0</td>\n",
       "      <td>0.0</td>\n",
       "      <td>0.0</td>\n",
       "      <td>0.0</td>\n",
       "      <td>275.0</td>\n",
       "    </tr>\n",
       "  </tbody>\n",
       "</table>\n",
       "</div>"
      ],
      "text/plain": [
       "            count         mean          std     min    25%    50%     75%  \\\n",
       "age       45211.0    40.936210    10.618762    18.0   33.0   39.0    48.0   \n",
       "balance   45211.0  1362.272058  3044.765829 -8019.0   72.0  448.0  1428.0   \n",
       "day       45211.0    15.806419     8.322476     1.0    8.0   16.0    21.0   \n",
       "duration  45211.0   258.163080   257.527812     0.0  103.0  180.0   319.0   \n",
       "campaign  45211.0     2.763841     3.098021     1.0    1.0    2.0     3.0   \n",
       "pdays     45211.0    40.197828   100.128746    -1.0   -1.0   -1.0    -1.0   \n",
       "previous  45211.0     0.580323     2.303441     0.0    0.0    0.0     0.0   \n",
       "\n",
       "               max  \n",
       "age           95.0  \n",
       "balance   102127.0  \n",
       "day           31.0  \n",
       "duration    4918.0  \n",
       "campaign      63.0  \n",
       "pdays        871.0  \n",
       "previous     275.0  "
      ]
     },
     "execution_count": 12,
     "metadata": {},
     "output_type": "execute_result"
    }
   ],
   "source": [
    "DataFrame.describe().T"
   ]
  },
  {
   "cell_type": "code",
   "execution_count": 13,
   "id": "c0f05a5b",
   "metadata": {},
   "outputs": [
    {
     "data": {
      "text/html": [
       "<div>\n",
       "<style scoped>\n",
       "    .dataframe tbody tr th:only-of-type {\n",
       "        vertical-align: middle;\n",
       "    }\n",
       "\n",
       "    .dataframe tbody tr th {\n",
       "        vertical-align: top;\n",
       "    }\n",
       "\n",
       "    .dataframe thead th {\n",
       "        text-align: right;\n",
       "    }\n",
       "</style>\n",
       "<table border=\"1\" class=\"dataframe\">\n",
       "  <thead>\n",
       "    <tr style=\"text-align: right;\">\n",
       "      <th></th>\n",
       "      <th>age</th>\n",
       "      <th>job</th>\n",
       "      <th>marital</th>\n",
       "      <th>education</th>\n",
       "      <th>default</th>\n",
       "      <th>balance</th>\n",
       "      <th>housing</th>\n",
       "      <th>loan</th>\n",
       "      <th>contact</th>\n",
       "      <th>day</th>\n",
       "      <th>month</th>\n",
       "      <th>duration</th>\n",
       "      <th>campaign</th>\n",
       "      <th>pdays</th>\n",
       "      <th>previous</th>\n",
       "      <th>poutcome</th>\n",
       "      <th>Target</th>\n",
       "    </tr>\n",
       "  </thead>\n",
       "  <tbody>\n",
       "  </tbody>\n",
       "</table>\n",
       "</div>"
      ],
      "text/plain": [
       "Empty DataFrame\n",
       "Columns: [age, job, marital, education, default, balance, housing, loan, contact, day, month, duration, campaign, pdays, previous, poutcome, Target]\n",
       "Index: []"
      ]
     },
     "execution_count": 13,
     "metadata": {},
     "output_type": "execute_result"
    }
   ],
   "source": [
    "DataFrame.loc[DataFrame['pdays'] == 999]"
   ]
  },
  {
   "cell_type": "code",
   "execution_count": 14,
   "id": "cb1057ce",
   "metadata": {},
   "outputs": [
    {
     "data": {
      "image/png": "[encoded data removed]",
      "text/plain": [
       "<Figure size 720x1080 with 8 Axes>"
      ]
     },
     "metadata": {
      "needs_background": "light"
     },
     "output_type": "display_data"
    }
   ],
   "source": [
    "fig, axe=plt.subplots(nrows=4, ncols=2, figsize=(10, 15)) \n",
    "axe=axe.flatten()\n",
    "sns.distplot(DataFrame['age'],ax=axe[0]) \n",
    "sns.distplot(DataFrame['balance'],ax=axe[1])\n",
    "sns.distplot(DataFrame['day'],ax=axe[2]) \n",
    "sns.distplot(DataFrame['duration'],ax=axe[3]) \n",
    "sns.distplot(DataFrame['campaign'],ax=axe[4]) \n",
    "sns.distplot(DataFrame['pdays'],ax=axe[5]) \n",
    "sns.distplot(DataFrame['previous'],ax=axe[6])\n",
    "fig.tight_layout()\n",
    "fig.show()\n",
    "axe.flat[-1].set_visible(False)"
   ]
  },
  {
   "cell_type": "code",
   "execution_count": 15,
   "id": "6ac9a845",
   "metadata": {},
   "outputs": [
    {
     "data": {
      "image/png": "[encoded data removed]",
      "text/plain": [
       "<Figure size 720x1296 with 10 Axes>"
      ]
     },
     "metadata": {
      "needs_background": "light"
     },
     "output_type": "display_data"
    }
   ],
   "source": [
    "fig, axe = plt.subplots(nrows=5, ncols=2, figsize=(10, 18)) \n",
    "axe = axe.flatten() \n",
    "plot=sns.countplot(x=DataFrame['job'],data=DataFrame,ax=axe[0]) \n",
    "plt.setp(plot.get_xticklabels(), rotation=90)\n",
    "sns.countplot(x=DataFrame['marital'],data=DataFrame,ax=axe[1]) \n",
    "sns.countplot(x=DataFrame['education'],data=DataFrame,ax=axe[2]) \n",
    "sns.countplot(x=DataFrame['default'],data=DataFrame,ax=axe[3]) \n",
    "sns.countplot(x=DataFrame['housing'],data=DataFrame,ax=axe[4]) \n",
    "sns.countplot(x=DataFrame['loan'],data=DataFrame,ax=axe[5]) \n",
    "sns.countplot(x=DataFrame['contact'],data=DataFrame,ax=axe[6]) \n",
    "sns.countplot(x=DataFrame['month'],data=DataFrame,ax=axe[7])  \n",
    "sns.countplot(x=DataFrame['poutcome'],data=DataFrame,ax=axe[8]) \n",
    "sns.countplot(x=DataFrame['Target'],data=DataFrame,ax=axe[9])  \n",
    "fig.tight_layout() \n",
    "fig.show()"
   ]
  },
  {
   "cell_type": "code",
   "execution_count": 16,
   "id": "6a8fd96c",
   "metadata": {},
   "outputs": [
    {
     "data": {
      "text/html": [
       "<div>\n",
       "<style scoped>\n",
       "    .dataframe tbody tr th:only-of-type {\n",
       "        vertical-align: middle;\n",
       "    }\n",
       "\n",
       "    .dataframe tbody tr th {\n",
       "        vertical-align: top;\n",
       "    }\n",
       "\n",
       "    .dataframe thead th {\n",
       "        text-align: right;\n",
       "    }\n",
       "</style>\n",
       "<table border=\"1\" class=\"dataframe\">\n",
       "  <thead>\n",
       "    <tr style=\"text-align: right;\">\n",
       "      <th></th>\n",
       "      <th>age</th>\n",
       "      <th>balance</th>\n",
       "      <th>day</th>\n",
       "      <th>duration</th>\n",
       "      <th>campaign</th>\n",
       "      <th>pdays</th>\n",
       "      <th>previous</th>\n",
       "    </tr>\n",
       "  </thead>\n",
       "  <tbody>\n",
       "    <tr>\n",
       "      <th>Skewness measure</th>\n",
       "      <td>0.684818</td>\n",
       "      <td>8.360308</td>\n",
       "      <td>0.093079</td>\n",
       "      <td>3.144318</td>\n",
       "      <td>4.89865</td>\n",
       "      <td>2.615715</td>\n",
       "      <td>41.846454</td>\n",
       "    </tr>\n",
       "  </tbody>\n",
       "</table>\n",
       "</div>"
      ],
      "text/plain": [
       "                       age   balance       day  duration  campaign     pdays  \\\n",
       "Skewness measure  0.684818  8.360308  0.093079  3.144318   4.89865  2.615715   \n",
       "\n",
       "                   previous  \n",
       "Skewness measure  41.846454  "
      ]
     },
     "execution_count": 16,
     "metadata": {},
     "output_type": "execute_result"
    }
   ],
   "source": [
    "DataFrame.skew().to_frame('Skewness measure').T"
   ]
  },
  {
   "cell_type": "code",
   "execution_count": 17,
   "id": "d9ee20a2",
   "metadata": {},
   "outputs": [
    {
     "data": {
      "image/png": "[encoded data removed]",
      "text/plain": [
       "<Figure size 720x864 with 8 Axes>"
      ]
     },
     "metadata": {
      "needs_background": "light"
     },
     "output_type": "display_data"
    }
   ],
   "source": [
    "fig, axe = plt.subplots(nrows=4, ncols=2, figsize=(10, 12))\n",
    "axe = axe.flatten()#to flatten subplot index positions\n",
    "sns.boxplot(x='age',data=DataFrame,color='springgreen',ax=axe[0]) #Box plot of 'ID' for finding outliers \n",
    "sns.boxplot(x='balance',data=DataFrame,color='springgreen',ax=axe[1]) #Box plot of 'Family' \n",
    "sns.boxplot(x='day',data=DataFrame,color='springgreen',ax=axe[2]) #Box plot of 'Personal Loan' \n",
    "sns.boxplot(x='duration',data=DataFrame,color='springgreen',ax=axe[3]) #Box plot of 'CD Account' \n",
    "sns.boxplot(x='campaign',data=DataFrame,color='springgreen',ax=axe[4]) #Box plot of 'Online' \n",
    "sns.boxplot(x='pdays',data=DataFrame,color='springgreen',ax=axe[5]) #Box plot of 'CreditCard'\n",
    "sns.boxplot(x='previous',data=DataFrame,color='springgreen',ax=axe[6]) #Box plot of 'CreditCard' \n",
    "fig.tight_layout() #for arranging the plots\n",
    "fig.show() #display plots\n",
    "axe.flat[-1].set_visible(False)"
   ]
  },
  {
   "cell_type": "code",
   "execution_count": 18,
   "id": "1a3d5f56",
   "metadata": {},
   "outputs": [
    {
     "data": {
      "text/html": [
       "<div>\n",
       "<style scoped>\n",
       "    .dataframe tbody tr th:only-of-type {\n",
       "        vertical-align: middle;\n",
       "    }\n",
       "\n",
       "    .dataframe tbody tr th {\n",
       "        vertical-align: top;\n",
       "    }\n",
       "\n",
       "    .dataframe thead th {\n",
       "        text-align: right;\n",
       "    }\n",
       "</style>\n",
       "<table border=\"1\" class=\"dataframe\">\n",
       "  <thead>\n",
       "    <tr style=\"text-align: right;\">\n",
       "      <th></th>\n",
       "      <th>Target column distriution</th>\n",
       "    </tr>\n",
       "  </thead>\n",
       "  <tbody>\n",
       "    <tr>\n",
       "      <th>no</th>\n",
       "      <td>39922</td>\n",
       "    </tr>\n",
       "    <tr>\n",
       "      <th>yes</th>\n",
       "      <td>5289</td>\n",
       "    </tr>\n",
       "  </tbody>\n",
       "</table>\n",
       "</div>"
      ],
      "text/plain": [
       "     Target column distriution\n",
       "no                       39922\n",
       "yes                       5289"
      ]
     },
     "execution_count": 18,
     "metadata": {},
     "output_type": "execute_result"
    }
   ],
   "source": [
    "DataFrame['Target'].value_counts().to_frame('Target column distriution')"
   ]
  },
  {
   "cell_type": "markdown",
   "id": "b0b4a81b",
   "metadata": {},
   "source": [
    "### Data Preprocessing:"
   ]
  },
  {
   "cell_type": "code",
   "execution_count": 19,
   "id": "6de0f399",
   "metadata": {},
   "outputs": [
    {
     "data": {
      "text/html": [
       "<div>\n",
       "<style scoped>\n",
       "    .dataframe tbody tr th:only-of-type {\n",
       "        vertical-align: middle;\n",
       "    }\n",
       "\n",
       "    .dataframe tbody tr th {\n",
       "        vertical-align: top;\n",
       "    }\n",
       "\n",
       "    .dataframe thead th {\n",
       "        text-align: right;\n",
       "    }\n",
       "</style>\n",
       "<table border=\"1\" class=\"dataframe\">\n",
       "  <thead>\n",
       "    <tr style=\"text-align: right;\">\n",
       "      <th></th>\n",
       "      <th>age</th>\n",
       "      <th>job</th>\n",
       "      <th>marital</th>\n",
       "      <th>education</th>\n",
       "      <th>default</th>\n",
       "      <th>balance</th>\n",
       "      <th>housing</th>\n",
       "      <th>loan</th>\n",
       "      <th>contact</th>\n",
       "      <th>day</th>\n",
       "      <th>month</th>\n",
       "      <th>duration</th>\n",
       "      <th>campaign</th>\n",
       "      <th>pdays</th>\n",
       "      <th>previous</th>\n",
       "      <th>poutcome</th>\n",
       "      <th>Target</th>\n",
       "    </tr>\n",
       "  </thead>\n",
       "  <tbody>\n",
       "    <tr>\n",
       "      <th>0</th>\n",
       "      <td>58</td>\n",
       "      <td>management</td>\n",
       "      <td>1</td>\n",
       "      <td>2</td>\n",
       "      <td>0</td>\n",
       "      <td>2143</td>\n",
       "      <td>1</td>\n",
       "      <td>0</td>\n",
       "      <td>unknown</td>\n",
       "      <td>5</td>\n",
       "      <td>8</td>\n",
       "      <td>261</td>\n",
       "      <td>1</td>\n",
       "      <td>-1</td>\n",
       "      <td>0</td>\n",
       "      <td>3</td>\n",
       "      <td>0</td>\n",
       "    </tr>\n",
       "    <tr>\n",
       "      <th>1</th>\n",
       "      <td>44</td>\n",
       "      <td>technician</td>\n",
       "      <td>2</td>\n",
       "      <td>1</td>\n",
       "      <td>0</td>\n",
       "      <td>29</td>\n",
       "      <td>1</td>\n",
       "      <td>0</td>\n",
       "      <td>unknown</td>\n",
       "      <td>5</td>\n",
       "      <td>8</td>\n",
       "      <td>151</td>\n",
       "      <td>1</td>\n",
       "      <td>-1</td>\n",
       "      <td>0</td>\n",
       "      <td>3</td>\n",
       "      <td>0</td>\n",
       "    </tr>\n",
       "    <tr>\n",
       "      <th>2</th>\n",
       "      <td>33</td>\n",
       "      <td>entrepreneur</td>\n",
       "      <td>1</td>\n",
       "      <td>1</td>\n",
       "      <td>0</td>\n",
       "      <td>2</td>\n",
       "      <td>1</td>\n",
       "      <td>1</td>\n",
       "      <td>unknown</td>\n",
       "      <td>5</td>\n",
       "      <td>8</td>\n",
       "      <td>76</td>\n",
       "      <td>1</td>\n",
       "      <td>-1</td>\n",
       "      <td>0</td>\n",
       "      <td>3</td>\n",
       "      <td>0</td>\n",
       "    </tr>\n",
       "    <tr>\n",
       "      <th>3</th>\n",
       "      <td>47</td>\n",
       "      <td>blue-collar</td>\n",
       "      <td>1</td>\n",
       "      <td>3</td>\n",
       "      <td>0</td>\n",
       "      <td>1506</td>\n",
       "      <td>1</td>\n",
       "      <td>0</td>\n",
       "      <td>unknown</td>\n",
       "      <td>5</td>\n",
       "      <td>8</td>\n",
       "      <td>92</td>\n",
       "      <td>1</td>\n",
       "      <td>-1</td>\n",
       "      <td>0</td>\n",
       "      <td>3</td>\n",
       "      <td>0</td>\n",
       "    </tr>\n",
       "    <tr>\n",
       "      <th>4</th>\n",
       "      <td>33</td>\n",
       "      <td>unknown</td>\n",
       "      <td>2</td>\n",
       "      <td>3</td>\n",
       "      <td>0</td>\n",
       "      <td>1</td>\n",
       "      <td>0</td>\n",
       "      <td>0</td>\n",
       "      <td>unknown</td>\n",
       "      <td>5</td>\n",
       "      <td>8</td>\n",
       "      <td>198</td>\n",
       "      <td>1</td>\n",
       "      <td>-1</td>\n",
       "      <td>0</td>\n",
       "      <td>3</td>\n",
       "      <td>0</td>\n",
       "    </tr>\n",
       "  </tbody>\n",
       "</table>\n",
       "</div>"
      ],
      "text/plain": [
       "   age           job  marital  education  default  balance  housing  loan  \\\n",
       "0   58    management        1          2        0     2143        1     0   \n",
       "1   44    technician        2          1        0       29        1     0   \n",
       "2   33  entrepreneur        1          1        0        2        1     1   \n",
       "3   47   blue-collar        1          3        0     1506        1     0   \n",
       "4   33       unknown        2          3        0        1        0     0   \n",
       "\n",
       "   contact  day  month  duration  campaign  pdays  previous  poutcome  Target  \n",
       "0  unknown    5      8       261         1     -1         0         3       0  \n",
       "1  unknown    5      8       151         1     -1         0         3       0  \n",
       "2  unknown    5      8        76         1     -1         0         3       0  \n",
       "3  unknown    5      8        92         1     -1         0         3       0  \n",
       "4  unknown    5      8       198         1     -1         0         3       0  "
      ]
     },
     "execution_count": 19,
     "metadata": {},
     "output_type": "execute_result"
    }
   ],
   "source": [
    "df_2 = DataFrame.copy() #making a copy of dataframe 'df_2'\n",
    "encoder = LabelEncoder() #creating object of LabelEncoder \n",
    "df_2['default'] = encoder.fit_transform(df_2['default']).astype(int) #encoding 'default' column \n",
    "df_2['marital'] = encoder.fit_transform(df_2['marital']).astype(int) #encoding 'marital' column and assigning 1 married, 2 divorced and 3 single \n",
    "df_2['loan'] = encoder.fit_transform(df_2['loan']).astype(int) #encoding 'loan' column and assigning 0 no and 1 yes values\n",
    "df_2['housing'] = encoder.fit_transform(df_2['housing']).astype(int) #encoding 'housing' column and assigning 0 no and 1 yes values\n",
    "df_2['Target'] = encoder.fit_transform(df_2['Target']).astype(int) #encoding 'target' column and assigning 0 no and 1 yes values\n",
    "df_2['month'] = encoder.fit_transform(df_2['month']).astype(int)#encoding 'month' column and assigning 0-11 values\n",
    "df_2['poutcome'] = encoder.fit_transform(df_2['poutcome']).astype(int)#encoding 'month' column and assigning 0-11 values\n",
    "df_2['education'] = encoder.fit_transform(df_2['education']).astype(int)#encoding 'month' column and assigning 0-11 values\n",
    "df_2.head()"
   ]
  },
  {
   "cell_type": "markdown",
   "id": "386dd53a",
   "metadata": {},
   "source": [
    "### Checking & modifying datatypes after Label Encoding"
   ]
  },
  {
   "cell_type": "code",
   "execution_count": 20,
   "id": "60982221",
   "metadata": {},
   "outputs": [
    {
     "name": "stdout",
     "output_type": "stream",
     "text": [
      "<class 'pandas.core.frame.DataFrame'>\n",
      "RangeIndex: 45211 entries, 0 to 45210\n",
      "Data columns (total 17 columns):\n",
      " #   Column     Non-Null Count  Dtype   \n",
      "---  ------     --------------  -----   \n",
      " 0   age        45211 non-null  int64   \n",
      " 1   job        45211 non-null  category\n",
      " 2   marital    45211 non-null  int32   \n",
      " 3   education  45211 non-null  int32   \n",
      " 4   default    45211 non-null  int32   \n",
      " 5   balance    45211 non-null  int64   \n",
      " 6   housing    45211 non-null  int32   \n",
      " 7   loan       45211 non-null  int32   \n",
      " 8   contact    45211 non-null  category\n",
      " 9   day        45211 non-null  int64   \n",
      " 10  month      45211 non-null  int32   \n",
      " 11  duration   45211 non-null  int64   \n",
      " 12  campaign   45211 non-null  int64   \n",
      " 13  pdays      45211 non-null  int64   \n",
      " 14  previous   45211 non-null  int64   \n",
      " 15  poutcome   45211 non-null  int32   \n",
      " 16  Target     45211 non-null  int32   \n",
      "dtypes: category(2), int32(8), int64(7)\n",
      "memory usage: 3.9 MB\n"
     ]
    }
   ],
   "source": [
    "df_2.info()"
   ]
  },
  {
   "cell_type": "code",
   "execution_count": 21,
   "id": "e1d21de9",
   "metadata": {},
   "outputs": [],
   "source": [
    "df_2[['job','marital','education','default','housing','loan','contact','month','poutcome','Target']] = df_2[['job','marital','education','default','housing','loan','contact','month','poutcome','Target']].apply(pd.Categorical)"
   ]
  },
  {
   "cell_type": "code",
   "execution_count": 22,
   "id": "357eac20",
   "metadata": {},
   "outputs": [
    {
     "name": "stdout",
     "output_type": "stream",
     "text": [
      "<class 'pandas.core.frame.DataFrame'>\n",
      "RangeIndex: 45211 entries, 0 to 45210\n",
      "Data columns (total 17 columns):\n",
      " #   Column     Non-Null Count  Dtype   \n",
      "---  ------     --------------  -----   \n",
      " 0   age        45211 non-null  int64   \n",
      " 1   job        45211 non-null  category\n",
      " 2   marital    45211 non-null  category\n",
      " 3   education  45211 non-null  category\n",
      " 4   default    45211 non-null  category\n",
      " 5   balance    45211 non-null  int64   \n",
      " 6   housing    45211 non-null  category\n",
      " 7   loan       45211 non-null  category\n",
      " 8   contact    45211 non-null  category\n",
      " 9   day        45211 non-null  int64   \n",
      " 10  month      45211 non-null  category\n",
      " 11  duration   45211 non-null  int64   \n",
      " 12  campaign   45211 non-null  int64   \n",
      " 13  pdays      45211 non-null  int64   \n",
      " 14  previous   45211 non-null  int64   \n",
      " 15  poutcome   45211 non-null  category\n",
      " 16  Target     45211 non-null  category\n",
      "dtypes: category(10), int64(7)\n",
      "memory usage: 2.8 MB\n"
     ]
    }
   ],
   "source": [
    "df_2.info()"
   ]
  },
  {
   "cell_type": "markdown",
   "id": "2bb49ebb",
   "metadata": {},
   "source": [
    "### Handeling Outliers with mean replacement"
   ]
  },
  {
   "cell_type": "code",
   "execution_count": 23,
   "id": "8dd11a05",
   "metadata": {},
   "outputs": [
    {
     "name": "stdout",
     "output_type": "stream",
     "text": [
      "\u001b[1mBoxplots after handeling outliers\n"
     ]
    },
    {
     "data": {
      "image/png": "[encoded data removed]",
      "text/plain": [
       "<Figure size 720x864 with 8 Axes>"
      ]
     },
     "metadata": {
      "needs_background": "light"
     },
     "output_type": "display_data"
    }
   ],
   "source": [
    "\n",
    "meanbal = float(df_2['balance'].mean()) #mean balance\n",
    "df_2['balance'] = np.where(df_2['balance'] >np.percentile(df_2['balance'], 75), meanbal,df_2['balance']) #replacing with mean\n",
    "\n",
    "meandur = float(df_2['duration'].mean()) #mean duration\n",
    "df_2['duration'] = np.where(df_2['duration'] >np.percentile(df_2['duration'], 75), meandur,df_2['duration'])#replacing with mean\n",
    "\n",
    "meancam = float(df_2['campaign'].mean()) #mean campaign\n",
    "df_2['campaign'] = np.where(df_2['campaign'] >np.percentile(df_2['campaign'], 75), meancam,df_2['campaign'])#replacing with mean\n",
    "\n",
    "meanpd = float(df_2['pdays'].mean()) #mean pdays\n",
    "df_2['pdays'] = np.where(df_2['pdays'] >np.percentile(df_2['pdays'], 75), meanpd,df_2['pdays'])#replacing with mean\n",
    "\n",
    "meanpr = float(df_2['previous'].mean()) #mean previous\n",
    "df_2['previous'] = np.where(df_2['previous'] >np.percentile(df_2['previous'], 75),meanpr ,df_2['previous'])#replacing with mean\n",
    "\n",
    "\n",
    "\n",
    "fig, axe = plt.subplots(nrows=4, ncols=2, figsize=(10, 12))\n",
    "axe = axe.flatten()\n",
    "sns.boxplot(x='age',data=df_2,color='springgreen',ax=axe[0]) \n",
    "sns.boxplot(x='balance',data=df_2,color='springgreen',ax=axe[1]) \n",
    "sns.boxplot(x='day',data=df_2,color='springgreen',ax=axe[2]) \n",
    "sns.boxplot(x='duration',data=df_2,color='springgreen',ax=axe[3]) \n",
    "sns.boxplot(x='campaign',data=df_2,color='springgreen',ax=axe[4]) \n",
    "sns.boxplot(x='pdays',data=df_2,color='springgreen',ax=axe[5]) \n",
    "sns.boxplot(x='previous',data=df_2,color='springgreen',ax=axe[6]) \n",
    "fig.tight_layout() \n",
    "fig.show() \n",
    "axe.flat[-1].set_visible(False)\n",
    "print('\\033[1m''Boxplots after handeling outliers')"
   ]
  },
  {
   "cell_type": "code",
   "execution_count": 24,
   "id": "c470a5b3",
   "metadata": {},
   "outputs": [],
   "source": [
    "#df_2 = pd.get_dummies(df_2,columns=['housing','default','loan','poutcome'])"
   ]
  },
  {
   "cell_type": "code",
   "execution_count": 25,
   "id": "26bea6fb",
   "metadata": {},
   "outputs": [
    {
     "data": {
      "text/plain": [
       "<AxesSubplot:>"
      ]
     },
     "execution_count": 25,
     "metadata": {},
     "output_type": "execute_result"
    },
    {
     "data": {
      "image/png": "[encoded data removed]",
      "text/plain": [
       "<Figure size 1080x720 with 2 Axes>"
      ]
     },
     "metadata": {
      "needs_background": "light"
     },
     "output_type": "display_data"
    }
   ],
   "source": [
    "plt.figure(figsize=(15,10)) #for adjusting figuresize\n",
    "sns.heatmap(df_2.corr(),annot=True) #for correlation plot"
   ]
  },
  {
   "cell_type": "code",
   "execution_count": 26,
   "id": "684f38b5",
   "metadata": {},
   "outputs": [
    {
     "data": {
      "text/html": [
       "<div>\n",
       "<style scoped>\n",
       "    .dataframe tbody tr th:only-of-type {\n",
       "        vertical-align: middle;\n",
       "    }\n",
       "\n",
       "    .dataframe tbody tr th {\n",
       "        vertical-align: top;\n",
       "    }\n",
       "\n",
       "    .dataframe thead th {\n",
       "        text-align: right;\n",
       "    }\n",
       "</style>\n",
       "<table border=\"1\" class=\"dataframe\">\n",
       "  <thead>\n",
       "    <tr style=\"text-align: right;\">\n",
       "      <th></th>\n",
       "      <th>age</th>\n",
       "      <th>marital</th>\n",
       "      <th>default</th>\n",
       "      <th>balance</th>\n",
       "      <th>housing</th>\n",
       "      <th>loan</th>\n",
       "      <th>campaign</th>\n",
       "      <th>previous</th>\n",
       "      <th>poutcome</th>\n",
       "      <th>Target</th>\n",
       "    </tr>\n",
       "  </thead>\n",
       "  <tbody>\n",
       "    <tr>\n",
       "      <th>0</th>\n",
       "      <td>58</td>\n",
       "      <td>1</td>\n",
       "      <td>0</td>\n",
       "      <td>1362.272058</td>\n",
       "      <td>1</td>\n",
       "      <td>0</td>\n",
       "      <td>1.0</td>\n",
       "      <td>0.0</td>\n",
       "      <td>3</td>\n",
       "      <td>0</td>\n",
       "    </tr>\n",
       "    <tr>\n",
       "      <th>1</th>\n",
       "      <td>44</td>\n",
       "      <td>2</td>\n",
       "      <td>0</td>\n",
       "      <td>29.000000</td>\n",
       "      <td>1</td>\n",
       "      <td>0</td>\n",
       "      <td>1.0</td>\n",
       "      <td>0.0</td>\n",
       "      <td>3</td>\n",
       "      <td>0</td>\n",
       "    </tr>\n",
       "    <tr>\n",
       "      <th>2</th>\n",
       "      <td>33</td>\n",
       "      <td>1</td>\n",
       "      <td>0</td>\n",
       "      <td>2.000000</td>\n",
       "      <td>1</td>\n",
       "      <td>1</td>\n",
       "      <td>1.0</td>\n",
       "      <td>0.0</td>\n",
       "      <td>3</td>\n",
       "      <td>0</td>\n",
       "    </tr>\n",
       "    <tr>\n",
       "      <th>3</th>\n",
       "      <td>47</td>\n",
       "      <td>1</td>\n",
       "      <td>0</td>\n",
       "      <td>1362.272058</td>\n",
       "      <td>1</td>\n",
       "      <td>0</td>\n",
       "      <td>1.0</td>\n",
       "      <td>0.0</td>\n",
       "      <td>3</td>\n",
       "      <td>0</td>\n",
       "    </tr>\n",
       "    <tr>\n",
       "      <th>4</th>\n",
       "      <td>33</td>\n",
       "      <td>2</td>\n",
       "      <td>0</td>\n",
       "      <td>1.000000</td>\n",
       "      <td>0</td>\n",
       "      <td>0</td>\n",
       "      <td>1.0</td>\n",
       "      <td>0.0</td>\n",
       "      <td>3</td>\n",
       "      <td>0</td>\n",
       "    </tr>\n",
       "  </tbody>\n",
       "</table>\n",
       "</div>"
      ],
      "text/plain": [
       "   age marital default      balance housing loan  campaign  previous poutcome  \\\n",
       "0   58       1       0  1362.272058       1    0       1.0       0.0        3   \n",
       "1   44       2       0    29.000000       1    0       1.0       0.0        3   \n",
       "2   33       1       0     2.000000       1    1       1.0       0.0        3   \n",
       "3   47       1       0  1362.272058       1    0       1.0       0.0        3   \n",
       "4   33       2       0     1.000000       0    0       1.0       0.0        3   \n",
       "\n",
       "  Target  \n",
       "0      0  \n",
       "1      0  \n",
       "2      0  \n",
       "3      0  \n",
       "4      0  "
      ]
     },
     "execution_count": 26,
     "metadata": {},
     "output_type": "execute_result"
    }
   ],
   "source": [
    "df_2 = df_2.drop(['job','education','contact','duration','pdays','day','month'],axis=1)\n",
    "df_2.head()"
   ]
  },
  {
   "cell_type": "code",
   "execution_count": 27,
   "id": "99599f12",
   "metadata": {},
   "outputs": [],
   "source": [
    "#Ordering the Categorical features to remove the following error while plotting the pairplot:\n",
    "#TypeError: Categorical is not ordered for operation min\n",
    "#you can use .as_ordered() to change the Categorical to an ordered one\n",
    "df_2['marital'] = df_2['marital'].cat.as_ordered()\n",
    "df_2['default'] = df_2['default'].cat.as_ordered()\n",
    "df_2['housing'] = df_2['housing'].cat.as_ordered()\n",
    "df_2['loan'] = df_2['loan'].cat.as_ordered()\n",
    "df_2['poutcome'] = df_2['poutcome'].cat.as_ordered()\n",
    "df_2['Target'] = df_2['Target'].cat.as_ordered()"
   ]
  },
  {
   "cell_type": "code",
   "execution_count": 28,
   "id": "a647cf55",
   "metadata": {},
   "outputs": [
    {
     "data": {
      "text/plain": [
       "<seaborn.axisgrid.PairGrid at 0x1d2a11ec7c0>"
      ]
     },
     "execution_count": 28,
     "metadata": {},
     "output_type": "execute_result"
    },
    {
     "data": {
      "image/png": "[encoded data removed]",
      "text/plain": [
       "<Figure size 720x720 with 20 Axes>"
      ]
     },
     "metadata": {
      "needs_background": "light"
     },
     "output_type": "display_data"
    }
   ],
   "source": [
    "sns.pairplot(df_2)"
   ]
  },
  {
   "cell_type": "code",
   "execution_count": 29,
   "id": "859ff26f",
   "metadata": {},
   "outputs": [],
   "source": [
    "X = df_2.drop('Target',axis=1) #independent dimensions  \n",
    "y = df_2['Target'] #selecting target column\n",
    "X_train,X_test,y_train,y_test = train_test_split(X,y,test_size=0.30,random_state=1)"
   ]
  },
  {
   "cell_type": "code",
   "execution_count": 30,
   "id": "e04db9f2",
   "metadata": {},
   "outputs": [],
   "source": [
    "scaler = StandardScaler() #using standard scaler method\n",
    "X_train_scaled = scaler.fit_transform(X_train) #Scaling of Train dataset\n",
    "X_test_scaled = scaler.fit_transform(X_test)"
   ]
  },
  {
   "cell_type": "code",
   "execution_count": 31,
   "id": "1edc31d8",
   "metadata": {},
   "outputs": [],
   "source": [
    "logic_r = LogisticRegression(solver='liblinear') #Instantiate the LogisticRegression object\n",
    "logic_r.fit(X_train_scaled,y_train) #Call the fit method of logistic regression to train the model or to learn the parameters of model\n",
    "y_pred = logic_r.predict(X_test_scaled)"
   ]
  },
  {
   "cell_type": "code",
   "execution_count": 32,
   "id": "b5d15c42",
   "metadata": {},
   "outputs": [
    {
     "name": "stdout",
     "output_type": "stream",
     "text": [
      "\u001b[1m->\u001b[1m->\u001b[1m->\u001b[1m->\u001b[1m->\u001b[1m->\u001b[1m->\u001b[1m->\u001b[1m->\u001b[1m->\u001b[1m->\u001b[1m->\u001b[1m->\u001b[1m->\u001b[1m->\u001b[1m->\u001b[1m->\u001b[1m->\u001b[1m->\u001b[1m->\u001b[1m->\u001b[1m->\u001b[1m->\u001b[1m->\u001b[1m->\u001b[1m->\u001b[1m->\u001b[1m->\u001b[1m->\u001b[1m->\u001b[1m->\u001b[1m->\u001b[1m->\u001b[1m->\u001b[1m->\u001b[1m->\u001b[1m->\u001b[1m->\u001b[1m->\u001b[1m->\u001b[1m->\u001b[1m->\u001b[1m->\u001b[1m->\u001b[1m->\u001b[1m->\u001b[1m->\u001b[1m->\u001b[1m->\u001b[1m->\u001b[1m->\u001b[1m->\u001b[1m->\u001b[1m->\u001b[1m->\u001b[1m->\u001b[1m->\u001b[1m->\u001b[1m->\u001b[1m->\u001b[1m->\u001b[1m->\u001b[1m->\n",
      "\u001b[1mConfusion Matrix\n",
      " [[11897   116]\n",
      " [ 1310   241]]\n",
      "----------------------------------------\n",
      "Accuracy of Logistic Regression :0.89\n",
      "----------------------------------------\n",
      "\n",
      " Classification Report\n",
      "               precision    recall  f1-score   support\n",
      "\n",
      "           0       0.90      0.99      0.94     12013\n",
      "           1       0.68      0.16      0.25      1551\n",
      "\n",
      "    accuracy                           0.89     13564\n",
      "   macro avg       0.79      0.57      0.60     13564\n",
      "weighted avg       0.87      0.89      0.86     13564\n",
      "\n",
      "->->->->->->->->->->->->->->->->->->->->->->->->->->->->->->->->->->->->->->->->->->->->->->->->->->->->->->->->->->->->->->->\n"
     ]
    }
   ],
   "source": [
    "print('\\033[1m''->'*63)\n",
    "print('\\033[1m''Confusion Matrix\\n',confusion_matrix(y_test,y_pred)) #for confusion matrix\n",
    "print('-'*40)\n",
    "LR_accuracy = accuracy_score(y_test,y_pred)\n",
    "print('Accuracy of Logistic Regression :{:.2f}'.format(LR_accuracy)) #for accuracy score\n",
    "print('-'*40)\n",
    "print('\\n Classification Report\\n',classification_report(y_test,y_pred)) #for classification report\n",
    "print('->'*63)"
   ]
  },
  {
   "cell_type": "markdown",
   "id": "59b06e6c",
   "metadata": {},
   "source": [
    "### Naive Bayes"
   ]
  },
  {
   "cell_type": "code",
   "execution_count": 33,
   "id": "b1ac0a94",
   "metadata": {},
   "outputs": [],
   "source": [
    "NB = GaussianNB()   #Instantiate the Gaussian Naive bayes \n",
    "NB.fit(X_train_scaled,y_train) #Call the fit method of NB to train the model or to learn the parameters of model\n",
    "y_predi = NB.predict(X_test_scaled)"
   ]
  },
  {
   "cell_type": "code",
   "execution_count": 34,
   "id": "9cebd9e5",
   "metadata": {},
   "outputs": [
    {
     "name": "stdout",
     "output_type": "stream",
     "text": [
      "\u001b[1m->\u001b[1m->\u001b[1m->\u001b[1m->\u001b[1m->\u001b[1m->\u001b[1m->\u001b[1m->\u001b[1m->\u001b[1m->\u001b[1m->\u001b[1m->\u001b[1m->\u001b[1m->\u001b[1m->\u001b[1m->\u001b[1m->\u001b[1m->\u001b[1m->\u001b[1m->\u001b[1m->\u001b[1m->\u001b[1m->\u001b[1m->\u001b[1m->\u001b[1m->\u001b[1m->\u001b[1m->\u001b[1m->\u001b[1m->\u001b[1m->\u001b[1m->\u001b[1m->\u001b[1m->\u001b[1m->\u001b[1m->\u001b[1m->\u001b[1m->\u001b[1m->\u001b[1m->\u001b[1m->\u001b[1m->\u001b[1m->\u001b[1m->\u001b[1m->\u001b[1m->\u001b[1m->\u001b[1m->\u001b[1m->\u001b[1m->\u001b[1m->\u001b[1m->\u001b[1m->\u001b[1m->\u001b[1m->\u001b[1m->\u001b[1m->\u001b[1m->\u001b[1m->\u001b[1m->\u001b[1m->\u001b[1m->\u001b[1m->\n",
      "\u001b[1mConfusion Matrix\n",
      " [[10745  1268]\n",
      " [ 1045   506]]\n",
      "------------------------------\n",
      "Accuracy of Naive Bayes :0.83\n",
      "------------------------------\n",
      "\n",
      " Classification Report\n",
      "               precision    recall  f1-score   support\n",
      "\n",
      "           0       0.91      0.89      0.90     12013\n",
      "           1       0.29      0.33      0.30      1551\n",
      "\n",
      "    accuracy                           0.83     13564\n",
      "   macro avg       0.60      0.61      0.60     13564\n",
      "weighted avg       0.84      0.83      0.83     13564\n",
      "\n",
      "->->->->->->->->->->->->->->->->->->->->->->->->->->->->->->->->->->->->->->->->->->->->->->->->->->->->->->->->->->->->->->->\n"
     ]
    }
   ],
   "source": [
    "print('\\033[1m''->'*63)\n",
    "print('\\033[1m''Confusion Matrix\\n',confusion_matrix(y_test,y_predi)) #for confusion matrix\n",
    "print('-'*30)\n",
    "NB_accuracy = accuracy_score(y_test,y_predi)\n",
    "print('Accuracy of Naive Bayes :{:.2f}'.format(NB_accuracy)) #for accuracy score\n",
    "print('-'*30)\n",
    "print('\\n Classification Report\\n',classification_report(y_test,y_predi)) #for classification report\n",
    "print('->'*63)"
   ]
  },
  {
   "cell_type": "markdown",
   "id": "23a648ca",
   "metadata": {},
   "source": [
    "### K-Nearest Neighbor"
   ]
  },
  {
   "cell_type": "code",
   "execution_count": 36,
   "id": "13cc4117",
   "metadata": {},
   "outputs": [
    {
     "name": "stdout",
     "output_type": "stream",
     "text": [
      "\u001b[1m->\u001b[1m->\u001b[1m->\u001b[1m->\u001b[1m->\u001b[1m->\u001b[1m->\u001b[1m->\u001b[1m->\u001b[1m->\u001b[1m->\u001b[1m->\u001b[1m->\u001b[1m->\u001b[1m->\u001b[1m->\u001b[1m->\u001b[1m->\u001b[1m->\u001b[1m->\u001b[1m->\u001b[1m->\u001b[1m->\u001b[1m->\u001b[1m->\u001b[1m->\u001b[1m->\u001b[1m->\u001b[1m->\u001b[1m->\u001b[1m->\u001b[1m->\u001b[1m->\u001b[1m->\u001b[1m->\u001b[1m->\u001b[1m->\u001b[1m->\u001b[1m->\u001b[1m->\u001b[1m->\u001b[1m->\u001b[1m->\u001b[1m->\u001b[1m->\u001b[1m->\u001b[1m->\u001b[1m->\u001b[1m->\u001b[1m->\u001b[1m->\u001b[1m->\u001b[1m->\u001b[1m->\u001b[1m->\u001b[1m->\u001b[1m->\u001b[1m->\u001b[1m->\u001b[1m->\u001b[1m->\u001b[1m->\u001b[1m->\n",
      "\u001b[1mConfusion Matrix\n",
      " [[10745  1268]\n",
      " [ 1045   506]]\n",
      "------------------------------\n",
      "Accuracy of KNN :0.87\n",
      "------------------------------\n",
      "\n",
      " Classification Report\n",
      "               precision    recall  f1-score   support\n",
      "\n",
      "           0       0.91      0.89      0.90     12013\n",
      "           1       0.29      0.33      0.30      1551\n",
      "\n",
      "    accuracy                           0.83     13564\n",
      "   macro avg       0.60      0.61      0.60     13564\n",
      "weighted avg       0.84      0.83      0.83     13564\n",
      "\n",
      "->->->->->->->->->->->->->->->->->->->->->->->->->->->->->->->->->->->->->->->->->->->->->->->->->->->->->->->->->->->->->->->\n"
     ]
    }
   ],
   "source": [
    "# k=3\n",
    "knn = KNeighborsClassifier(n_neighbors = 3)  #Instantiate KNN with k=3\n",
    "knn.fit(X_train_scaled,y_train) #Call the fit method of KNN to train the model or to learn the parameters of model\n",
    "y_predict = knn.predict(X_test_scaled) #Predict \n",
    "\n",
    "print('\\033[1m''->'*63)\n",
    "print('\\033[1m''Confusion Matrix\\n',confusion_matrix(y_test,y_predi)) #for confusion matrix\n",
    "print('-'*30)\n",
    "KNN_accuracy = accuracy_score(y_test,y_predict)\n",
    "print('Accuracy of KNN :{:.2f}'.format(KNN_accuracy)) #for accuracy score\n",
    "print('-'*30)\n",
    "print('\\n Classification Report\\n',classification_report(y_test,y_predi)) #for classification report\n",
    "print('->'*63)"
   ]
  },
  {
   "cell_type": "code",
   "execution_count": 37,
   "id": "5aa9500d",
   "metadata": {},
   "outputs": [
    {
     "name": "stdout",
     "output_type": "stream",
     "text": [
      "optimal k is 13\n"
     ]
    },
    {
     "data": {
      "image/png": "[encoded data removed]",
      "text/plain": [
       "<Figure size 432x288 with 1 Axes>"
      ]
     },
     "metadata": {
      "needs_background": "light"
     },
     "output_type": "display_data"
    }
   ],
   "source": [
    "oddList = list(np.arange(1,15)) #Range from 1 to 15\n",
    "neighbors = list(filter(lambda x: x % 2 != 0, oddList)) #Selecting only odd numbers from Range 1 to 24\n",
    "\n",
    "accuracy_list = [] #Empty list to store accuracy scores of KNN models based on various K values\n",
    "\n",
    "for i in neighbors:\n",
    "    knn = KNeighborsClassifier(n_neighbors = i) #Instantiate KNN with k=i\n",
    "    knn.fit(X_train_scaled,y_train)  #Call the fit method of KNN to train the model or to learn the parameters of model\n",
    "    y_pred = knn.predict(X_test_scaled) #Predict \n",
    "    accuracy_s = accuracy_score(y_test,y_pred) #for accuracy score\n",
    "    accuracy_list.append(accuracy_s)  #for appedning accuracy score to accuracy score list\n",
    "    \n",
    "MSE=[1 - j for j in accuracy_list] #calculation of Mean Squared Error\n",
    "\n",
    "optimal = neighbors[MSE.index(min(MSE))] #Optimal K value selected by minimum MSE\n",
    "print('optimal k is',optimal) #Print optimal K value selected by minimum MSE\n",
    "\n",
    "plt.plot(neighbors,MSE) #MSE plot \n",
    "plt.xlabel('Number of Neighbors K') #XLabel\n",
    "plt.ylabel('Misclassification Error') #YLabel\n",
    "plt.show() #display plot"
   ]
  },
  {
   "cell_type": "markdown",
   "id": "539f6203",
   "metadata": {},
   "source": [
    "### SVC"
   ]
  },
  {
   "cell_type": "code",
   "execution_count": 38,
   "id": "72110cfa",
   "metadata": {},
   "outputs": [
    {
     "name": "stdout",
     "output_type": "stream",
     "text": [
      "\u001b[1m->\u001b[1m->\u001b[1m->\u001b[1m->\u001b[1m->\u001b[1m->\u001b[1m->\u001b[1m->\u001b[1m->\u001b[1m->\u001b[1m->\u001b[1m->\u001b[1m->\u001b[1m->\u001b[1m->\u001b[1m->\u001b[1m->\u001b[1m->\u001b[1m->\u001b[1m->\u001b[1m->\u001b[1m->\u001b[1m->\u001b[1m->\u001b[1m->\u001b[1m->\u001b[1m->\u001b[1m->\u001b[1m->\u001b[1m->\u001b[1m->\u001b[1m->\u001b[1m->\u001b[1m->\u001b[1m->\u001b[1m->\u001b[1m->\u001b[1m->\u001b[1m->\u001b[1m->\u001b[1m->\u001b[1m->\u001b[1m->\u001b[1m->\u001b[1m->\u001b[1m->\u001b[1m->\u001b[1m->\u001b[1m->\u001b[1m->\u001b[1m->\u001b[1m->\u001b[1m->\u001b[1m->\u001b[1m->\u001b[1m->\u001b[1m->\u001b[1m->\u001b[1m->\u001b[1m->\u001b[1m->\u001b[1m->\u001b[1m->\n",
      "\u001b[1mConfusion Matrix\n",
      " [[11867   146]\n",
      " [ 1273   278]]\n",
      "------------------------------\n",
      "Accuracy of SVC : 0.8953848422294308\n",
      "------------------------------\n",
      "\n",
      " Classification Report\n",
      "               precision    recall  f1-score   support\n",
      "\n",
      "           0       0.90      0.99      0.94     12013\n",
      "           1       0.66      0.18      0.28      1551\n",
      "\n",
      "    accuracy                           0.90     13564\n",
      "   macro avg       0.78      0.58      0.61     13564\n",
      "weighted avg       0.87      0.90      0.87     13564\n",
      "\n",
      "->->->->->->->->->->->->->->->->->->->->->->->->->->->->->->->->->->->->->->->->->->->->->->->->->->->->->->->->->->->->->->->\n"
     ]
    }
   ],
   "source": [
    "svc = SVC()  #Instantiate SVC\n",
    "svc.fit(X_train_scaled,y_train) #Call the fit method of SVC to train the model or to learn the parameters of model\n",
    "predicted_svc = svc.predict(X_test_scaled) #Predict \n",
    "\n",
    "print('\\033[1m''->'*63)\n",
    "print('\\033[1m''Confusion Matrix\\n',confusion_matrix(y_test,predicted_svc)) #for confusion matrix\n",
    "print('-'*30)\n",
    "SVC_accuracy = accuracy_score(y_test,predicted_svc) #for accuracy score\n",
    "print('Accuracy of SVC :',SVC_accuracy)\n",
    "print('-'*30)\n",
    "print('\\n Classification Report\\n',classification_report(y_test,predicted_svc)) #for classification report\n",
    "print('->'*63)"
   ]
  },
  {
   "cell_type": "markdown",
   "id": "d94e2c3e",
   "metadata": {},
   "source": [
    "### Ensemble Models"
   ]
  },
  {
   "cell_type": "markdown",
   "id": "733c2fa8",
   "metadata": {},
   "source": [
    "### Decision Tree"
   ]
  },
  {
   "cell_type": "code",
   "execution_count": 39,
   "id": "a40ca4d4",
   "metadata": {},
   "outputs": [
    {
     "name": "stdout",
     "output_type": "stream",
     "text": [
      "\u001b[1m->\u001b[1m->\u001b[1m->\u001b[1m->\u001b[1m->\u001b[1m->\u001b[1m->\u001b[1m->\u001b[1m->\u001b[1m->\u001b[1m->\u001b[1m->\u001b[1m->\u001b[1m->\u001b[1m->\u001b[1m->\u001b[1m->\u001b[1m->\u001b[1m->\u001b[1m->\u001b[1m->\u001b[1m->\u001b[1m->\u001b[1m->\u001b[1m->\u001b[1m->\u001b[1m->\u001b[1m->\u001b[1m->\u001b[1m->\u001b[1m->\u001b[1m->\u001b[1m->\u001b[1m->\u001b[1m->\u001b[1m->\u001b[1m->\u001b[1m->\u001b[1m->\u001b[1m->\u001b[1m->\u001b[1m->\u001b[1m->\u001b[1m->\u001b[1m->\u001b[1m->\u001b[1m->\u001b[1m->\u001b[1m->\u001b[1m->\u001b[1m->\u001b[1m->\u001b[1m->\u001b[1m->\u001b[1m->\u001b[1m->\u001b[1m->\u001b[1m->\u001b[1m->\u001b[1m->\u001b[1m->\u001b[1m->\u001b[1m->\n",
      "\u001b[1mConfusion Matrix\n",
      " [[11020   993]\n",
      " [ 1190   361]]\n",
      "------------------------------\n",
      "Accuracy of Decision Tree :0.84\n",
      "------------------------------\n",
      "\n",
      " Classification Report\n",
      "               precision    recall  f1-score   support\n",
      "\n",
      "           0       0.90      0.92      0.91     12013\n",
      "           1       0.27      0.23      0.25      1551\n",
      "\n",
      "    accuracy                           0.84     13564\n",
      "   macro avg       0.58      0.58      0.58     13564\n",
      "weighted avg       0.83      0.84      0.83     13564\n",
      "\n",
      "->->->->->->->->->->->->->->->->->->->->->->->->->->->->->->->->->->->->->->->->->->->->->->->->->->->->->->->->->->->->->->->\n"
     ]
    }
   ],
   "source": [
    "dTree = DecisionTreeClassifier(criterion = 'gini', random_state=1) #Instantiate Decision Tree\n",
    "dTree.fit(X_train, y_train) #Call the fit method of DT to train the model or to learn the parameters of model\n",
    "predicted_DT = dTree.predict(X_test) #Predict \n",
    "\n",
    "print('\\033[1m''->'*63)\n",
    "print('\\033[1m''Confusion Matrix\\n',confusion_matrix(y_test,predicted_DT)) #for confusion matrix\n",
    "print('-'*30)\n",
    "DT_accuracy = accuracy_score(y_test,predicted_DT)\n",
    "print('Accuracy of Decision Tree :{:.2f}'.format(DT_accuracy)) #for accuracy score\n",
    "print('-'*30)\n",
    "print('\\n Classification Report\\n',classification_report(y_test,predicted_DT)) #for classification report\n",
    "print('->'*63)"
   ]
  },
  {
   "cell_type": "markdown",
   "id": "12923c7d",
   "metadata": {},
   "source": [
    "### Feature importance test for decision tree"
   ]
  },
  {
   "cell_type": "code",
   "execution_count": 40,
   "id": "09615f6c",
   "metadata": {},
   "outputs": [
    {
     "data": {
      "text/html": [
       "<div>\n",
       "<style scoped>\n",
       "    .dataframe tbody tr th:only-of-type {\n",
       "        vertical-align: middle;\n",
       "    }\n",
       "\n",
       "    .dataframe tbody tr th {\n",
       "        vertical-align: top;\n",
       "    }\n",
       "\n",
       "    .dataframe thead th {\n",
       "        text-align: right;\n",
       "    }\n",
       "</style>\n",
       "<table border=\"1\" class=\"dataframe\">\n",
       "  <thead>\n",
       "    <tr style=\"text-align: right;\">\n",
       "      <th></th>\n",
       "      <th>0</th>\n",
       "    </tr>\n",
       "  </thead>\n",
       "  <tbody>\n",
       "    <tr>\n",
       "      <th>balance</th>\n",
       "      <td>0.442826</td>\n",
       "    </tr>\n",
       "    <tr>\n",
       "      <th>age</th>\n",
       "      <td>0.248702</td>\n",
       "    </tr>\n",
       "    <tr>\n",
       "      <th>poutcome</th>\n",
       "      <td>0.095115</td>\n",
       "    </tr>\n",
       "    <tr>\n",
       "      <th>campaign</th>\n",
       "      <td>0.086817</td>\n",
       "    </tr>\n",
       "    <tr>\n",
       "      <th>marital</th>\n",
       "      <td>0.040698</td>\n",
       "    </tr>\n",
       "    <tr>\n",
       "      <th>previous</th>\n",
       "      <td>0.034347</td>\n",
       "    </tr>\n",
       "    <tr>\n",
       "      <th>loan</th>\n",
       "      <td>0.025493</td>\n",
       "    </tr>\n",
       "    <tr>\n",
       "      <th>housing</th>\n",
       "      <td>0.022714</td>\n",
       "    </tr>\n",
       "    <tr>\n",
       "      <th>default</th>\n",
       "      <td>0.003286</td>\n",
       "    </tr>\n",
       "  </tbody>\n",
       "</table>\n",
       "</div>"
      ],
      "text/plain": [
       "                 0\n",
       "balance   0.442826\n",
       "age       0.248702\n",
       "poutcome  0.095115\n",
       "campaign  0.086817\n",
       "marital   0.040698\n",
       "previous  0.034347\n",
       "loan      0.025493\n",
       "housing   0.022714\n",
       "default   0.003286"
      ]
     },
     "execution_count": 40,
     "metadata": {},
     "output_type": "execute_result"
    }
   ],
   "source": [
    "xvar = df_2.drop('Target', axis=1) #variables in x\n",
    "feature_cols = xvar.columns # columns in x\n",
    "feat_importance = dTree.tree_.compute_feature_importances(normalize=False) #compute feature importance\n",
    "\n",
    "\n",
    "feat_imp_dict = dict(zip(feature_cols, dTree.feature_importances_)) #dictionary of columns and importance\n",
    "feat_imp = pd.DataFrame.from_dict(feat_imp_dict, orient='index') #conversion of dictionary to dataframe\n",
    "feat_imp.sort_values(by=0, ascending=False)"
   ]
  },
  {
   "cell_type": "markdown",
   "id": "c493c3ed",
   "metadata": {},
   "source": [
    "### Pruning of Decision Tree"
   ]
  },
  {
   "cell_type": "code",
   "execution_count": 41,
   "id": "136aa7b5",
   "metadata": {},
   "outputs": [
    {
     "name": "stdout",
     "output_type": "stream",
     "text": [
      "\u001b[1m->\u001b[1m->\u001b[1m->\u001b[1m->\u001b[1m->\u001b[1m->\u001b[1m->\u001b[1m->\u001b[1m->\u001b[1m->\u001b[1m->\u001b[1m->\u001b[1m->\u001b[1m->\u001b[1m->\u001b[1m->\u001b[1m->\u001b[1m->\u001b[1m->\u001b[1m->\u001b[1m->\u001b[1m->\u001b[1m->\u001b[1m->\u001b[1m->\u001b[1m->\u001b[1m->\u001b[1m->\u001b[1m->\u001b[1m->\u001b[1m->\u001b[1m->\u001b[1m->\u001b[1m->\u001b[1m->\u001b[1m->\u001b[1m->\u001b[1m->\u001b[1m->\u001b[1m->\u001b[1m->\u001b[1m->\u001b[1m->\u001b[1m->\u001b[1m->\u001b[1m->\u001b[1m->\u001b[1m->\u001b[1m->\u001b[1m->\u001b[1m->\u001b[1m->\u001b[1m->\u001b[1m->\u001b[1m->\u001b[1m->\u001b[1m->\u001b[1m->\u001b[1m->\u001b[1m->\u001b[1m->\u001b[1m->\u001b[1m->\n",
      "\u001b[1mConfusion Matrix\n",
      " [[11826   187]\n",
      " [ 1237   314]]\n",
      "------------------------------\n",
      "Accuracy of Decision Tree with Regularization:0.90\n",
      "------------------------------\n",
      "\n",
      " Classification Report\n",
      "               precision    recall  f1-score   support\n",
      "\n",
      "           0       0.91      0.98      0.94     12013\n",
      "           1       0.63      0.20      0.31      1551\n",
      "\n",
      "    accuracy                           0.90     13564\n",
      "   macro avg       0.77      0.59      0.62     13564\n",
      "weighted avg       0.87      0.90      0.87     13564\n",
      "\n",
      "->->->->->->->->->->->->->->->->->->->->->->->->->->->->->->->->->->->->->->->->->->->->->->->->->->->->->->->->->->->->->->->\n"
     ]
    }
   ],
   "source": [
    "dTreeR = DecisionTreeClassifier(criterion = 'gini', max_depth = 3, random_state=1) #Instantiate Decision Tree with max_depth\n",
    "dTreeR.fit(X_train, y_train) #Call the fit method of DT to train the model or to learn the parameters of model\n",
    "predicted_DTR = dTreeR.predict(X_test) #Predict\n",
    "\n",
    "print('\\033[1m''->'*63)\n",
    "print('\\033[1m''Confusion Matrix\\n',confusion_matrix(y_test,predicted_DTR)) #for confusion matrix\n",
    "print('-'*30)\n",
    "DTR_accuracy = accuracy_score(y_test,predicted_DTR)\n",
    "print('Accuracy of Decision Tree with Regularization:{:.2f}'.format(DTR_accuracy)) #for accuracy score\n",
    "print('-'*30)\n",
    "print('\\n Classification Report\\n',classification_report(y_test,predicted_DTR)) #for classification report\n",
    "print('->'*63)"
   ]
  },
  {
   "cell_type": "code",
   "execution_count": 42,
   "id": "8ac52a71",
   "metadata": {},
   "outputs": [
    {
     "data": {
      "text/html": [
       "<div>\n",
       "<style scoped>\n",
       "    .dataframe tbody tr th:only-of-type {\n",
       "        vertical-align: middle;\n",
       "    }\n",
       "\n",
       "    .dataframe tbody tr th {\n",
       "        vertical-align: top;\n",
       "    }\n",
       "\n",
       "    .dataframe thead th {\n",
       "        text-align: right;\n",
       "    }\n",
       "</style>\n",
       "<table border=\"1\" class=\"dataframe\">\n",
       "  <thead>\n",
       "    <tr style=\"text-align: right;\">\n",
       "      <th></th>\n",
       "      <th>0</th>\n",
       "    </tr>\n",
       "  </thead>\n",
       "  <tbody>\n",
       "    <tr>\n",
       "      <th>poutcome</th>\n",
       "      <td>0.547320</td>\n",
       "    </tr>\n",
       "    <tr>\n",
       "      <th>previous</th>\n",
       "      <td>0.215141</td>\n",
       "    </tr>\n",
       "    <tr>\n",
       "      <th>age</th>\n",
       "      <td>0.142976</td>\n",
       "    </tr>\n",
       "    <tr>\n",
       "      <th>housing</th>\n",
       "      <td>0.087515</td>\n",
       "    </tr>\n",
       "    <tr>\n",
       "      <th>marital</th>\n",
       "      <td>0.007048</td>\n",
       "    </tr>\n",
       "    <tr>\n",
       "      <th>default</th>\n",
       "      <td>0.000000</td>\n",
       "    </tr>\n",
       "    <tr>\n",
       "      <th>balance</th>\n",
       "      <td>0.000000</td>\n",
       "    </tr>\n",
       "    <tr>\n",
       "      <th>loan</th>\n",
       "      <td>0.000000</td>\n",
       "    </tr>\n",
       "    <tr>\n",
       "      <th>campaign</th>\n",
       "      <td>0.000000</td>\n",
       "    </tr>\n",
       "  </tbody>\n",
       "</table>\n",
       "</div>"
      ],
      "text/plain": [
       "                 0\n",
       "poutcome  0.547320\n",
       "previous  0.215141\n",
       "age       0.142976\n",
       "housing   0.087515\n",
       "marital   0.007048\n",
       "default   0.000000\n",
       "balance   0.000000\n",
       "loan      0.000000\n",
       "campaign  0.000000"
      ]
     },
     "execution_count": 42,
     "metadata": {},
     "output_type": "execute_result"
    }
   ],
   "source": [
    "feat_importance = dTreeR.tree_.compute_feature_importances(normalize=False) #compute feature importance\n",
    "\n",
    "\n",
    "feat_imp_dict = dict(zip(feature_cols, dTreeR.feature_importances_)) #dictionary of columns and importance\n",
    "feat_imp = pd.DataFrame.from_dict(feat_imp_dict, orient='index') #conversion of dictionary to dataframe\n",
    "feat_imp.sort_values(by=0, ascending=False)"
   ]
  },
  {
   "cell_type": "markdown",
   "id": "7ee809f5",
   "metadata": {},
   "source": [
    "### Bagging"
   ]
  },
  {
   "cell_type": "code",
   "execution_count": 43,
   "id": "2c7511ee",
   "metadata": {},
   "outputs": [
    {
     "name": "stdout",
     "output_type": "stream",
     "text": [
      "\u001b[1m->\u001b[1m->\u001b[1m->\u001b[1m->\u001b[1m->\u001b[1m->\u001b[1m->\u001b[1m->\u001b[1m->\u001b[1m->\u001b[1m->\u001b[1m->\u001b[1m->\u001b[1m->\u001b[1m->\u001b[1m->\u001b[1m->\u001b[1m->\u001b[1m->\u001b[1m->\u001b[1m->\u001b[1m->\u001b[1m->\u001b[1m->\u001b[1m->\u001b[1m->\u001b[1m->\u001b[1m->\u001b[1m->\u001b[1m->\u001b[1m->\u001b[1m->\u001b[1m->\u001b[1m->\u001b[1m->\u001b[1m->\u001b[1m->\u001b[1m->\u001b[1m->\u001b[1m->\u001b[1m->\u001b[1m->\u001b[1m->\u001b[1m->\u001b[1m->\u001b[1m->\u001b[1m->\u001b[1m->\u001b[1m->\u001b[1m->\u001b[1m->\u001b[1m->\u001b[1m->\u001b[1m->\u001b[1m->\u001b[1m->\u001b[1m->\u001b[1m->\u001b[1m->\u001b[1m->\u001b[1m->\u001b[1m->\u001b[1m->\n",
      "\u001b[1mConfusion Matrix\n",
      " [[11613   400]\n",
      " [ 1222   329]]\n",
      "------------------------------\n",
      "Accuracy of Decision Tree :0.88\n",
      "------------------------------\n",
      "\n",
      " Classification Report\n",
      "               precision    recall  f1-score   support\n",
      "\n",
      "           0       0.90      0.97      0.93     12013\n",
      "           1       0.45      0.21      0.29      1551\n",
      "\n",
      "    accuracy                           0.88     13564\n",
      "   macro avg       0.68      0.59      0.61     13564\n",
      "weighted avg       0.85      0.88      0.86     13564\n",
      "\n",
      "->->->->->->->->->->->->->->->->->->->->->->->->->->->->->->->->->->->->->->->->->->->->->->->->->->->->->->->->->->->->->->->\n"
     ]
    }
   ],
   "source": [
    "bagc = BaggingClassifier(base_estimator=dTree, n_estimators=500,random_state=1) #Instantiate Bagging Classifier\n",
    "bagc = bagc.fit(X_train, y_train) #Call the fit method of Bagging classifier to train the model or to learn the parameters of model\n",
    "predicted_BAG = bagc.predict(X_test) #Predict\n",
    "\n",
    "\n",
    "print('\\033[1m''->'*63)\n",
    "print('\\033[1m''Confusion Matrix\\n',confusion_matrix(y_test,predicted_BAG)) #for confusion matrix\n",
    "print('-'*30)\n",
    "BAG_accuracy = accuracy_score(y_test,predicted_BAG)\n",
    "print('Accuracy of Decision Tree :{:.2f}'.format(BAG_accuracy)) #for accuracy score\n",
    "print('-'*30)\n",
    "print('\\n Classification Report\\n',classification_report(y_test,predicted_BAG)) #for classification report\n",
    "print('->'*63)"
   ]
  },
  {
   "cell_type": "markdown",
   "id": "565a744b",
   "metadata": {},
   "source": [
    "### Adaptive Boosting"
   ]
  },
  {
   "cell_type": "code",
   "execution_count": 44,
   "id": "749409b7",
   "metadata": {},
   "outputs": [
    {
     "name": "stdout",
     "output_type": "stream",
     "text": [
      "\u001b[1m->\u001b[1m->\u001b[1m->\u001b[1m->\u001b[1m->\u001b[1m->\u001b[1m->\u001b[1m->\u001b[1m->\u001b[1m->\u001b[1m->\u001b[1m->\u001b[1m->\u001b[1m->\u001b[1m->\u001b[1m->\u001b[1m->\u001b[1m->\u001b[1m->\u001b[1m->\u001b[1m->\u001b[1m->\u001b[1m->\u001b[1m->\u001b[1m->\u001b[1m->\u001b[1m->\u001b[1m->\u001b[1m->\u001b[1m->\u001b[1m->\u001b[1m->\u001b[1m->\u001b[1m->\u001b[1m->\u001b[1m->\u001b[1m->\u001b[1m->\u001b[1m->\u001b[1m->\u001b[1m->\u001b[1m->\u001b[1m->\u001b[1m->\u001b[1m->\u001b[1m->\u001b[1m->\u001b[1m->\u001b[1m->\u001b[1m->\u001b[1m->\u001b[1m->\u001b[1m->\u001b[1m->\u001b[1m->\u001b[1m->\u001b[1m->\u001b[1m->\u001b[1m->\u001b[1m->\u001b[1m->\u001b[1m->\u001b[1m->\n",
      "\u001b[1mConfusion Matrix\n",
      " [[11884   129]\n",
      " [ 1309   242]]\n",
      "------------------------------\n",
      "Accuracy of KNN :0.89\n",
      "------------------------------\n",
      "\n",
      " Classification Report\n",
      "               precision    recall  f1-score   support\n",
      "\n",
      "           0       0.90      0.99      0.94     12013\n",
      "           1       0.65      0.16      0.25      1551\n",
      "\n",
      "    accuracy                           0.89     13564\n",
      "   macro avg       0.78      0.57      0.60     13564\n",
      "weighted avg       0.87      0.89      0.86     13564\n",
      "\n",
      "->->->->->->->->->->->->->->->->->->->->->->->->->->->->->->->->->->->->->->->->->->->->->->->->->->->->->->->->->->->->->->->\n"
     ]
    }
   ],
   "source": [
    "adab = AdaBoostClassifier(n_estimators=50, random_state=1) #Instantiate Adaptive boosting Classifier\n",
    "adab = adab.fit(X_train, y_train) #Call the fit method of Adaptive boosting Classifier to train the model or to learn the parameters of model\n",
    "predicted_ADA = adab.predict(X_test) #Predict\n",
    "\n",
    "\n",
    "\n",
    "print('\\033[1m''->'*63)\n",
    "print('\\033[1m''Confusion Matrix\\n',confusion_matrix(y_test,predicted_ADA)) #for confusion matrix\n",
    "print('-'*30)\n",
    "ADA_accuracy = accuracy_score(y_test,predicted_ADA)\n",
    "print('Accuracy of KNN :{:.2f}'.format(ADA_accuracy)) #for accuracy score\n",
    "print('-'*30)\n",
    "print('\\n Classification Report\\n',classification_report(y_test,predicted_ADA)) #for classification report\n",
    "print('->'*63)"
   ]
  },
  {
   "cell_type": "markdown",
   "id": "c49b6f84",
   "metadata": {},
   "source": [
    "### Gradient boosting"
   ]
  },
  {
   "cell_type": "code",
   "execution_count": 45,
   "id": "4aecbecb",
   "metadata": {},
   "outputs": [
    {
     "name": "stdout",
     "output_type": "stream",
     "text": [
      "\u001b[1m->\u001b[1m->\u001b[1m->\u001b[1m->\u001b[1m->\u001b[1m->\u001b[1m->\u001b[1m->\u001b[1m->\u001b[1m->\u001b[1m->\u001b[1m->\u001b[1m->\u001b[1m->\u001b[1m->\u001b[1m->\u001b[1m->\u001b[1m->\u001b[1m->\u001b[1m->\u001b[1m->\u001b[1m->\u001b[1m->\u001b[1m->\u001b[1m->\u001b[1m->\u001b[1m->\u001b[1m->\u001b[1m->\u001b[1m->\u001b[1m->\u001b[1m->\u001b[1m->\u001b[1m->\u001b[1m->\u001b[1m->\u001b[1m->\u001b[1m->\u001b[1m->\u001b[1m->\u001b[1m->\u001b[1m->\u001b[1m->\u001b[1m->\u001b[1m->\u001b[1m->\u001b[1m->\u001b[1m->\u001b[1m->\u001b[1m->\u001b[1m->\u001b[1m->\u001b[1m->\u001b[1m->\u001b[1m->\u001b[1m->\u001b[1m->\u001b[1m->\u001b[1m->\u001b[1m->\u001b[1m->\u001b[1m->\u001b[1m->\n",
      "\u001b[1mConfusion Matrix\n",
      " [[11889   124]\n",
      " [ 1305   246]]\n",
      "------------------------------\n",
      "Accuracy of KNN :0.89\n",
      "------------------------------\n",
      "\n",
      " Classification Report\n",
      "               precision    recall  f1-score   support\n",
      "\n",
      "           0       0.90      0.99      0.94     12013\n",
      "           1       0.66      0.16      0.26      1551\n",
      "\n",
      "    accuracy                           0.89     13564\n",
      "   macro avg       0.78      0.57      0.60     13564\n",
      "weighted avg       0.87      0.89      0.86     13564\n",
      "\n",
      "->->->->->->->->->->->->->->->->->->->->->->->->->->->->->->->->->->->->->->->->->->->->->->->->->->->->->->->->->->->->->->->\n"
     ]
    }
   ],
   "source": [
    "gradb = GradientBoostingClassifier(n_estimators = 100,random_state=1) #Instantiate Gradient boosting Classifier\n",
    "gradb = gradb.fit(X_train, y_train)#Call the fit method of Gradient boosting Classifier to train the model or to learn the parameters of model\n",
    "predicted_GRAD = gradb.predict(X_test) #Predict\n",
    "\n",
    "\n",
    "print('\\033[1m''->'*63)\n",
    "print('\\033[1m''Confusion Matrix\\n',confusion_matrix(y_test,predicted_GRAD)) #for confusion matrix\n",
    "print('-'*30)\n",
    "GRAD_accuracy = accuracy_score(y_test,predicted_GRAD)\n",
    "print('Accuracy of KNN :{:.2f}'.format(GRAD_accuracy)) #for accuracy score\n",
    "print('-'*30)\n",
    "print('\\n Classification Report\\n',classification_report(y_test,predicted_GRAD)) #for classification report\n",
    "print('->'*63)"
   ]
  },
  {
   "cell_type": "markdown",
   "id": "e302ddc8",
   "metadata": {},
   "source": [
    "### Random Forest"
   ]
  },
  {
   "cell_type": "code",
   "execution_count": 46,
   "id": "a427770c",
   "metadata": {},
   "outputs": [
    {
     "name": "stdout",
     "output_type": "stream",
     "text": [
      "\u001b[1m->\u001b[1m->\u001b[1m->\u001b[1m->\u001b[1m->\u001b[1m->\u001b[1m->\u001b[1m->\u001b[1m->\u001b[1m->\u001b[1m->\u001b[1m->\u001b[1m->\u001b[1m->\u001b[1m->\u001b[1m->\u001b[1m->\u001b[1m->\u001b[1m->\u001b[1m->\u001b[1m->\u001b[1m->\u001b[1m->\u001b[1m->\u001b[1m->\u001b[1m->\u001b[1m->\u001b[1m->\u001b[1m->\u001b[1m->\u001b[1m->\u001b[1m->\u001b[1m->\u001b[1m->\u001b[1m->\u001b[1m->\u001b[1m->\u001b[1m->\u001b[1m->\u001b[1m->\u001b[1m->\u001b[1m->\u001b[1m->\u001b[1m->\u001b[1m->\u001b[1m->\u001b[1m->\u001b[1m->\u001b[1m->\u001b[1m->\u001b[1m->\u001b[1m->\u001b[1m->\u001b[1m->\u001b[1m->\u001b[1m->\u001b[1m->\u001b[1m->\u001b[1m->\u001b[1m->\u001b[1m->\u001b[1m->\u001b[1m->\n",
      "\u001b[1mConfusion Matrix\n",
      " [[11588   425]\n",
      " [ 1211   340]]\n",
      "------------------------------\n",
      "Accuracy of KNN :0.88\n",
      "------------------------------\n",
      "\n",
      " Classification Report\n",
      "               precision    recall  f1-score   support\n",
      "\n",
      "           0       0.91      0.96      0.93     12013\n",
      "           1       0.44      0.22      0.29      1551\n",
      "\n",
      "    accuracy                           0.88     13564\n",
      "   macro avg       0.67      0.59      0.61     13564\n",
      "weighted avg       0.85      0.88      0.86     13564\n",
      "\n",
      "->->->->->->->->->->->->->->->->->->->->->->->->->->->->->->->->->->->->->->->->->->->->->->->->->->->->->->->->->->->->->->->\n"
     ]
    }
   ],
   "source": [
    "#n=100\n",
    "randf = RandomForestClassifier(n_estimators = 100, random_state=1, max_features=3)#Instantiate Random Forest Classifier\n",
    "randf = randf.fit(X_train, y_train) #Call the fit method of Random Forest Classifier to train the model or to learn the parameters of model\n",
    "predicted_RAN = randf.predict(X_test) #Predict\n",
    "\n",
    "print('\\033[1m''->'*63)\n",
    "print('\\033[1m''Confusion Matrix\\n',confusion_matrix(y_test,predicted_RAN )) #for confusion matrix\n",
    "print('-'*30)\n",
    "RAN_accuracy = accuracy_score(y_test,predicted_RAN )\n",
    "print('Accuracy of KNN :{:.2f}'.format(RAN_accuracy)) #for accuracy score\n",
    "print('-'*30)\n",
    "print('\\n Classification Report\\n',classification_report(y_test,predicted_RAN )) #for classification report\n",
    "print('->'*63)"
   ]
  },
  {
   "cell_type": "code",
   "execution_count": 47,
   "id": "084d65d9",
   "metadata": {},
   "outputs": [
    {
     "name": "stdout",
     "output_type": "stream",
     "text": [
      "\u001b[1m->\u001b[1m->\u001b[1m->\u001b[1m->\u001b[1m->\u001b[1m->\u001b[1m->\u001b[1m->\u001b[1m->\u001b[1m->\u001b[1m->\u001b[1m->\u001b[1m->\u001b[1m->\u001b[1m->\u001b[1m->\u001b[1m->\u001b[1m->\u001b[1m->\u001b[1m->\u001b[1m->\u001b[1m->\u001b[1m->\u001b[1m->\u001b[1m->\u001b[1m->\u001b[1m->\u001b[1m->\u001b[1m->\u001b[1m->\u001b[1m->\u001b[1m->\u001b[1m->\u001b[1m->\u001b[1m->\u001b[1m->\u001b[1m->\u001b[1m->\u001b[1m->\u001b[1m->\u001b[1m->\u001b[1m->\u001b[1m->\u001b[1m->\u001b[1m->\u001b[1m->\u001b[1m->\u001b[1m->\u001b[1m->\u001b[1m->\u001b[1m->\u001b[1m->\u001b[1m->\u001b[1m->\u001b[1m->\u001b[1m->\u001b[1m->\u001b[1m->\u001b[1m->\u001b[1m->\u001b[1m->\u001b[1m->\u001b[1m->\n",
      "\u001b[1mConfusion Matrix\n",
      " [[11614   399]\n",
      " [ 1216   335]]\n",
      "------------------------------\n",
      "Accuracy of KNN :0.88\n",
      "------------------------------\n",
      "\n",
      " Classification Report\n",
      "               precision    recall  f1-score   support\n",
      "\n",
      "           0       0.91      0.97      0.93     12013\n",
      "           1       0.46      0.22      0.29      1551\n",
      "\n",
      "    accuracy                           0.88     13564\n",
      "   macro avg       0.68      0.59      0.61     13564\n",
      "weighted avg       0.85      0.88      0.86     13564\n",
      "\n",
      "->->->->->->->->->->->->->->->->->->->->->->->->->->->->->->->->->->->->->->->->->->->->->->->->->->->->->->->->->->->->->->->\n"
     ]
    }
   ],
   "source": [
    "#n=500\n",
    "randf = RandomForestClassifier(n_estimators = 500, random_state=1, max_features=5) #Instantiate Random Forest Classifier\n",
    "randf = randf.fit(X_train, y_train)  #Call the fit method of Random Forest Classifier to train the model or to learn the parameters of model\n",
    "predicted_RANN = randf.predict(X_test) #Predict\n",
    "\n",
    "print('\\033[1m''->'*63)\n",
    "print('\\033[1m''Confusion Matrix\\n',confusion_matrix(y_test,predicted_RANN)) #for confusion matrix\n",
    "print('-'*30)\n",
    "RANN_accuracy = accuracy_score(y_test,predicted_RANN)\n",
    "print('Accuracy of KNN :{:.2f}'.format(RANN_accuracy)) #for accuracy score\n",
    "print('-'*30)\n",
    "print('\\n Classification Report\\n',classification_report(y_test,predicted_RANN)) #for classification report\n",
    "print('->'*63)"
   ]
  },
  {
   "cell_type": "markdown",
   "id": "d3b62344",
   "metadata": {},
   "source": [
    "### Models with accuracy scores"
   ]
  },
  {
   "cell_type": "code",
   "execution_count": 48,
   "id": "5b1fb138",
   "metadata": {},
   "outputs": [
    {
     "name": "stdout",
     "output_type": "stream",
     "text": [
      "\u001b[1mCurrent Scores with Outliers replaced with mean:\n"
     ]
    },
    {
     "data": {
      "text/html": [
       "<div>\n",
       "<style scoped>\n",
       "    .dataframe tbody tr th:only-of-type {\n",
       "        vertical-align: middle;\n",
       "    }\n",
       "\n",
       "    .dataframe tbody tr th {\n",
       "        vertical-align: top;\n",
       "    }\n",
       "\n",
       "    .dataframe thead th {\n",
       "        text-align: right;\n",
       "    }\n",
       "</style>\n",
       "<table border=\"1\" class=\"dataframe\">\n",
       "  <thead>\n",
       "    <tr style=\"text-align: right;\">\n",
       "      <th></th>\n",
       "      <th>Model</th>\n",
       "      <th>Accuracy score</th>\n",
       "    </tr>\n",
       "  </thead>\n",
       "  <tbody>\n",
       "    <tr>\n",
       "      <th>3</th>\n",
       "      <td>SVC</td>\n",
       "      <td>0.895385</td>\n",
       "    </tr>\n",
       "    <tr>\n",
       "      <th>5</th>\n",
       "      <td>Decision Tree with Regularization</td>\n",
       "      <td>0.895016</td>\n",
       "    </tr>\n",
       "    <tr>\n",
       "      <th>2</th>\n",
       "      <td>Logistic Regression</td>\n",
       "      <td>0.894869</td>\n",
       "    </tr>\n",
       "    <tr>\n",
       "      <th>8</th>\n",
       "      <td>Gradient Boosting</td>\n",
       "      <td>0.894648</td>\n",
       "    </tr>\n",
       "    <tr>\n",
       "      <th>7</th>\n",
       "      <td>Adaptive Boosting</td>\n",
       "      <td>0.893984</td>\n",
       "    </tr>\n",
       "    <tr>\n",
       "      <th>10</th>\n",
       "      <td>Random Forest N=500</td>\n",
       "      <td>0.880935</td>\n",
       "    </tr>\n",
       "    <tr>\n",
       "      <th>6</th>\n",
       "      <td>Bagging</td>\n",
       "      <td>0.880419</td>\n",
       "    </tr>\n",
       "    <tr>\n",
       "      <th>9</th>\n",
       "      <td>Random Forest N=100</td>\n",
       "      <td>0.879387</td>\n",
       "    </tr>\n",
       "    <tr>\n",
       "      <th>1</th>\n",
       "      <td>KNN</td>\n",
       "      <td>0.873120</td>\n",
       "    </tr>\n",
       "    <tr>\n",
       "      <th>4</th>\n",
       "      <td>Decision Tree</td>\n",
       "      <td>0.839059</td>\n",
       "    </tr>\n",
       "    <tr>\n",
       "      <th>0</th>\n",
       "      <td>Naive bayes</td>\n",
       "      <td>0.829475</td>\n",
       "    </tr>\n",
       "  </tbody>\n",
       "</table>\n",
       "</div>"
      ],
      "text/plain": [
       "                                Model  Accuracy score\n",
       "3                                 SVC        0.895385\n",
       "5   Decision Tree with Regularization        0.895016\n",
       "2                 Logistic Regression        0.894869\n",
       "8                   Gradient Boosting        0.894648\n",
       "7                   Adaptive Boosting        0.893984\n",
       "10                Random Forest N=500        0.880935\n",
       "6                             Bagging        0.880419\n",
       "9                 Random Forest N=100        0.879387\n",
       "1                                 KNN        0.873120\n",
       "4                       Decision Tree        0.839059\n",
       "0                         Naive bayes        0.829475"
      ]
     },
     "execution_count": 48,
     "metadata": {},
     "output_type": "execute_result"
    }
   ],
   "source": [
    "Scores = [('Naive bayes', NB_accuracy),\n",
    "          ('KNN', KNN_accuracy),\n",
    "          ('Logistic Regression', LR_accuracy),\n",
    "          ('SVC', SVC_accuracy ),\n",
    "          ('Decision Tree',DT_accuracy),\n",
    "          ('Decision Tree with Regularization',DTR_accuracy),\n",
    "          ('Bagging',BAG_accuracy),\n",
    "          ('Adaptive Boosting',ADA_accuracy),\n",
    "          ('Gradient Boosting',GRAD_accuracy),\n",
    "          ('Random Forest N=100',RAN_accuracy),\n",
    "          ('Random Forest N=500',RANN_accuracy)] #List of accuracy scores of all models\n",
    "\n",
    "Scores = pd.DataFrame(Scores,columns=['Model','Accuracy score']) #Conversion of list to dataframe\n",
    "\n",
    "print('\\033[1m''Current Scores with Outliers replaced with mean:')\n",
    "Scores.sort_values(by='Accuracy score',ascending=False)"
   ]
  },
  {
   "cell_type": "code",
   "execution_count": 49,
   "id": "d870024c",
   "metadata": {},
   "outputs": [
    {
     "data": {
      "image/png": "[encoded data removed]",
      "text/plain": [
       "<Figure size 432x288 with 1 Axes>"
      ]
     },
     "metadata": {
      "needs_background": "light"
     },
     "output_type": "display_data"
    }
   ],
   "source": [
    "sns.lineplot(x=Scores['Model'],y=Scores['Accuracy score'],data=Scores,markers=True, dashes=False) #Countplot of Scores\n",
    "plt.xticks(rotation=90)\n",
    "plt.show()"
   ]
  },
  {
   "cell_type": "code",
   "execution_count": null,
   "id": "22c8d8d9",
   "metadata": {},
   "outputs": [],
   "source": []
  }
 ],
 "metadata": {
  "kernelspec": {
   "display_name": "Python 3",
   "language": "python",
   "name": "python3"
  },
  "language_info": {
   "codemirror_mode": {
    "name": "ipython",
    "version": 3
   },
   "file_extension": ".py",
   "mimetype": "text/x-python",
   "name": "python",
   "nbconvert_exporter": "python",
   "pygments_lexer": "ipython3",
   "version": "3.9.3"
  }
 },
 "nbformat": 4,
 "nbformat_minor": 5
}
