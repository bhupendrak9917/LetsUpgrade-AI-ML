{
 "cells": [
  {
   "cell_type": "code",
   "execution_count": 1,
   "id": "f4fa68c0",
   "metadata": {},
   "outputs": [],
   "source": [
    "# loading pickle file \n",
    "import pickle\n",
    "model2 =pickle.load(open('model.pkl','rb'))"
   ]
  },
  {
   "cell_type": "markdown",
   "id": "0191dade",
   "metadata": {},
   "source": [
    "### prediction using pickle file"
   ]
  },
  {
   "cell_type": "code",
   "execution_count": 2,
   "id": "8cabf9bb",
   "metadata": {},
   "outputs": [
    {
     "data": {
      "text/plain": [
       "array([58315.5019167])"
      ]
     },
     "execution_count": 2,
     "metadata": {},
     "output_type": "execute_result"
    }
   ],
   "source": [
    "model2.predict([[3,9,7]])"
   ]
  },
  {
   "cell_type": "code",
   "execution_count": 3,
   "id": "92c90ee1",
   "metadata": {},
   "outputs": [
    {
     "data": {
      "text/plain": [
       "58315.50191669591"
      ]
     },
     "execution_count": 3,
     "metadata": {},
     "output_type": "execute_result"
    }
   ],
   "source": [
    "model2.predict([[3,9,7]])[0]"
   ]
  },
  {
   "cell_type": "code",
   "execution_count": 4,
   "id": "ef3b8fab",
   "metadata": {},
   "outputs": [
    {
     "data": {
      "text/plain": [
       "array([86612.80419155])"
      ]
     },
     "execution_count": 4,
     "metadata": {},
     "output_type": "execute_result"
    }
   ],
   "source": [
    "model2.predict([[10,10,10]])"
   ]
  },
  {
   "cell_type": "code",
   "execution_count": 5,
   "id": "75ec47f7",
   "metadata": {},
   "outputs": [
    {
     "data": {
      "text/plain": [
       "array([55930.47274854])"
      ]
     },
     "execution_count": 5,
     "metadata": {},
     "output_type": "execute_result"
    }
   ],
   "source": [
    "model2.predict([[10,2,3]])"
   ]
  },
  {
   "cell_type": "code",
   "execution_count": null,
   "id": "9840c1e3",
   "metadata": {},
   "outputs": [],
   "source": []
  }
 ],
 "metadata": {
  "kernelspec": {
   "display_name": "Python 3",
   "language": "python",
   "name": "python3"
  },
  "language_info": {
   "codemirror_mode": {
    "name": "ipython",
    "version": 3
   },
   "file_extension": ".py",
   "mimetype": "text/x-python",
   "name": "python",
   "nbconvert_exporter": "python",
   "pygments_lexer": "ipython3",
   "version": "3.9.3"
  }
 },
 "nbformat": 4,
 "nbformat_minor": 5
}
