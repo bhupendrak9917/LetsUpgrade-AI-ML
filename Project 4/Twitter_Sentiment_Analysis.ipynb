{
 "cells": [
  {
   "cell_type": "code",
   "execution_count": 1,
   "id": "aaf4a211",
   "metadata": {},
   "outputs": [],
   "source": [
    "import numpy as np\n",
    "import pandas as pd\n",
    "import tweepy\n",
    "import json\n",
    "from tweepy import OAuthHandler"
   ]
  },
  {
   "cell_type": "code",
   "execution_count": 2,
   "id": "8816f3be",
   "metadata": {},
   "outputs": [],
   "source": [
    "consumer_key = \"xeIhWJkCnG2QIBKpEchgIwU8D\"\n",
    "consumer_secret = \"wHHqXH83pve96QsFIXHwR5YvXjAEX4du7TnQcxNSEBduN8N0r2\"\n",
    "access_token = \"1387475576911319041-1LaoCpINdmQJXXIVtMeGEWpqoacUmr\"\n",
    "access_token_secret = \"Eny0985EzyYOkP29a7kBcxUfSgmFReZgr0nqTOWUY52wp\""
   ]
  },
  {
   "cell_type": "code",
   "execution_count": 3,
   "id": "957d9cc7",
   "metadata": {},
   "outputs": [],
   "source": [
    "auth = tweepy.OAuthHandler( consumer_key , consumer_secret )\n",
    "auth.set_access_token( access_token , access_token_secret )\n",
    "api = tweepy.API(auth)"
   ]
  },
  {
   "cell_type": "code",
   "execution_count": 4,
   "id": "6989759f",
   "metadata": {},
   "outputs": [],
   "source": [
    "query = \"India will win Test Cricket Championship\""
   ]
  },
  {
   "cell_type": "code",
   "execution_count": 5,
   "id": "2bbaa9af",
   "metadata": {},
   "outputs": [
    {
     "name": "stdout",
     "output_type": "stream",
     "text": [
      "Status(_api=<tweepy.api.API object at 0x00000204E8E29070>, _json={'created_at': 'Tue Jun 22 05:33:47 +0000 2021', 'id': 1407210186339614721, 'id_str': '1407210186339614721', 'full_text': \"Looking to India's approach against Australia and New Zealand's approach against England in the last test, both the teams will go for win. 6 Sessions 3 innings 28 wickets. This championship needs a clear winner. The purpose of reviving Test cricket won't be fulfilled otherwise.\", 'truncated': False, 'display_text_range': [0, 278], 'entities': {'hashtags': [], 'symbols': [], 'user_mentions': [], 'urls': []}, 'metadata': {'iso_language_code': 'en', 'result_type': 'recent'}, 'source': '<a href=\"https://mobile.twitter.com\" rel=\"nofollow\">Twitter Web App</a>', 'in_reply_to_status_id': None, 'in_reply_to_status_id_str': None, 'in_reply_to_user_id': None, 'in_reply_to_user_id_str': None, 'in_reply_to_screen_name': None, 'user': {'id': 1357268516039061505, 'id_str': '1357268516039061505', 'name': 'CricAddicts', 'screen_name': 'thatsportsguys', 'location': 'Gujarat, India', 'description': 'Just a group of Sportsaddict Guys, Who Fetch Sports News from Cosmos and tweet here!', 'url': None, 'entities': {'description': {'urls': []}}, 'protected': False, 'followers_count': 14, 'friends_count': 38, 'listed_count': 0, 'created_at': 'Thu Feb 04 10:03:58 +0000 2021', 'favourites_count': 1904, 'utc_offset': None, 'time_zone': None, 'geo_enabled': True, 'verified': False, 'statuses_count': 273, 'lang': None, 'contributors_enabled': False, 'is_translator': False, 'is_translation_enabled': False, 'profile_background_color': 'F5F8FA', 'profile_background_image_url': None, 'profile_background_image_url_https': None, 'profile_background_tile': False, 'profile_image_url': 'http://pbs.twimg.com/profile_images/1404072070334451717/rlO4BPg-_normal.jpg', 'profile_image_url_https': 'https://pbs.twimg.com/profile_images/1404072070334451717/rlO4BPg-_normal.jpg', 'profile_banner_url': 'https://pbs.twimg.com/profile_banners/1357268516039061505/1623591841', 'profile_link_color': '1DA1F2', 'profile_sidebar_border_color': 'C0DEED', 'profile_sidebar_fill_color': 'DDEEF6', 'profile_text_color': '333333', 'profile_use_background_image': True, 'has_extended_profile': True, 'default_profile': True, 'default_profile_image': False, 'following': False, 'follow_request_sent': False, 'notifications': False, 'translator_type': 'none', 'withheld_in_countries': []}, 'geo': None, 'coordinates': None, 'place': None, 'contributors': None, 'is_quote_status': False, 'retweet_count': 0, 'favorite_count': 2, 'favorited': False, 'retweeted': False, 'lang': 'en'}, created_at=datetime.datetime(2021, 6, 22, 5, 33, 47), id=1407210186339614721, id_str='1407210186339614721', full_text=\"Looking to India's approach against Australia and New Zealand's approach against England in the last test, both the teams will go for win. 6 Sessions 3 innings 28 wickets. This championship needs a clear winner. The purpose of reviving Test cricket won't be fulfilled otherwise.\", truncated=False, display_text_range=[0, 278], entities={'hashtags': [], 'symbols': [], 'user_mentions': [], 'urls': []}, metadata={'iso_language_code': 'en', 'result_type': 'recent'}, source='Twitter Web App', source_url='https://mobile.twitter.com', in_reply_to_status_id=None, in_reply_to_status_id_str=None, in_reply_to_user_id=None, in_reply_to_user_id_str=None, in_reply_to_screen_name=None, author=User(_api=<tweepy.api.API object at 0x00000204E8E29070>, _json={'id': 1357268516039061505, 'id_str': '1357268516039061505', 'name': 'CricAddicts', 'screen_name': 'thatsportsguys', 'location': 'Gujarat, India', 'description': 'Just a group of Sportsaddict Guys, Who Fetch Sports News from Cosmos and tweet here!', 'url': None, 'entities': {'description': {'urls': []}}, 'protected': False, 'followers_count': 14, 'friends_count': 38, 'listed_count': 0, 'created_at': 'Thu Feb 04 10:03:58 +0000 2021', 'favourites_count': 1904, 'utc_offset': None, 'time_zone': None, 'geo_enabled': True, 'verified': False, 'statuses_count': 273, 'lang': None, 'contributors_enabled': False, 'is_translator': False, 'is_translation_enabled': False, 'profile_background_color': 'F5F8FA', 'profile_background_image_url': None, 'profile_background_image_url_https': None, 'profile_background_tile': False, 'profile_image_url': 'http://pbs.twimg.com/profile_images/1404072070334451717/rlO4BPg-_normal.jpg', 'profile_image_url_https': 'https://pbs.twimg.com/profile_images/1404072070334451717/rlO4BPg-_normal.jpg', 'profile_banner_url': 'https://pbs.twimg.com/profile_banners/1357268516039061505/1623591841', 'profile_link_color': '1DA1F2', 'profile_sidebar_border_color': 'C0DEED', 'profile_sidebar_fill_color': 'DDEEF6', 'profile_text_color': '333333', 'profile_use_background_image': True, 'has_extended_profile': True, 'default_profile': True, 'default_profile_image': False, 'following': False, 'follow_request_sent': False, 'notifications': False, 'translator_type': 'none', 'withheld_in_countries': []}, id=1357268516039061505, id_str='1357268516039061505', name='CricAddicts', screen_name='thatsportsguys', location='Gujarat, India', description='Just a group of Sportsaddict Guys, Who Fetch Sports News from Cosmos and tweet here!', url=None, entities={'description': {'urls': []}}, protected=False, followers_count=14, friends_count=38, listed_count=0, created_at=datetime.datetime(2021, 2, 4, 10, 3, 58), favourites_count=1904, utc_offset=None, time_zone=None, geo_enabled=True, verified=False, statuses_count=273, lang=None, contributors_enabled=False, is_translator=False, is_translation_enabled=False, profile_background_color='F5F8FA', profile_background_image_url=None, profile_background_image_url_https=None, profile_background_tile=False, profile_image_url='http://pbs.twimg.com/profile_images/1404072070334451717/rlO4BPg-_normal.jpg', profile_image_url_https='https://pbs.twimg.com/profile_images/1404072070334451717/rlO4BPg-_normal.jpg', profile_banner_url='https://pbs.twimg.com/profile_banners/1357268516039061505/1623591841', profile_link_color='1DA1F2', profile_sidebar_border_color='C0DEED', profile_sidebar_fill_color='DDEEF6', profile_text_color='333333', profile_use_background_image=True, has_extended_profile=True, default_profile=True, default_profile_image=False, following=False, follow_request_sent=False, notifications=False, translator_type='none', withheld_in_countries=[]), user=User(_api=<tweepy.api.API object at 0x00000204E8E29070>, _json={'id': 1357268516039061505, 'id_str': '1357268516039061505', 'name': 'CricAddicts', 'screen_name': 'thatsportsguys', 'location': 'Gujarat, India', 'description': 'Just a group of Sportsaddict Guys, Who Fetch Sports News from Cosmos and tweet here!', 'url': None, 'entities': {'description': {'urls': []}}, 'protected': False, 'followers_count': 14, 'friends_count': 38, 'listed_count': 0, 'created_at': 'Thu Feb 04 10:03:58 +0000 2021', 'favourites_count': 1904, 'utc_offset': None, 'time_zone': None, 'geo_enabled': True, 'verified': False, 'statuses_count': 273, 'lang': None, 'contributors_enabled': False, 'is_translator': False, 'is_translation_enabled': False, 'profile_background_color': 'F5F8FA', 'profile_background_image_url': None, 'profile_background_image_url_https': None, 'profile_background_tile': False, 'profile_image_url': 'http://pbs.twimg.com/profile_images/1404072070334451717/rlO4BPg-_normal.jpg', 'profile_image_url_https': 'https://pbs.twimg.com/profile_images/1404072070334451717/rlO4BPg-_normal.jpg', 'profile_banner_url': 'https://pbs.twimg.com/profile_banners/1357268516039061505/1623591841', 'profile_link_color': '1DA1F2', 'profile_sidebar_border_color': 'C0DEED', 'profile_sidebar_fill_color': 'DDEEF6', 'profile_text_color': '333333', 'profile_use_background_image': True, 'has_extended_profile': True, 'default_profile': True, 'default_profile_image': False, 'following': False, 'follow_request_sent': False, 'notifications': False, 'translator_type': 'none', 'withheld_in_countries': []}, id=1357268516039061505, id_str='1357268516039061505', name='CricAddicts', screen_name='thatsportsguys', location='Gujarat, India', description='Just a group of Sportsaddict Guys, Who Fetch Sports News from Cosmos and tweet here!', url=None, entities={'description': {'urls': []}}, protected=False, followers_count=14, friends_count=38, listed_count=0, created_at=datetime.datetime(2021, 2, 4, 10, 3, 58), favourites_count=1904, utc_offset=None, time_zone=None, geo_enabled=True, verified=False, statuses_count=273, lang=None, contributors_enabled=False, is_translator=False, is_translation_enabled=False, profile_background_color='F5F8FA', profile_background_image_url=None, profile_background_image_url_https=None, profile_background_tile=False, profile_image_url='http://pbs.twimg.com/profile_images/1404072070334451717/rlO4BPg-_normal.jpg', profile_image_url_https='https://pbs.twimg.com/profile_images/1404072070334451717/rlO4BPg-_normal.jpg', profile_banner_url='https://pbs.twimg.com/profile_banners/1357268516039061505/1623591841', profile_link_color='1DA1F2', profile_sidebar_border_color='C0DEED', profile_sidebar_fill_color='DDEEF6', profile_text_color='333333', profile_use_background_image=True, has_extended_profile=True, default_profile=True, default_profile_image=False, following=False, follow_request_sent=False, notifications=False, translator_type='none', withheld_in_countries=[]), geo=None, coordinates=None, place=None, contributors=None, is_quote_status=False, retweet_count=0, favorite_count=2, favorited=False, retweeted=False, lang='en') \n",
      "\n",
      ".....................................\n",
      "\n",
      "Status(_api=<tweepy.api.API object at 0x00000204E8E29070>, _json={'created_at': 'Sun Jun 20 16:49:24 +0000 2021', 'id': 1406655433939423235, 'id_str': '1406655433939423235', 'full_text': 'Ashwin vs Williamson in Tests- \\n\\nMatches: 6\\nDismissals: 5\\nAverage: 29.60\\n\\nWho do you think will win this battle at Southampton?\\n\\nLive Blog: https://t.co/1LEZjTm9Nl\\n\\n#NZvsIND #WTCFinal', 'truncated': False, 'display_text_range': [0, 183], 'entities': {'hashtags': [{'text': 'NZvsIND', 'indices': [165, 173]}, {'text': 'WTCFinal', 'indices': [174, 183]}], 'symbols': [], 'user_mentions': [], 'urls': [{'url': 'https://t.co/1LEZjTm9Nl', 'expanded_url': 'http://cric.et/3gFxqCw', 'display_url': 'cric.et/3gFxqCw', 'indices': [140, 163]}]}, 'metadata': {'iso_language_code': 'en', 'result_type': 'recent'}, 'source': '<a href=\"https://mobile.twitter.com\" rel=\"nofollow\">Twitter Web App</a>', 'in_reply_to_status_id': None, 'in_reply_to_status_id_str': None, 'in_reply_to_user_id': None, 'in_reply_to_user_id_str': None, 'in_reply_to_screen_name': None, 'user': {'id': 1107994256797384704, 'id_str': '1107994256797384704', 'name': 'Cricket.com', 'screen_name': 'weRcricket', 'location': '', 'description': 'Cricket like never before. To download the app, click here for Android: https://t.co/egj5keHzhn, for iOS: https://t.co/zNXA1PHZ1H', 'url': 'https://t.co/VByA7GBWbl', 'entities': {'url': {'urls': [{'url': 'https://t.co/VByA7GBWbl', 'expanded_url': 'https://www.cricket.com/', 'display_url': 'cricket.com', 'indices': [0, 23]}]}, 'description': {'urls': [{'url': 'https://t.co/egj5keHzhn', 'expanded_url': 'https://bit.ly/36XQg17', 'display_url': 'bit.ly/36XQg17', 'indices': [72, 95]}, {'url': 'https://t.co/zNXA1PHZ1H', 'expanded_url': 'https://apple.co/2O1NYVK', 'display_url': 'apple.co/2O1NYVK', 'indices': [106, 129]}]}}, 'protected': False, 'followers_count': 19606, 'friends_count': 81, 'listed_count': 34, 'created_at': 'Tue Mar 19 13:16:31 +0000 2019', 'favourites_count': 216, 'utc_offset': None, 'time_zone': None, 'geo_enabled': False, 'verified': False, 'statuses_count': 10332, 'lang': None, 'contributors_enabled': False, 'is_translator': False, 'is_translation_enabled': False, 'profile_background_color': 'F5F8FA', 'profile_background_image_url': None, 'profile_background_image_url_https': None, 'profile_background_tile': False, 'profile_image_url': 'http://pbs.twimg.com/profile_images/1159031973991501824/5rmV83Dg_normal.jpg', 'profile_image_url_https': 'https://pbs.twimg.com/profile_images/1159031973991501824/5rmV83Dg_normal.jpg', 'profile_banner_url': 'https://pbs.twimg.com/profile_banners/1107994256797384704/1617780581', 'profile_link_color': '1DA1F2', 'profile_sidebar_border_color': 'C0DEED', 'profile_sidebar_fill_color': 'DDEEF6', 'profile_text_color': '333333', 'profile_use_background_image': True, 'has_extended_profile': False, 'default_profile': True, 'default_profile_image': False, 'following': False, 'follow_request_sent': False, 'notifications': False, 'translator_type': 'none', 'withheld_in_countries': []}, 'geo': None, 'coordinates': None, 'place': None, 'contributors': None, 'is_quote_status': False, 'retweet_count': 0, 'favorite_count': 2, 'favorited': False, 'retweeted': False, 'possibly_sensitive': False, 'lang': 'en'}, created_at=datetime.datetime(2021, 6, 20, 16, 49, 24), id=1406655433939423235, id_str='1406655433939423235', full_text='Ashwin vs Williamson in Tests- \\n\\nMatches: 6\\nDismissals: 5\\nAverage: 29.60\\n\\nWho do you think will win this battle at Southampton?\\n\\nLive Blog: https://t.co/1LEZjTm9Nl\\n\\n#NZvsIND #WTCFinal', truncated=False, display_text_range=[0, 183], entities={'hashtags': [{'text': 'NZvsIND', 'indices': [165, 173]}, {'text': 'WTCFinal', 'indices': [174, 183]}], 'symbols': [], 'user_mentions': [], 'urls': [{'url': 'https://t.co/1LEZjTm9Nl', 'expanded_url': 'http://cric.et/3gFxqCw', 'display_url': 'cric.et/3gFxqCw', 'indices': [140, 163]}]}, metadata={'iso_language_code': 'en', 'result_type': 'recent'}, source='Twitter Web App', source_url='https://mobile.twitter.com', in_reply_to_status_id=None, in_reply_to_status_id_str=None, in_reply_to_user_id=None, in_reply_to_user_id_str=None, in_reply_to_screen_name=None, author=User(_api=<tweepy.api.API object at 0x00000204E8E29070>, _json={'id': 1107994256797384704, 'id_str': '1107994256797384704', 'name': 'Cricket.com', 'screen_name': 'weRcricket', 'location': '', 'description': 'Cricket like never before. To download the app, click here for Android: https://t.co/egj5keHzhn, for iOS: https://t.co/zNXA1PHZ1H', 'url': 'https://t.co/VByA7GBWbl', 'entities': {'url': {'urls': [{'url': 'https://t.co/VByA7GBWbl', 'expanded_url': 'https://www.cricket.com/', 'display_url': 'cricket.com', 'indices': [0, 23]}]}, 'description': {'urls': [{'url': 'https://t.co/egj5keHzhn', 'expanded_url': 'https://bit.ly/36XQg17', 'display_url': 'bit.ly/36XQg17', 'indices': [72, 95]}, {'url': 'https://t.co/zNXA1PHZ1H', 'expanded_url': 'https://apple.co/2O1NYVK', 'display_url': 'apple.co/2O1NYVK', 'indices': [106, 129]}]}}, 'protected': False, 'followers_count': 19606, 'friends_count': 81, 'listed_count': 34, 'created_at': 'Tue Mar 19 13:16:31 +0000 2019', 'favourites_count': 216, 'utc_offset': None, 'time_zone': None, 'geo_enabled': False, 'verified': False, 'statuses_count': 10332, 'lang': None, 'contributors_enabled': False, 'is_translator': False, 'is_translation_enabled': False, 'profile_background_color': 'F5F8FA', 'profile_background_image_url': None, 'profile_background_image_url_https': None, 'profile_background_tile': False, 'profile_image_url': 'http://pbs.twimg.com/profile_images/1159031973991501824/5rmV83Dg_normal.jpg', 'profile_image_url_https': 'https://pbs.twimg.com/profile_images/1159031973991501824/5rmV83Dg_normal.jpg', 'profile_banner_url': 'https://pbs.twimg.com/profile_banners/1107994256797384704/1617780581', 'profile_link_color': '1DA1F2', 'profile_sidebar_border_color': 'C0DEED', 'profile_sidebar_fill_color': 'DDEEF6', 'profile_text_color': '333333', 'profile_use_background_image': True, 'has_extended_profile': False, 'default_profile': True, 'default_profile_image': False, 'following': False, 'follow_request_sent': False, 'notifications': False, 'translator_type': 'none', 'withheld_in_countries': []}, id=1107994256797384704, id_str='1107994256797384704', name='Cricket.com', screen_name='weRcricket', location='', description='Cricket like never before. To download the app, click here for Android: https://t.co/egj5keHzhn, for iOS: https://t.co/zNXA1PHZ1H', url='https://t.co/VByA7GBWbl', entities={'url': {'urls': [{'url': 'https://t.co/VByA7GBWbl', 'expanded_url': 'https://www.cricket.com/', 'display_url': 'cricket.com', 'indices': [0, 23]}]}, 'description': {'urls': [{'url': 'https://t.co/egj5keHzhn', 'expanded_url': 'https://bit.ly/36XQg17', 'display_url': 'bit.ly/36XQg17', 'indices': [72, 95]}, {'url': 'https://t.co/zNXA1PHZ1H', 'expanded_url': 'https://apple.co/2O1NYVK', 'display_url': 'apple.co/2O1NYVK', 'indices': [106, 129]}]}}, protected=False, followers_count=19606, friends_count=81, listed_count=34, created_at=datetime.datetime(2019, 3, 19, 13, 16, 31), favourites_count=216, utc_offset=None, time_zone=None, geo_enabled=False, verified=False, statuses_count=10332, lang=None, contributors_enabled=False, is_translator=False, is_translation_enabled=False, profile_background_color='F5F8FA', profile_background_image_url=None, profile_background_image_url_https=None, profile_background_tile=False, profile_image_url='http://pbs.twimg.com/profile_images/1159031973991501824/5rmV83Dg_normal.jpg', profile_image_url_https='https://pbs.twimg.com/profile_images/1159031973991501824/5rmV83Dg_normal.jpg', profile_banner_url='https://pbs.twimg.com/profile_banners/1107994256797384704/1617780581', profile_link_color='1DA1F2', profile_sidebar_border_color='C0DEED', profile_sidebar_fill_color='DDEEF6', profile_text_color='333333', profile_use_background_image=True, has_extended_profile=False, default_profile=True, default_profile_image=False, following=False, follow_request_sent=False, notifications=False, translator_type='none', withheld_in_countries=[]), user=User(_api=<tweepy.api.API object at 0x00000204E8E29070>, _json={'id': 1107994256797384704, 'id_str': '1107994256797384704', 'name': 'Cricket.com', 'screen_name': 'weRcricket', 'location': '', 'description': 'Cricket like never before. To download the app, click here for Android: https://t.co/egj5keHzhn, for iOS: https://t.co/zNXA1PHZ1H', 'url': 'https://t.co/VByA7GBWbl', 'entities': {'url': {'urls': [{'url': 'https://t.co/VByA7GBWbl', 'expanded_url': 'https://www.cricket.com/', 'display_url': 'cricket.com', 'indices': [0, 23]}]}, 'description': {'urls': [{'url': 'https://t.co/egj5keHzhn', 'expanded_url': 'https://bit.ly/36XQg17', 'display_url': 'bit.ly/36XQg17', 'indices': [72, 95]}, {'url': 'https://t.co/zNXA1PHZ1H', 'expanded_url': 'https://apple.co/2O1NYVK', 'display_url': 'apple.co/2O1NYVK', 'indices': [106, 129]}]}}, 'protected': False, 'followers_count': 19606, 'friends_count': 81, 'listed_count': 34, 'created_at': 'Tue Mar 19 13:16:31 +0000 2019', 'favourites_count': 216, 'utc_offset': None, 'time_zone': None, 'geo_enabled': False, 'verified': False, 'statuses_count': 10332, 'lang': None, 'contributors_enabled': False, 'is_translator': False, 'is_translation_enabled': False, 'profile_background_color': 'F5F8FA', 'profile_background_image_url': None, 'profile_background_image_url_https': None, 'profile_background_tile': False, 'profile_image_url': 'http://pbs.twimg.com/profile_images/1159031973991501824/5rmV83Dg_normal.jpg', 'profile_image_url_https': 'https://pbs.twimg.com/profile_images/1159031973991501824/5rmV83Dg_normal.jpg', 'profile_banner_url': 'https://pbs.twimg.com/profile_banners/1107994256797384704/1617780581', 'profile_link_color': '1DA1F2', 'profile_sidebar_border_color': 'C0DEED', 'profile_sidebar_fill_color': 'DDEEF6', 'profile_text_color': '333333', 'profile_use_background_image': True, 'has_extended_profile': False, 'default_profile': True, 'default_profile_image': False, 'following': False, 'follow_request_sent': False, 'notifications': False, 'translator_type': 'none', 'withheld_in_countries': []}, id=1107994256797384704, id_str='1107994256797384704', name='Cricket.com', screen_name='weRcricket', location='', description='Cricket like never before. To download the app, click here for Android: https://t.co/egj5keHzhn, for iOS: https://t.co/zNXA1PHZ1H', url='https://t.co/VByA7GBWbl', entities={'url': {'urls': [{'url': 'https://t.co/VByA7GBWbl', 'expanded_url': 'https://www.cricket.com/', 'display_url': 'cricket.com', 'indices': [0, 23]}]}, 'description': {'urls': [{'url': 'https://t.co/egj5keHzhn', 'expanded_url': 'https://bit.ly/36XQg17', 'display_url': 'bit.ly/36XQg17', 'indices': [72, 95]}, {'url': 'https://t.co/zNXA1PHZ1H', 'expanded_url': 'https://apple.co/2O1NYVK', 'display_url': 'apple.co/2O1NYVK', 'indices': [106, 129]}]}}, protected=False, followers_count=19606, friends_count=81, listed_count=34, created_at=datetime.datetime(2019, 3, 19, 13, 16, 31), favourites_count=216, utc_offset=None, time_zone=None, geo_enabled=False, verified=False, statuses_count=10332, lang=None, contributors_enabled=False, is_translator=False, is_translation_enabled=False, profile_background_color='F5F8FA', profile_background_image_url=None, profile_background_image_url_https=None, profile_background_tile=False, profile_image_url='http://pbs.twimg.com/profile_images/1159031973991501824/5rmV83Dg_normal.jpg', profile_image_url_https='https://pbs.twimg.com/profile_images/1159031973991501824/5rmV83Dg_normal.jpg', profile_banner_url='https://pbs.twimg.com/profile_banners/1107994256797384704/1617780581', profile_link_color='1DA1F2', profile_sidebar_border_color='C0DEED', profile_sidebar_fill_color='DDEEF6', profile_text_color='333333', profile_use_background_image=True, has_extended_profile=False, default_profile=True, default_profile_image=False, following=False, follow_request_sent=False, notifications=False, translator_type='none', withheld_in_countries=[]), geo=None, coordinates=None, place=None, contributors=None, is_quote_status=False, retweet_count=0, favorite_count=2, favorited=False, retweeted=False, possibly_sensitive=False, lang='en') \n",
      "\n",
      ".....................................\n",
      "\n",
      "Status(_api=<tweepy.api.API object at 0x00000204E8E29070>, _json={'created_at': 'Sat Jun 19 09:13:42 +0000 2021', 'id': 1406178365665513476, 'id_str': '1406178365665513476', 'full_text': 'New Zealand win the coin toss and will BOWL first as the World Test Championship final looks set to get underway on day two #WTC21 \\n\\nhttps://t.co/eIBPhuIMDg', 'truncated': False, 'display_text_range': [0, 156], 'entities': {'hashtags': [{'text': 'WTC21', 'indices': [124, 130]}], 'symbols': [], 'user_mentions': [], 'urls': [{'url': 'https://t.co/eIBPhuIMDg', 'expanded_url': 'https://live.cricket.com.au/match/2781/50883/india-men-vs-new-zealand-men-icc-world-test-championship/scorecard', 'display_url': 'live.cricket.com.au/match/2781/508…', 'indices': [133, 156]}]}, 'metadata': {'iso_language_code': 'en', 'result_type': 'recent'}, 'source': '<a href=\"https://about.twitter.com/products/tweetdeck\" rel=\"nofollow\">TweetDeck</a>', 'in_reply_to_status_id': None, 'in_reply_to_status_id_str': None, 'in_reply_to_user_id': None, 'in_reply_to_user_id_str': None, 'in_reply_to_screen_name': None, 'user': {'id': 17692554, 'id_str': '17692554', 'name': 'cricket.com.au', 'screen_name': 'cricketcomau', 'location': 'Australia', 'description': \"Cricket news, scores and highlights produced by Cricket Australia's digital content team. Follow @CricketAus for official CA communication.\", 'url': 'https://t.co/fJ2gRSK7px', 'entities': {'url': {'urls': [{'url': 'https://t.co/fJ2gRSK7px', 'expanded_url': 'http://www.cricket.com.au', 'display_url': 'cricket.com.au', 'indices': [0, 23]}]}, 'description': {'urls': []}}, 'protected': False, 'followers_count': 1344931, 'friends_count': 448, 'listed_count': 3168, 'created_at': 'Thu Nov 27 23:08:53 +0000 2008', 'favourites_count': 4459, 'utc_offset': None, 'time_zone': None, 'geo_enabled': True, 'verified': True, 'statuses_count': 142456, 'lang': None, 'contributors_enabled': False, 'is_translator': False, 'is_translation_enabled': False, 'profile_background_color': '000502', 'profile_background_image_url': 'http://abs.twimg.com/images/themes/theme1/bg.png', 'profile_background_image_url_https': 'https://abs.twimg.com/images/themes/theme1/bg.png', 'profile_background_tile': False, 'profile_image_url': 'http://pbs.twimg.com/profile_images/1348037649311830016/QdFOrA_P_normal.png', 'profile_image_url_https': 'https://pbs.twimg.com/profile_images/1348037649311830016/QdFOrA_P_normal.png', 'profile_banner_url': 'https://pbs.twimg.com/profile_banners/17692554/1611062429', 'profile_link_color': '000500', 'profile_sidebar_border_color': '000000', 'profile_sidebar_fill_color': 'D1DA69', 'profile_text_color': '212121', 'profile_use_background_image': True, 'has_extended_profile': False, 'default_profile': False, 'default_profile_image': False, 'following': False, 'follow_request_sent': False, 'notifications': False, 'translator_type': 'none', 'withheld_in_countries': []}, 'geo': None, 'coordinates': None, 'place': None, 'contributors': None, 'is_quote_status': False, 'retweet_count': 13, 'favorite_count': 252, 'favorited': False, 'retweeted': False, 'possibly_sensitive': False, 'lang': 'en'}, created_at=datetime.datetime(2021, 6, 19, 9, 13, 42), id=1406178365665513476, id_str='1406178365665513476', full_text='New Zealand win the coin toss and will BOWL first as the World Test Championship final looks set to get underway on day two #WTC21 \\n\\nhttps://t.co/eIBPhuIMDg', truncated=False, display_text_range=[0, 156], entities={'hashtags': [{'text': 'WTC21', 'indices': [124, 130]}], 'symbols': [], 'user_mentions': [], 'urls': [{'url': 'https://t.co/eIBPhuIMDg', 'expanded_url': 'https://live.cricket.com.au/match/2781/50883/india-men-vs-new-zealand-men-icc-world-test-championship/scorecard', 'display_url': 'live.cricket.com.au/match/2781/508…', 'indices': [133, 156]}]}, metadata={'iso_language_code': 'en', 'result_type': 'recent'}, source='TweetDeck', source_url='https://about.twitter.com/products/tweetdeck', in_reply_to_status_id=None, in_reply_to_status_id_str=None, in_reply_to_user_id=None, in_reply_to_user_id_str=None, in_reply_to_screen_name=None, author=User(_api=<tweepy.api.API object at 0x00000204E8E29070>, _json={'id': 17692554, 'id_str': '17692554', 'name': 'cricket.com.au', 'screen_name': 'cricketcomau', 'location': 'Australia', 'description': \"Cricket news, scores and highlights produced by Cricket Australia's digital content team. Follow @CricketAus for official CA communication.\", 'url': 'https://t.co/fJ2gRSK7px', 'entities': {'url': {'urls': [{'url': 'https://t.co/fJ2gRSK7px', 'expanded_url': 'http://www.cricket.com.au', 'display_url': 'cricket.com.au', 'indices': [0, 23]}]}, 'description': {'urls': []}}, 'protected': False, 'followers_count': 1344931, 'friends_count': 448, 'listed_count': 3168, 'created_at': 'Thu Nov 27 23:08:53 +0000 2008', 'favourites_count': 4459, 'utc_offset': None, 'time_zone': None, 'geo_enabled': True, 'verified': True, 'statuses_count': 142456, 'lang': None, 'contributors_enabled': False, 'is_translator': False, 'is_translation_enabled': False, 'profile_background_color': '000502', 'profile_background_image_url': 'http://abs.twimg.com/images/themes/theme1/bg.png', 'profile_background_image_url_https': 'https://abs.twimg.com/images/themes/theme1/bg.png', 'profile_background_tile': False, 'profile_image_url': 'http://pbs.twimg.com/profile_images/1348037649311830016/QdFOrA_P_normal.png', 'profile_image_url_https': 'https://pbs.twimg.com/profile_images/1348037649311830016/QdFOrA_P_normal.png', 'profile_banner_url': 'https://pbs.twimg.com/profile_banners/17692554/1611062429', 'profile_link_color': '000500', 'profile_sidebar_border_color': '000000', 'profile_sidebar_fill_color': 'D1DA69', 'profile_text_color': '212121', 'profile_use_background_image': True, 'has_extended_profile': False, 'default_profile': False, 'default_profile_image': False, 'following': False, 'follow_request_sent': False, 'notifications': False, 'translator_type': 'none', 'withheld_in_countries': []}, id=17692554, id_str='17692554', name='cricket.com.au', screen_name='cricketcomau', location='Australia', description=\"Cricket news, scores and highlights produced by Cricket Australia's digital content team. Follow @CricketAus for official CA communication.\", url='https://t.co/fJ2gRSK7px', entities={'url': {'urls': [{'url': 'https://t.co/fJ2gRSK7px', 'expanded_url': 'http://www.cricket.com.au', 'display_url': 'cricket.com.au', 'indices': [0, 23]}]}, 'description': {'urls': []}}, protected=False, followers_count=1344931, friends_count=448, listed_count=3168, created_at=datetime.datetime(2008, 11, 27, 23, 8, 53), favourites_count=4459, utc_offset=None, time_zone=None, geo_enabled=True, verified=True, statuses_count=142456, lang=None, contributors_enabled=False, is_translator=False, is_translation_enabled=False, profile_background_color='000502', profile_background_image_url='http://abs.twimg.com/images/themes/theme1/bg.png', profile_background_image_url_https='https://abs.twimg.com/images/themes/theme1/bg.png', profile_background_tile=False, profile_image_url='http://pbs.twimg.com/profile_images/1348037649311830016/QdFOrA_P_normal.png', profile_image_url_https='https://pbs.twimg.com/profile_images/1348037649311830016/QdFOrA_P_normal.png', profile_banner_url='https://pbs.twimg.com/profile_banners/17692554/1611062429', profile_link_color='000500', profile_sidebar_border_color='000000', profile_sidebar_fill_color='D1DA69', profile_text_color='212121', profile_use_background_image=True, has_extended_profile=False, default_profile=False, default_profile_image=False, following=False, follow_request_sent=False, notifications=False, translator_type='none', withheld_in_countries=[]), user=User(_api=<tweepy.api.API object at 0x00000204E8E29070>, _json={'id': 17692554, 'id_str': '17692554', 'name': 'cricket.com.au', 'screen_name': 'cricketcomau', 'location': 'Australia', 'description': \"Cricket news, scores and highlights produced by Cricket Australia's digital content team. Follow @CricketAus for official CA communication.\", 'url': 'https://t.co/fJ2gRSK7px', 'entities': {'url': {'urls': [{'url': 'https://t.co/fJ2gRSK7px', 'expanded_url': 'http://www.cricket.com.au', 'display_url': 'cricket.com.au', 'indices': [0, 23]}]}, 'description': {'urls': []}}, 'protected': False, 'followers_count': 1344931, 'friends_count': 448, 'listed_count': 3168, 'created_at': 'Thu Nov 27 23:08:53 +0000 2008', 'favourites_count': 4459, 'utc_offset': None, 'time_zone': None, 'geo_enabled': True, 'verified': True, 'statuses_count': 142456, 'lang': None, 'contributors_enabled': False, 'is_translator': False, 'is_translation_enabled': False, 'profile_background_color': '000502', 'profile_background_image_url': 'http://abs.twimg.com/images/themes/theme1/bg.png', 'profile_background_image_url_https': 'https://abs.twimg.com/images/themes/theme1/bg.png', 'profile_background_tile': False, 'profile_image_url': 'http://pbs.twimg.com/profile_images/1348037649311830016/QdFOrA_P_normal.png', 'profile_image_url_https': 'https://pbs.twimg.com/profile_images/1348037649311830016/QdFOrA_P_normal.png', 'profile_banner_url': 'https://pbs.twimg.com/profile_banners/17692554/1611062429', 'profile_link_color': '000500', 'profile_sidebar_border_color': '000000', 'profile_sidebar_fill_color': 'D1DA69', 'profile_text_color': '212121', 'profile_use_background_image': True, 'has_extended_profile': False, 'default_profile': False, 'default_profile_image': False, 'following': False, 'follow_request_sent': False, 'notifications': False, 'translator_type': 'none', 'withheld_in_countries': []}, id=17692554, id_str='17692554', name='cricket.com.au', screen_name='cricketcomau', location='Australia', description=\"Cricket news, scores and highlights produced by Cricket Australia's digital content team. Follow @CricketAus for official CA communication.\", url='https://t.co/fJ2gRSK7px', entities={'url': {'urls': [{'url': 'https://t.co/fJ2gRSK7px', 'expanded_url': 'http://www.cricket.com.au', 'display_url': 'cricket.com.au', 'indices': [0, 23]}]}, 'description': {'urls': []}}, protected=False, followers_count=1344931, friends_count=448, listed_count=3168, created_at=datetime.datetime(2008, 11, 27, 23, 8, 53), favourites_count=4459, utc_offset=None, time_zone=None, geo_enabled=True, verified=True, statuses_count=142456, lang=None, contributors_enabled=False, is_translator=False, is_translation_enabled=False, profile_background_color='000502', profile_background_image_url='http://abs.twimg.com/images/themes/theme1/bg.png', profile_background_image_url_https='https://abs.twimg.com/images/themes/theme1/bg.png', profile_background_tile=False, profile_image_url='http://pbs.twimg.com/profile_images/1348037649311830016/QdFOrA_P_normal.png', profile_image_url_https='https://pbs.twimg.com/profile_images/1348037649311830016/QdFOrA_P_normal.png', profile_banner_url='https://pbs.twimg.com/profile_banners/17692554/1611062429', profile_link_color='000500', profile_sidebar_border_color='000000', profile_sidebar_fill_color='D1DA69', profile_text_color='212121', profile_use_background_image=True, has_extended_profile=False, default_profile=False, default_profile_image=False, following=False, follow_request_sent=False, notifications=False, translator_type='none', withheld_in_countries=[]), geo=None, coordinates=None, place=None, contributors=None, is_quote_status=False, retweet_count=13, favorite_count=252, favorited=False, retweeted=False, possibly_sensitive=False, lang='en') \n",
      "\n",
      ".....................................\n",
      "\n",
      "Status(_api=<tweepy.api.API object at 0x00000204E8E29070>, _json={'created_at': 'Sat Jun 19 09:10:51 +0000 2021', 'id': 1406177650117201922, 'id_str': '1406177650117201922', 'full_text': 'Hoping this prediction fails 😣🤧\\n\\nIND vs NZ: If New Zealand Win Toss &amp; Bowl, India Will Be All Out on Day 1: Shane Bond https://t.co/fVNJ4Q2qeg', 'truncated': False, 'display_text_range': [0, 146], 'entities': {'hashtags': [], 'symbols': [], 'user_mentions': [], 'urls': [{'url': 'https://t.co/fVNJ4Q2qeg', 'expanded_url': 'https://www.thequint.com/sports/cricket/shane-bond-video-india-vs-new-zealand-world-test-championship-final-preview', 'display_url': 'thequint.com/sports/cricket…', 'indices': [123, 146]}]}, 'metadata': {'iso_language_code': 'en', 'result_type': 'recent'}, 'source': '<a href=\"http://twitter.com/download/android\" rel=\"nofollow\">Twitter for Android</a>', 'in_reply_to_status_id': None, 'in_reply_to_status_id_str': None, 'in_reply_to_user_id': None, 'in_reply_to_user_id_str': None, 'in_reply_to_screen_name': None, 'user': {'id': 2235048698, 'id_str': '2235048698', 'name': 'Shreyansh Singh Suryavanshi', 'screen_name': 'ShreyanshLaw', 'location': 'Gorakhpur - Delhi ', 'description': 'Lawyer |\\nI care about Mental Health |\\n| A.I. LegalTech enthusiast and almost a nice person 🙂', 'url': None, 'entities': {'description': {'urls': []}}, 'protected': False, 'followers_count': 719, 'friends_count': 1017, 'listed_count': 3, 'created_at': 'Sat Dec 07 20:57:08 +0000 2013', 'favourites_count': 17546, 'utc_offset': None, 'time_zone': None, 'geo_enabled': False, 'verified': False, 'statuses_count': 4189, 'lang': None, 'contributors_enabled': False, 'is_translator': False, 'is_translation_enabled': False, 'profile_background_color': 'C0DEED', 'profile_background_image_url': 'http://abs.twimg.com/images/themes/theme1/bg.png', 'profile_background_image_url_https': 'https://abs.twimg.com/images/themes/theme1/bg.png', 'profile_background_tile': False, 'profile_image_url': 'http://pbs.twimg.com/profile_images/1407199719219109902/NoDx2P2H_normal.jpg', 'profile_image_url_https': 'https://pbs.twimg.com/profile_images/1407199719219109902/NoDx2P2H_normal.jpg', 'profile_banner_url': 'https://pbs.twimg.com/profile_banners/2235048698/1624252761', 'profile_link_color': '1DA1F2', 'profile_sidebar_border_color': 'C0DEED', 'profile_sidebar_fill_color': 'DDEEF6', 'profile_text_color': '333333', 'profile_use_background_image': True, 'has_extended_profile': False, 'default_profile': True, 'default_profile_image': False, 'following': False, 'follow_request_sent': False, 'notifications': False, 'translator_type': 'none', 'withheld_in_countries': []}, 'geo': None, 'coordinates': None, 'place': None, 'contributors': None, 'is_quote_status': False, 'retweet_count': 0, 'favorite_count': 2, 'favorited': False, 'retweeted': False, 'possibly_sensitive': False, 'lang': 'en'}, created_at=datetime.datetime(2021, 6, 19, 9, 10, 51), id=1406177650117201922, id_str='1406177650117201922', full_text='Hoping this prediction fails 😣🤧\\n\\nIND vs NZ: If New Zealand Win Toss &amp; Bowl, India Will Be All Out on Day 1: Shane Bond https://t.co/fVNJ4Q2qeg', truncated=False, display_text_range=[0, 146], entities={'hashtags': [], 'symbols': [], 'user_mentions': [], 'urls': [{'url': 'https://t.co/fVNJ4Q2qeg', 'expanded_url': 'https://www.thequint.com/sports/cricket/shane-bond-video-india-vs-new-zealand-world-test-championship-final-preview', 'display_url': 'thequint.com/sports/cricket…', 'indices': [123, 146]}]}, metadata={'iso_language_code': 'en', 'result_type': 'recent'}, source='Twitter for Android', source_url='http://twitter.com/download/android', in_reply_to_status_id=None, in_reply_to_status_id_str=None, in_reply_to_user_id=None, in_reply_to_user_id_str=None, in_reply_to_screen_name=None, author=User(_api=<tweepy.api.API object at 0x00000204E8E29070>, _json={'id': 2235048698, 'id_str': '2235048698', 'name': 'Shreyansh Singh Suryavanshi', 'screen_name': 'ShreyanshLaw', 'location': 'Gorakhpur - Delhi ', 'description': 'Lawyer |\\nI care about Mental Health |\\n| A.I. LegalTech enthusiast and almost a nice person 🙂', 'url': None, 'entities': {'description': {'urls': []}}, 'protected': False, 'followers_count': 719, 'friends_count': 1017, 'listed_count': 3, 'created_at': 'Sat Dec 07 20:57:08 +0000 2013', 'favourites_count': 17546, 'utc_offset': None, 'time_zone': None, 'geo_enabled': False, 'verified': False, 'statuses_count': 4189, 'lang': None, 'contributors_enabled': False, 'is_translator': False, 'is_translation_enabled': False, 'profile_background_color': 'C0DEED', 'profile_background_image_url': 'http://abs.twimg.com/images/themes/theme1/bg.png', 'profile_background_image_url_https': 'https://abs.twimg.com/images/themes/theme1/bg.png', 'profile_background_tile': False, 'profile_image_url': 'http://pbs.twimg.com/profile_images/1407199719219109902/NoDx2P2H_normal.jpg', 'profile_image_url_https': 'https://pbs.twimg.com/profile_images/1407199719219109902/NoDx2P2H_normal.jpg', 'profile_banner_url': 'https://pbs.twimg.com/profile_banners/2235048698/1624252761', 'profile_link_color': '1DA1F2', 'profile_sidebar_border_color': 'C0DEED', 'profile_sidebar_fill_color': 'DDEEF6', 'profile_text_color': '333333', 'profile_use_background_image': True, 'has_extended_profile': False, 'default_profile': True, 'default_profile_image': False, 'following': False, 'follow_request_sent': False, 'notifications': False, 'translator_type': 'none', 'withheld_in_countries': []}, id=2235048698, id_str='2235048698', name='Shreyansh Singh Suryavanshi', screen_name='ShreyanshLaw', location='Gorakhpur - Delhi ', description='Lawyer |\\nI care about Mental Health |\\n| A.I. LegalTech enthusiast and almost a nice person 🙂', url=None, entities={'description': {'urls': []}}, protected=False, followers_count=719, friends_count=1017, listed_count=3, created_at=datetime.datetime(2013, 12, 7, 20, 57, 8), favourites_count=17546, utc_offset=None, time_zone=None, geo_enabled=False, verified=False, statuses_count=4189, lang=None, contributors_enabled=False, is_translator=False, is_translation_enabled=False, profile_background_color='C0DEED', profile_background_image_url='http://abs.twimg.com/images/themes/theme1/bg.png', profile_background_image_url_https='https://abs.twimg.com/images/themes/theme1/bg.png', profile_background_tile=False, profile_image_url='http://pbs.twimg.com/profile_images/1407199719219109902/NoDx2P2H_normal.jpg', profile_image_url_https='https://pbs.twimg.com/profile_images/1407199719219109902/NoDx2P2H_normal.jpg', profile_banner_url='https://pbs.twimg.com/profile_banners/2235048698/1624252761', profile_link_color='1DA1F2', profile_sidebar_border_color='C0DEED', profile_sidebar_fill_color='DDEEF6', profile_text_color='333333', profile_use_background_image=True, has_extended_profile=False, default_profile=True, default_profile_image=False, following=False, follow_request_sent=False, notifications=False, translator_type='none', withheld_in_countries=[]), user=User(_api=<tweepy.api.API object at 0x00000204E8E29070>, _json={'id': 2235048698, 'id_str': '2235048698', 'name': 'Shreyansh Singh Suryavanshi', 'screen_name': 'ShreyanshLaw', 'location': 'Gorakhpur - Delhi ', 'description': 'Lawyer |\\nI care about Mental Health |\\n| A.I. LegalTech enthusiast and almost a nice person 🙂', 'url': None, 'entities': {'description': {'urls': []}}, 'protected': False, 'followers_count': 719, 'friends_count': 1017, 'listed_count': 3, 'created_at': 'Sat Dec 07 20:57:08 +0000 2013', 'favourites_count': 17546, 'utc_offset': None, 'time_zone': None, 'geo_enabled': False, 'verified': False, 'statuses_count': 4189, 'lang': None, 'contributors_enabled': False, 'is_translator': False, 'is_translation_enabled': False, 'profile_background_color': 'C0DEED', 'profile_background_image_url': 'http://abs.twimg.com/images/themes/theme1/bg.png', 'profile_background_image_url_https': 'https://abs.twimg.com/images/themes/theme1/bg.png', 'profile_background_tile': False, 'profile_image_url': 'http://pbs.twimg.com/profile_images/1407199719219109902/NoDx2P2H_normal.jpg', 'profile_image_url_https': 'https://pbs.twimg.com/profile_images/1407199719219109902/NoDx2P2H_normal.jpg', 'profile_banner_url': 'https://pbs.twimg.com/profile_banners/2235048698/1624252761', 'profile_link_color': '1DA1F2', 'profile_sidebar_border_color': 'C0DEED', 'profile_sidebar_fill_color': 'DDEEF6', 'profile_text_color': '333333', 'profile_use_background_image': True, 'has_extended_profile': False, 'default_profile': True, 'default_profile_image': False, 'following': False, 'follow_request_sent': False, 'notifications': False, 'translator_type': 'none', 'withheld_in_countries': []}, id=2235048698, id_str='2235048698', name='Shreyansh Singh Suryavanshi', screen_name='ShreyanshLaw', location='Gorakhpur - Delhi ', description='Lawyer |\\nI care about Mental Health |\\n| A.I. LegalTech enthusiast and almost a nice person 🙂', url=None, entities={'description': {'urls': []}}, protected=False, followers_count=719, friends_count=1017, listed_count=3, created_at=datetime.datetime(2013, 12, 7, 20, 57, 8), favourites_count=17546, utc_offset=None, time_zone=None, geo_enabled=False, verified=False, statuses_count=4189, lang=None, contributors_enabled=False, is_translator=False, is_translation_enabled=False, profile_background_color='C0DEED', profile_background_image_url='http://abs.twimg.com/images/themes/theme1/bg.png', profile_background_image_url_https='https://abs.twimg.com/images/themes/theme1/bg.png', profile_background_tile=False, profile_image_url='http://pbs.twimg.com/profile_images/1407199719219109902/NoDx2P2H_normal.jpg', profile_image_url_https='https://pbs.twimg.com/profile_images/1407199719219109902/NoDx2P2H_normal.jpg', profile_banner_url='https://pbs.twimg.com/profile_banners/2235048698/1624252761', profile_link_color='1DA1F2', profile_sidebar_border_color='C0DEED', profile_sidebar_fill_color='DDEEF6', profile_text_color='333333', profile_use_background_image=True, has_extended_profile=False, default_profile=True, default_profile_image=False, following=False, follow_request_sent=False, notifications=False, translator_type='none', withheld_in_countries=[]), geo=None, coordinates=None, place=None, contributors=None, is_quote_status=False, retweet_count=0, favorite_count=2, favorited=False, retweeted=False, possibly_sensitive=False, lang='en') \n",
      "\n",
      ".....................................\n",
      "\n",
      "Status(_api=<tweepy.api.API object at 0x00000204E8E29070>, _json={'created_at': 'Fri Jun 18 18:22:17 +0000 2021', 'id': 1405954033483862019, 'id_str': '1405954033483862019', 'full_text': 'What! Pakistani panelist - INDIA will win the WORLD TEST CHAMPIONSHIP | ... https://t.co/uMG2Wbq3v5 via @YouTube #wtcfinal #india #newzealand #england #pakistan #cricket #trending #viral #ViralVideo #tiktok #sporttak #vikrant #aajtak', 'truncated': False, 'display_text_range': [0, 233], 'entities': {'hashtags': [{'text': 'wtcfinal', 'indices': [113, 122]}, {'text': 'india', 'indices': [123, 129]}, {'text': 'newzealand', 'indices': [130, 141]}, {'text': 'england', 'indices': [142, 150]}, {'text': 'pakistan', 'indices': [151, 160]}, {'text': 'cricket', 'indices': [161, 169]}, {'text': 'trending', 'indices': [170, 179]}, {'text': 'viral', 'indices': [180, 186]}, {'text': 'ViralVideo', 'indices': [187, 198]}, {'text': 'tiktok', 'indices': [199, 206]}, {'text': 'sporttak', 'indices': [207, 216]}, {'text': 'vikrant', 'indices': [217, 225]}, {'text': 'aajtak', 'indices': [226, 233]}], 'symbols': [], 'user_mentions': [{'screen_name': 'YouTube', 'name': 'YouTube', 'id': 10228272, 'id_str': '10228272', 'indices': [104, 112]}], 'urls': [{'url': 'https://t.co/uMG2Wbq3v5', 'expanded_url': 'https://youtu.be/KZGPk9KWfno', 'display_url': 'youtu.be/KZGPk9KWfno', 'indices': [76, 99]}]}, 'metadata': {'iso_language_code': 'en', 'result_type': 'recent'}, 'source': '<a href=\"https://mobile.twitter.com\" rel=\"nofollow\">Twitter Web App</a>', 'in_reply_to_status_id': None, 'in_reply_to_status_id_str': None, 'in_reply_to_user_id': None, 'in_reply_to_user_id_str': None, 'in_reply_to_screen_name': None, 'user': {'id': 286076676, 'id_str': '286076676', 'name': 'Amit Verma', 'screen_name': 'aka_beingroyal', 'location': 'India', 'description': 'Instagram- @aka_beingroyal\\nBindaas Bebaak Befikre....\\nWe are the masters of our own fate', 'url': None, 'entities': {'description': {'urls': []}}, 'protected': False, 'followers_count': 110, 'friends_count': 700, 'listed_count': 7, 'created_at': 'Fri Apr 22 09:12:48 +0000 2011', 'favourites_count': 1215, 'utc_offset': None, 'time_zone': None, 'geo_enabled': True, 'verified': False, 'statuses_count': 7900, 'lang': None, 'contributors_enabled': False, 'is_translator': False, 'is_translation_enabled': False, 'profile_background_color': 'ACDED6', 'profile_background_image_url': 'http://abs.twimg.com/images/themes/theme18/bg.gif', 'profile_background_image_url_https': 'https://abs.twimg.com/images/themes/theme18/bg.gif', 'profile_background_tile': False, 'profile_image_url': 'http://pbs.twimg.com/profile_images/1355239355137347585/vIfLENaO_normal.jpg', 'profile_image_url_https': 'https://pbs.twimg.com/profile_images/1355239355137347585/vIfLENaO_normal.jpg', 'profile_banner_url': 'https://pbs.twimg.com/profile_banners/286076676/1591976764', 'profile_link_color': '038543', 'profile_sidebar_border_color': 'FFFFFF', 'profile_sidebar_fill_color': 'F6F6F6', 'profile_text_color': '333333', 'profile_use_background_image': False, 'has_extended_profile': True, 'default_profile': False, 'default_profile_image': False, 'following': False, 'follow_request_sent': False, 'notifications': False, 'translator_type': 'none', 'withheld_in_countries': []}, 'geo': None, 'coordinates': None, 'place': None, 'contributors': None, 'is_quote_status': False, 'retweet_count': 0, 'favorite_count': 0, 'favorited': False, 'retweeted': False, 'possibly_sensitive': False, 'lang': 'en'}, created_at=datetime.datetime(2021, 6, 18, 18, 22, 17), id=1405954033483862019, id_str='1405954033483862019', full_text='What! Pakistani panelist - INDIA will win the WORLD TEST CHAMPIONSHIP | ... https://t.co/uMG2Wbq3v5 via @YouTube #wtcfinal #india #newzealand #england #pakistan #cricket #trending #viral #ViralVideo #tiktok #sporttak #vikrant #aajtak', truncated=False, display_text_range=[0, 233], entities={'hashtags': [{'text': 'wtcfinal', 'indices': [113, 122]}, {'text': 'india', 'indices': [123, 129]}, {'text': 'newzealand', 'indices': [130, 141]}, {'text': 'england', 'indices': [142, 150]}, {'text': 'pakistan', 'indices': [151, 160]}, {'text': 'cricket', 'indices': [161, 169]}, {'text': 'trending', 'indices': [170, 179]}, {'text': 'viral', 'indices': [180, 186]}, {'text': 'ViralVideo', 'indices': [187, 198]}, {'text': 'tiktok', 'indices': [199, 206]}, {'text': 'sporttak', 'indices': [207, 216]}, {'text': 'vikrant', 'indices': [217, 225]}, {'text': 'aajtak', 'indices': [226, 233]}], 'symbols': [], 'user_mentions': [{'screen_name': 'YouTube', 'name': 'YouTube', 'id': 10228272, 'id_str': '10228272', 'indices': [104, 112]}], 'urls': [{'url': 'https://t.co/uMG2Wbq3v5', 'expanded_url': 'https://youtu.be/KZGPk9KWfno', 'display_url': 'youtu.be/KZGPk9KWfno', 'indices': [76, 99]}]}, metadata={'iso_language_code': 'en', 'result_type': 'recent'}, source='Twitter Web App', source_url='https://mobile.twitter.com', in_reply_to_status_id=None, in_reply_to_status_id_str=None, in_reply_to_user_id=None, in_reply_to_user_id_str=None, in_reply_to_screen_name=None, author=User(_api=<tweepy.api.API object at 0x00000204E8E29070>, _json={'id': 286076676, 'id_str': '286076676', 'name': 'Amit Verma', 'screen_name': 'aka_beingroyal', 'location': 'India', 'description': 'Instagram- @aka_beingroyal\\nBindaas Bebaak Befikre....\\nWe are the masters of our own fate', 'url': None, 'entities': {'description': {'urls': []}}, 'protected': False, 'followers_count': 110, 'friends_count': 700, 'listed_count': 7, 'created_at': 'Fri Apr 22 09:12:48 +0000 2011', 'favourites_count': 1215, 'utc_offset': None, 'time_zone': None, 'geo_enabled': True, 'verified': False, 'statuses_count': 7900, 'lang': None, 'contributors_enabled': False, 'is_translator': False, 'is_translation_enabled': False, 'profile_background_color': 'ACDED6', 'profile_background_image_url': 'http://abs.twimg.com/images/themes/theme18/bg.gif', 'profile_background_image_url_https': 'https://abs.twimg.com/images/themes/theme18/bg.gif', 'profile_background_tile': False, 'profile_image_url': 'http://pbs.twimg.com/profile_images/1355239355137347585/vIfLENaO_normal.jpg', 'profile_image_url_https': 'https://pbs.twimg.com/profile_images/1355239355137347585/vIfLENaO_normal.jpg', 'profile_banner_url': 'https://pbs.twimg.com/profile_banners/286076676/1591976764', 'profile_link_color': '038543', 'profile_sidebar_border_color': 'FFFFFF', 'profile_sidebar_fill_color': 'F6F6F6', 'profile_text_color': '333333', 'profile_use_background_image': False, 'has_extended_profile': True, 'default_profile': False, 'default_profile_image': False, 'following': False, 'follow_request_sent': False, 'notifications': False, 'translator_type': 'none', 'withheld_in_countries': []}, id=286076676, id_str='286076676', name='Amit Verma', screen_name='aka_beingroyal', location='India', description='Instagram- @aka_beingroyal\\nBindaas Bebaak Befikre....\\nWe are the masters of our own fate', url=None, entities={'description': {'urls': []}}, protected=False, followers_count=110, friends_count=700, listed_count=7, created_at=datetime.datetime(2011, 4, 22, 9, 12, 48), favourites_count=1215, utc_offset=None, time_zone=None, geo_enabled=True, verified=False, statuses_count=7900, lang=None, contributors_enabled=False, is_translator=False, is_translation_enabled=False, profile_background_color='ACDED6', profile_background_image_url='http://abs.twimg.com/images/themes/theme18/bg.gif', profile_background_image_url_https='https://abs.twimg.com/images/themes/theme18/bg.gif', profile_background_tile=False, profile_image_url='http://pbs.twimg.com/profile_images/1355239355137347585/vIfLENaO_normal.jpg', profile_image_url_https='https://pbs.twimg.com/profile_images/1355239355137347585/vIfLENaO_normal.jpg', profile_banner_url='https://pbs.twimg.com/profile_banners/286076676/1591976764', profile_link_color='038543', profile_sidebar_border_color='FFFFFF', profile_sidebar_fill_color='F6F6F6', profile_text_color='333333', profile_use_background_image=False, has_extended_profile=True, default_profile=False, default_profile_image=False, following=False, follow_request_sent=False, notifications=False, translator_type='none', withheld_in_countries=[]), user=User(_api=<tweepy.api.API object at 0x00000204E8E29070>, _json={'id': 286076676, 'id_str': '286076676', 'name': 'Amit Verma', 'screen_name': 'aka_beingroyal', 'location': 'India', 'description': 'Instagram- @aka_beingroyal\\nBindaas Bebaak Befikre....\\nWe are the masters of our own fate', 'url': None, 'entities': {'description': {'urls': []}}, 'protected': False, 'followers_count': 110, 'friends_count': 700, 'listed_count': 7, 'created_at': 'Fri Apr 22 09:12:48 +0000 2011', 'favourites_count': 1215, 'utc_offset': None, 'time_zone': None, 'geo_enabled': True, 'verified': False, 'statuses_count': 7900, 'lang': None, 'contributors_enabled': False, 'is_translator': False, 'is_translation_enabled': False, 'profile_background_color': 'ACDED6', 'profile_background_image_url': 'http://abs.twimg.com/images/themes/theme18/bg.gif', 'profile_background_image_url_https': 'https://abs.twimg.com/images/themes/theme18/bg.gif', 'profile_background_tile': False, 'profile_image_url': 'http://pbs.twimg.com/profile_images/1355239355137347585/vIfLENaO_normal.jpg', 'profile_image_url_https': 'https://pbs.twimg.com/profile_images/1355239355137347585/vIfLENaO_normal.jpg', 'profile_banner_url': 'https://pbs.twimg.com/profile_banners/286076676/1591976764', 'profile_link_color': '038543', 'profile_sidebar_border_color': 'FFFFFF', 'profile_sidebar_fill_color': 'F6F6F6', 'profile_text_color': '333333', 'profile_use_background_image': False, 'has_extended_profile': True, 'default_profile': False, 'default_profile_image': False, 'following': False, 'follow_request_sent': False, 'notifications': False, 'translator_type': 'none', 'withheld_in_countries': []}, id=286076676, id_str='286076676', name='Amit Verma', screen_name='aka_beingroyal', location='India', description='Instagram- @aka_beingroyal\\nBindaas Bebaak Befikre....\\nWe are the masters of our own fate', url=None, entities={'description': {'urls': []}}, protected=False, followers_count=110, friends_count=700, listed_count=7, created_at=datetime.datetime(2011, 4, 22, 9, 12, 48), favourites_count=1215, utc_offset=None, time_zone=None, geo_enabled=True, verified=False, statuses_count=7900, lang=None, contributors_enabled=False, is_translator=False, is_translation_enabled=False, profile_background_color='ACDED6', profile_background_image_url='http://abs.twimg.com/images/themes/theme18/bg.gif', profile_background_image_url_https='https://abs.twimg.com/images/themes/theme18/bg.gif', profile_background_tile=False, profile_image_url='http://pbs.twimg.com/profile_images/1355239355137347585/vIfLENaO_normal.jpg', profile_image_url_https='https://pbs.twimg.com/profile_images/1355239355137347585/vIfLENaO_normal.jpg', profile_banner_url='https://pbs.twimg.com/profile_banners/286076676/1591976764', profile_link_color='038543', profile_sidebar_border_color='FFFFFF', profile_sidebar_fill_color='F6F6F6', profile_text_color='333333', profile_use_background_image=False, has_extended_profile=True, default_profile=False, default_profile_image=False, following=False, follow_request_sent=False, notifications=False, translator_type='none', withheld_in_countries=[]), geo=None, coordinates=None, place=None, contributors=None, is_quote_status=False, retweet_count=0, favorite_count=0, favorited=False, retweeted=False, possibly_sensitive=False, lang='en') \n",
      "\n",
      ".....................................\n",
      "\n",
      "Status(_api=<tweepy.api.API object at 0x00000204E8E29070>, _json={'created_at': 'Fri Jun 18 11:34:01 +0000 2021', 'id': 1405851288483418116, 'id_str': '1405851288483418116', 'full_text': 'Hopefully India will win this test championship ☺️#wtcfinal #IndiaVsNewZealand #WTC2021 #cricket', 'truncated': False, 'display_text_range': [0, 96], 'entities': {'hashtags': [{'text': 'wtcfinal', 'indices': [50, 59]}, {'text': 'IndiaVsNewZealand', 'indices': [60, 78]}, {'text': 'WTC2021', 'indices': [79, 87]}, {'text': 'cricket', 'indices': [88, 96]}], 'symbols': [], 'user_mentions': [], 'urls': []}, 'metadata': {'iso_language_code': 'en', 'result_type': 'recent'}, 'source': '<a href=\"http://twitter.com/download/android\" rel=\"nofollow\">Twitter for Android</a>', 'in_reply_to_status_id': None, 'in_reply_to_status_id_str': None, 'in_reply_to_user_id': None, 'in_reply_to_user_id_str': None, 'in_reply_to_screen_name': None, 'user': {'id': 1403399562836856833, 'id_str': '1403399562836856833', 'name': 'Mohan Sharma', 'screen_name': 'MohanSh13648409', 'location': '', 'description': '', 'url': None, 'entities': {'description': {'urls': []}}, 'protected': False, 'followers_count': 15, 'friends_count': 24, 'listed_count': 0, 'created_at': 'Fri Jun 11 17:12:20 +0000 2021', 'favourites_count': 0, 'utc_offset': None, 'time_zone': None, 'geo_enabled': False, 'verified': False, 'statuses_count': 1, 'lang': None, 'contributors_enabled': False, 'is_translator': False, 'is_translation_enabled': False, 'profile_background_color': 'F5F8FA', 'profile_background_image_url': None, 'profile_background_image_url_https': None, 'profile_background_tile': False, 'profile_image_url': 'http://pbs.twimg.com/profile_images/1403936046853677061/UoTKPAz6_normal.jpg', 'profile_image_url_https': 'https://pbs.twimg.com/profile_images/1403936046853677061/UoTKPAz6_normal.jpg', 'profile_link_color': '1DA1F2', 'profile_sidebar_border_color': 'C0DEED', 'profile_sidebar_fill_color': 'DDEEF6', 'profile_text_color': '333333', 'profile_use_background_image': True, 'has_extended_profile': True, 'default_profile': True, 'default_profile_image': False, 'following': False, 'follow_request_sent': False, 'notifications': False, 'translator_type': 'none', 'withheld_in_countries': []}, 'geo': None, 'coordinates': None, 'place': None, 'contributors': None, 'is_quote_status': False, 'retweet_count': 0, 'favorite_count': 1, 'favorited': False, 'retweeted': False, 'lang': 'en'}, created_at=datetime.datetime(2021, 6, 18, 11, 34, 1), id=1405851288483418116, id_str='1405851288483418116', full_text='Hopefully India will win this test championship ☺️#wtcfinal #IndiaVsNewZealand #WTC2021 #cricket', truncated=False, display_text_range=[0, 96], entities={'hashtags': [{'text': 'wtcfinal', 'indices': [50, 59]}, {'text': 'IndiaVsNewZealand', 'indices': [60, 78]}, {'text': 'WTC2021', 'indices': [79, 87]}, {'text': 'cricket', 'indices': [88, 96]}], 'symbols': [], 'user_mentions': [], 'urls': []}, metadata={'iso_language_code': 'en', 'result_type': 'recent'}, source='Twitter for Android', source_url='http://twitter.com/download/android', in_reply_to_status_id=None, in_reply_to_status_id_str=None, in_reply_to_user_id=None, in_reply_to_user_id_str=None, in_reply_to_screen_name=None, author=User(_api=<tweepy.api.API object at 0x00000204E8E29070>, _json={'id': 1403399562836856833, 'id_str': '1403399562836856833', 'name': 'Mohan Sharma', 'screen_name': 'MohanSh13648409', 'location': '', 'description': '', 'url': None, 'entities': {'description': {'urls': []}}, 'protected': False, 'followers_count': 15, 'friends_count': 24, 'listed_count': 0, 'created_at': 'Fri Jun 11 17:12:20 +0000 2021', 'favourites_count': 0, 'utc_offset': None, 'time_zone': None, 'geo_enabled': False, 'verified': False, 'statuses_count': 1, 'lang': None, 'contributors_enabled': False, 'is_translator': False, 'is_translation_enabled': False, 'profile_background_color': 'F5F8FA', 'profile_background_image_url': None, 'profile_background_image_url_https': None, 'profile_background_tile': False, 'profile_image_url': 'http://pbs.twimg.com/profile_images/1403936046853677061/UoTKPAz6_normal.jpg', 'profile_image_url_https': 'https://pbs.twimg.com/profile_images/1403936046853677061/UoTKPAz6_normal.jpg', 'profile_link_color': '1DA1F2', 'profile_sidebar_border_color': 'C0DEED', 'profile_sidebar_fill_color': 'DDEEF6', 'profile_text_color': '333333', 'profile_use_background_image': True, 'has_extended_profile': True, 'default_profile': True, 'default_profile_image': False, 'following': False, 'follow_request_sent': False, 'notifications': False, 'translator_type': 'none', 'withheld_in_countries': []}, id=1403399562836856833, id_str='1403399562836856833', name='Mohan Sharma', screen_name='MohanSh13648409', location='', description='', url=None, entities={'description': {'urls': []}}, protected=False, followers_count=15, friends_count=24, listed_count=0, created_at=datetime.datetime(2021, 6, 11, 17, 12, 20), favourites_count=0, utc_offset=None, time_zone=None, geo_enabled=False, verified=False, statuses_count=1, lang=None, contributors_enabled=False, is_translator=False, is_translation_enabled=False, profile_background_color='F5F8FA', profile_background_image_url=None, profile_background_image_url_https=None, profile_background_tile=False, profile_image_url='http://pbs.twimg.com/profile_images/1403936046853677061/UoTKPAz6_normal.jpg', profile_image_url_https='https://pbs.twimg.com/profile_images/1403936046853677061/UoTKPAz6_normal.jpg', profile_link_color='1DA1F2', profile_sidebar_border_color='C0DEED', profile_sidebar_fill_color='DDEEF6', profile_text_color='333333', profile_use_background_image=True, has_extended_profile=True, default_profile=True, default_profile_image=False, following=False, follow_request_sent=False, notifications=False, translator_type='none', withheld_in_countries=[]), user=User(_api=<tweepy.api.API object at 0x00000204E8E29070>, _json={'id': 1403399562836856833, 'id_str': '1403399562836856833', 'name': 'Mohan Sharma', 'screen_name': 'MohanSh13648409', 'location': '', 'description': '', 'url': None, 'entities': {'description': {'urls': []}}, 'protected': False, 'followers_count': 15, 'friends_count': 24, 'listed_count': 0, 'created_at': 'Fri Jun 11 17:12:20 +0000 2021', 'favourites_count': 0, 'utc_offset': None, 'time_zone': None, 'geo_enabled': False, 'verified': False, 'statuses_count': 1, 'lang': None, 'contributors_enabled': False, 'is_translator': False, 'is_translation_enabled': False, 'profile_background_color': 'F5F8FA', 'profile_background_image_url': None, 'profile_background_image_url_https': None, 'profile_background_tile': False, 'profile_image_url': 'http://pbs.twimg.com/profile_images/1403936046853677061/UoTKPAz6_normal.jpg', 'profile_image_url_https': 'https://pbs.twimg.com/profile_images/1403936046853677061/UoTKPAz6_normal.jpg', 'profile_link_color': '1DA1F2', 'profile_sidebar_border_color': 'C0DEED', 'profile_sidebar_fill_color': 'DDEEF6', 'profile_text_color': '333333', 'profile_use_background_image': True, 'has_extended_profile': True, 'default_profile': True, 'default_profile_image': False, 'following': False, 'follow_request_sent': False, 'notifications': False, 'translator_type': 'none', 'withheld_in_countries': []}, id=1403399562836856833, id_str='1403399562836856833', name='Mohan Sharma', screen_name='MohanSh13648409', location='', description='', url=None, entities={'description': {'urls': []}}, protected=False, followers_count=15, friends_count=24, listed_count=0, created_at=datetime.datetime(2021, 6, 11, 17, 12, 20), favourites_count=0, utc_offset=None, time_zone=None, geo_enabled=False, verified=False, statuses_count=1, lang=None, contributors_enabled=False, is_translator=False, is_translation_enabled=False, profile_background_color='F5F8FA', profile_background_image_url=None, profile_background_image_url_https=None, profile_background_tile=False, profile_image_url='http://pbs.twimg.com/profile_images/1403936046853677061/UoTKPAz6_normal.jpg', profile_image_url_https='https://pbs.twimg.com/profile_images/1403936046853677061/UoTKPAz6_normal.jpg', profile_link_color='1DA1F2', profile_sidebar_border_color='C0DEED', profile_sidebar_fill_color='DDEEF6', profile_text_color='333333', profile_use_background_image=True, has_extended_profile=True, default_profile=True, default_profile_image=False, following=False, follow_request_sent=False, notifications=False, translator_type='none', withheld_in_countries=[]), geo=None, coordinates=None, place=None, contributors=None, is_quote_status=False, retweet_count=0, favorite_count=1, favorited=False, retweeted=False, lang='en') \n",
      "\n",
      ".....................................\n",
      "\n",
      "Status(_api=<tweepy.api.API object at 0x00000204E8E29070>, _json={'created_at': 'Fri Jun 18 08:38:00 +0000 2021', 'id': 1405806994099933186, 'id_str': '1405806994099933186', 'full_text': '▶️ India v New Zealand\\n\\n😍 Who will win the #WorldTestChampionship Final?\\n\\n🏏 Our Cricket expert The Edge previews #INDvNZ along with some in-running strategy. He has a confident bet👇  https://t.co/umWkBmhuZK', 'truncated': False, 'display_text_range': [0, 206], 'entities': {'hashtags': [{'text': 'WorldTestChampionship', 'indices': [43, 65]}, {'text': 'INDvNZ', 'indices': [113, 120]}], 'symbols': [], 'user_mentions': [], 'urls': [{'url': 'https://t.co/umWkBmhuZK', 'expanded_url': 'http://bit.ly/3gtK3AE', 'display_url': 'bit.ly/3gtK3AE', 'indices': [183, 206]}]}, 'metadata': {'iso_language_code': 'en', 'result_type': 'recent'}, 'source': '<a href=\"https://sproutsocial.com\" rel=\"nofollow\">Sprout Social</a>', 'in_reply_to_status_id': None, 'in_reply_to_status_id_str': None, 'in_reply_to_user_id': None, 'in_reply_to_user_id_str': None, 'in_reply_to_screen_name': None, 'user': {'id': 202551763, 'id_str': '202551763', 'name': 'BETDAQ', 'screen_name': 'BETDAQ', 'location': '', 'description': 'Welcome to BETDAQ, the Betting Exchange, Sportsbook & Casino! Email: helpdesk@betdaq.com. 18+ only. Gamble responsibly: https://t.co/0WiNwt5hky', 'url': 'https://t.co/8S4NcmvE8S', 'entities': {'url': {'urls': [{'url': 'https://t.co/8S4NcmvE8S', 'expanded_url': 'https://mobile03.betdaq.com/', 'display_url': 'mobile03.betdaq.com', 'indices': [0, 23]}]}, 'description': {'urls': [{'url': 'https://t.co/0WiNwt5hky', 'expanded_url': 'http://begambleaware.org', 'display_url': 'begambleaware.org', 'indices': [120, 143]}]}}, 'protected': False, 'followers_count': 19099, 'friends_count': 5895, 'listed_count': 228, 'created_at': 'Thu Oct 14 09:01:29 +0000 2010', 'favourites_count': 4570, 'utc_offset': None, 'time_zone': None, 'geo_enabled': True, 'verified': True, 'statuses_count': 83593, 'lang': None, 'contributors_enabled': False, 'is_translator': False, 'is_translation_enabled': False, 'profile_background_color': '000000', 'profile_background_image_url': 'http://abs.twimg.com/images/themes/theme1/bg.png', 'profile_background_image_url_https': 'https://abs.twimg.com/images/themes/theme1/bg.png', 'profile_background_tile': False, 'profile_image_url': 'http://pbs.twimg.com/profile_images/1329389957530734592/cjr0phrT_normal.jpg', 'profile_image_url_https': 'https://pbs.twimg.com/profile_images/1329389957530734592/cjr0phrT_normal.jpg', 'profile_banner_url': 'https://pbs.twimg.com/profile_banners/202551763/1606384465', 'profile_link_color': '650078', 'profile_sidebar_border_color': '000000', 'profile_sidebar_fill_color': 'DBDBDB', 'profile_text_color': '0C3E53', 'profile_use_background_image': True, 'has_extended_profile': False, 'default_profile': False, 'default_profile_image': False, 'following': False, 'follow_request_sent': False, 'notifications': False, 'translator_type': 'none', 'withheld_in_countries': []}, 'geo': None, 'coordinates': None, 'place': None, 'contributors': None, 'is_quote_status': False, 'retweet_count': 3, 'favorite_count': 3, 'favorited': False, 'retweeted': False, 'possibly_sensitive': False, 'lang': 'en'}, created_at=datetime.datetime(2021, 6, 18, 8, 38), id=1405806994099933186, id_str='1405806994099933186', full_text='▶️ India v New Zealand\\n\\n😍 Who will win the #WorldTestChampionship Final?\\n\\n🏏 Our Cricket expert The Edge previews #INDvNZ along with some in-running strategy. He has a confident bet👇  https://t.co/umWkBmhuZK', truncated=False, display_text_range=[0, 206], entities={'hashtags': [{'text': 'WorldTestChampionship', 'indices': [43, 65]}, {'text': 'INDvNZ', 'indices': [113, 120]}], 'symbols': [], 'user_mentions': [], 'urls': [{'url': 'https://t.co/umWkBmhuZK', 'expanded_url': 'http://bit.ly/3gtK3AE', 'display_url': 'bit.ly/3gtK3AE', 'indices': [183, 206]}]}, metadata={'iso_language_code': 'en', 'result_type': 'recent'}, source='Sprout Social', source_url='https://sproutsocial.com', in_reply_to_status_id=None, in_reply_to_status_id_str=None, in_reply_to_user_id=None, in_reply_to_user_id_str=None, in_reply_to_screen_name=None, author=User(_api=<tweepy.api.API object at 0x00000204E8E29070>, _json={'id': 202551763, 'id_str': '202551763', 'name': 'BETDAQ', 'screen_name': 'BETDAQ', 'location': '', 'description': 'Welcome to BETDAQ, the Betting Exchange, Sportsbook & Casino! Email: helpdesk@betdaq.com. 18+ only. Gamble responsibly: https://t.co/0WiNwt5hky', 'url': 'https://t.co/8S4NcmvE8S', 'entities': {'url': {'urls': [{'url': 'https://t.co/8S4NcmvE8S', 'expanded_url': 'https://mobile03.betdaq.com/', 'display_url': 'mobile03.betdaq.com', 'indices': [0, 23]}]}, 'description': {'urls': [{'url': 'https://t.co/0WiNwt5hky', 'expanded_url': 'http://begambleaware.org', 'display_url': 'begambleaware.org', 'indices': [120, 143]}]}}, 'protected': False, 'followers_count': 19099, 'friends_count': 5895, 'listed_count': 228, 'created_at': 'Thu Oct 14 09:01:29 +0000 2010', 'favourites_count': 4570, 'utc_offset': None, 'time_zone': None, 'geo_enabled': True, 'verified': True, 'statuses_count': 83593, 'lang': None, 'contributors_enabled': False, 'is_translator': False, 'is_translation_enabled': False, 'profile_background_color': '000000', 'profile_background_image_url': 'http://abs.twimg.com/images/themes/theme1/bg.png', 'profile_background_image_url_https': 'https://abs.twimg.com/images/themes/theme1/bg.png', 'profile_background_tile': False, 'profile_image_url': 'http://pbs.twimg.com/profile_images/1329389957530734592/cjr0phrT_normal.jpg', 'profile_image_url_https': 'https://pbs.twimg.com/profile_images/1329389957530734592/cjr0phrT_normal.jpg', 'profile_banner_url': 'https://pbs.twimg.com/profile_banners/202551763/1606384465', 'profile_link_color': '650078', 'profile_sidebar_border_color': '000000', 'profile_sidebar_fill_color': 'DBDBDB', 'profile_text_color': '0C3E53', 'profile_use_background_image': True, 'has_extended_profile': False, 'default_profile': False, 'default_profile_image': False, 'following': False, 'follow_request_sent': False, 'notifications': False, 'translator_type': 'none', 'withheld_in_countries': []}, id=202551763, id_str='202551763', name='BETDAQ', screen_name='BETDAQ', location='', description='Welcome to BETDAQ, the Betting Exchange, Sportsbook & Casino! Email: helpdesk@betdaq.com. 18+ only. Gamble responsibly: https://t.co/0WiNwt5hky', url='https://t.co/8S4NcmvE8S', entities={'url': {'urls': [{'url': 'https://t.co/8S4NcmvE8S', 'expanded_url': 'https://mobile03.betdaq.com/', 'display_url': 'mobile03.betdaq.com', 'indices': [0, 23]}]}, 'description': {'urls': [{'url': 'https://t.co/0WiNwt5hky', 'expanded_url': 'http://begambleaware.org', 'display_url': 'begambleaware.org', 'indices': [120, 143]}]}}, protected=False, followers_count=19099, friends_count=5895, listed_count=228, created_at=datetime.datetime(2010, 10, 14, 9, 1, 29), favourites_count=4570, utc_offset=None, time_zone=None, geo_enabled=True, verified=True, statuses_count=83593, lang=None, contributors_enabled=False, is_translator=False, is_translation_enabled=False, profile_background_color='000000', profile_background_image_url='http://abs.twimg.com/images/themes/theme1/bg.png', profile_background_image_url_https='https://abs.twimg.com/images/themes/theme1/bg.png', profile_background_tile=False, profile_image_url='http://pbs.twimg.com/profile_images/1329389957530734592/cjr0phrT_normal.jpg', profile_image_url_https='https://pbs.twimg.com/profile_images/1329389957530734592/cjr0phrT_normal.jpg', profile_banner_url='https://pbs.twimg.com/profile_banners/202551763/1606384465', profile_link_color='650078', profile_sidebar_border_color='000000', profile_sidebar_fill_color='DBDBDB', profile_text_color='0C3E53', profile_use_background_image=True, has_extended_profile=False, default_profile=False, default_profile_image=False, following=False, follow_request_sent=False, notifications=False, translator_type='none', withheld_in_countries=[]), user=User(_api=<tweepy.api.API object at 0x00000204E8E29070>, _json={'id': 202551763, 'id_str': '202551763', 'name': 'BETDAQ', 'screen_name': 'BETDAQ', 'location': '', 'description': 'Welcome to BETDAQ, the Betting Exchange, Sportsbook & Casino! Email: helpdesk@betdaq.com. 18+ only. Gamble responsibly: https://t.co/0WiNwt5hky', 'url': 'https://t.co/8S4NcmvE8S', 'entities': {'url': {'urls': [{'url': 'https://t.co/8S4NcmvE8S', 'expanded_url': 'https://mobile03.betdaq.com/', 'display_url': 'mobile03.betdaq.com', 'indices': [0, 23]}]}, 'description': {'urls': [{'url': 'https://t.co/0WiNwt5hky', 'expanded_url': 'http://begambleaware.org', 'display_url': 'begambleaware.org', 'indices': [120, 143]}]}}, 'protected': False, 'followers_count': 19099, 'friends_count': 5895, 'listed_count': 228, 'created_at': 'Thu Oct 14 09:01:29 +0000 2010', 'favourites_count': 4570, 'utc_offset': None, 'time_zone': None, 'geo_enabled': True, 'verified': True, 'statuses_count': 83593, 'lang': None, 'contributors_enabled': False, 'is_translator': False, 'is_translation_enabled': False, 'profile_background_color': '000000', 'profile_background_image_url': 'http://abs.twimg.com/images/themes/theme1/bg.png', 'profile_background_image_url_https': 'https://abs.twimg.com/images/themes/theme1/bg.png', 'profile_background_tile': False, 'profile_image_url': 'http://pbs.twimg.com/profile_images/1329389957530734592/cjr0phrT_normal.jpg', 'profile_image_url_https': 'https://pbs.twimg.com/profile_images/1329389957530734592/cjr0phrT_normal.jpg', 'profile_banner_url': 'https://pbs.twimg.com/profile_banners/202551763/1606384465', 'profile_link_color': '650078', 'profile_sidebar_border_color': '000000', 'profile_sidebar_fill_color': 'DBDBDB', 'profile_text_color': '0C3E53', 'profile_use_background_image': True, 'has_extended_profile': False, 'default_profile': False, 'default_profile_image': False, 'following': False, 'follow_request_sent': False, 'notifications': False, 'translator_type': 'none', 'withheld_in_countries': []}, id=202551763, id_str='202551763', name='BETDAQ', screen_name='BETDAQ', location='', description='Welcome to BETDAQ, the Betting Exchange, Sportsbook & Casino! Email: helpdesk@betdaq.com. 18+ only. Gamble responsibly: https://t.co/0WiNwt5hky', url='https://t.co/8S4NcmvE8S', entities={'url': {'urls': [{'url': 'https://t.co/8S4NcmvE8S', 'expanded_url': 'https://mobile03.betdaq.com/', 'display_url': 'mobile03.betdaq.com', 'indices': [0, 23]}]}, 'description': {'urls': [{'url': 'https://t.co/0WiNwt5hky', 'expanded_url': 'http://begambleaware.org', 'display_url': 'begambleaware.org', 'indices': [120, 143]}]}}, protected=False, followers_count=19099, friends_count=5895, listed_count=228, created_at=datetime.datetime(2010, 10, 14, 9, 1, 29), favourites_count=4570, utc_offset=None, time_zone=None, geo_enabled=True, verified=True, statuses_count=83593, lang=None, contributors_enabled=False, is_translator=False, is_translation_enabled=False, profile_background_color='000000', profile_background_image_url='http://abs.twimg.com/images/themes/theme1/bg.png', profile_background_image_url_https='https://abs.twimg.com/images/themes/theme1/bg.png', profile_background_tile=False, profile_image_url='http://pbs.twimg.com/profile_images/1329389957530734592/cjr0phrT_normal.jpg', profile_image_url_https='https://pbs.twimg.com/profile_images/1329389957530734592/cjr0phrT_normal.jpg', profile_banner_url='https://pbs.twimg.com/profile_banners/202551763/1606384465', profile_link_color='650078', profile_sidebar_border_color='000000', profile_sidebar_fill_color='DBDBDB', profile_text_color='0C3E53', profile_use_background_image=True, has_extended_profile=False, default_profile=False, default_profile_image=False, following=False, follow_request_sent=False, notifications=False, translator_type='none', withheld_in_countries=[]), geo=None, coordinates=None, place=None, contributors=None, is_quote_status=False, retweet_count=3, favorite_count=3, favorited=False, retweeted=False, possibly_sensitive=False, lang='en') \n",
      "\n",
      ".....................................\n",
      "\n",
      "Status(_api=<tweepy.api.API object at 0x00000204E8E29070>, _json={'created_at': 'Fri Jun 18 08:37:45 +0000 2021', 'id': 1405806930749054979, 'id_str': '1405806930749054979', 'full_text': 'Watch the royal and finale encounter between India and new zealand. Who will win the first ever tile of world test championship? Predict on fan2play and win amazing prices.\\n\\nFantasy Cricket On Fan2Play https://t.co/YNS7Rfg8Uy', 'truncated': False, 'display_text_range': [0, 201], 'entities': {'hashtags': [], 'symbols': [], 'user_mentions': [], 'urls': [], 'media': [{'id': 1405806792668372994, 'id_str': '1405806792668372994', 'indices': [202, 225], 'media_url': 'http://pbs.twimg.com/media/E4Jt1GPUYAIAqNe.jpg', 'media_url_https': 'https://pbs.twimg.com/media/E4Jt1GPUYAIAqNe.jpg', 'url': 'https://t.co/YNS7Rfg8Uy', 'display_url': 'pic.twitter.com/YNS7Rfg8Uy', 'expanded_url': 'https://twitter.com/RafazTweets/status/1405806930749054979/photo/1', 'type': 'photo', 'sizes': {'large': {'w': 1080, 'h': 1080, 'resize': 'fit'}, 'thumb': {'w': 150, 'h': 150, 'resize': 'crop'}, 'small': {'w': 680, 'h': 680, 'resize': 'fit'}, 'medium': {'w': 1080, 'h': 1080, 'resize': 'fit'}}}]}, 'extended_entities': {'media': [{'id': 1405806792668372994, 'id_str': '1405806792668372994', 'indices': [202, 225], 'media_url': 'http://pbs.twimg.com/media/E4Jt1GPUYAIAqNe.jpg', 'media_url_https': 'https://pbs.twimg.com/media/E4Jt1GPUYAIAqNe.jpg', 'url': 'https://t.co/YNS7Rfg8Uy', 'display_url': 'pic.twitter.com/YNS7Rfg8Uy', 'expanded_url': 'https://twitter.com/RafazTweets/status/1405806930749054979/photo/1', 'type': 'photo', 'sizes': {'large': {'w': 1080, 'h': 1080, 'resize': 'fit'}, 'thumb': {'w': 150, 'h': 150, 'resize': 'crop'}, 'small': {'w': 680, 'h': 680, 'resize': 'fit'}, 'medium': {'w': 1080, 'h': 1080, 'resize': 'fit'}}}]}, 'metadata': {'iso_language_code': 'en', 'result_type': 'recent'}, 'source': '<a href=\"http://twitter.com/download/android\" rel=\"nofollow\">Twitter for Android</a>', 'in_reply_to_status_id': None, 'in_reply_to_status_id_str': None, 'in_reply_to_user_id': None, 'in_reply_to_user_id_str': None, 'in_reply_to_screen_name': None, 'user': {'id': 4757851338, 'id_str': '4757851338', 'name': 'ミ Rafaz 彡', 'screen_name': 'RafazTweets', 'location': 'Mangalore, India', 'description': '', 'url': 'https://t.co/ODV4SBnhL0', 'entities': {'url': {'urls': [{'url': 'https://t.co/ODV4SBnhL0', 'expanded_url': 'http://bit.ly/RafazYT', 'display_url': 'bit.ly/RafazYT', 'indices': [0, 23]}]}, 'description': {'urls': []}}, 'protected': False, 'followers_count': 3082, 'friends_count': 288, 'listed_count': 0, 'created_at': 'Thu Jan 14 12:25:26 +0000 2016', 'favourites_count': 64270, 'utc_offset': None, 'time_zone': None, 'geo_enabled': True, 'verified': False, 'statuses_count': 53618, 'lang': None, 'contributors_enabled': False, 'is_translator': False, 'is_translation_enabled': False, 'profile_background_color': '000000', 'profile_background_image_url': 'http://abs.twimg.com/images/themes/theme1/bg.png', 'profile_background_image_url_https': 'https://abs.twimg.com/images/themes/theme1/bg.png', 'profile_background_tile': False, 'profile_image_url': 'http://pbs.twimg.com/profile_images/1398291473167044610/RTCePtdE_normal.jpg', 'profile_image_url_https': 'https://pbs.twimg.com/profile_images/1398291473167044610/RTCePtdE_normal.jpg', 'profile_banner_url': 'https://pbs.twimg.com/profile_banners/4757851338/1617301451', 'profile_link_color': '1DA1F2', 'profile_sidebar_border_color': '000000', 'profile_sidebar_fill_color': '000000', 'profile_text_color': '000000', 'profile_use_background_image': False, 'has_extended_profile': True, 'default_profile': False, 'default_profile_image': False, 'following': False, 'follow_request_sent': False, 'notifications': False, 'translator_type': 'none', 'withheld_in_countries': []}, 'geo': None, 'coordinates': None, 'place': None, 'contributors': None, 'is_quote_status': False, 'retweet_count': 2, 'favorite_count': 4, 'favorited': False, 'retweeted': False, 'possibly_sensitive': False, 'lang': 'en'}, created_at=datetime.datetime(2021, 6, 18, 8, 37, 45), id=1405806930749054979, id_str='1405806930749054979', full_text='Watch the royal and finale encounter between India and new zealand. Who will win the first ever tile of world test championship? Predict on fan2play and win amazing prices.\\n\\nFantasy Cricket On Fan2Play https://t.co/YNS7Rfg8Uy', truncated=False, display_text_range=[0, 201], entities={'hashtags': [], 'symbols': [], 'user_mentions': [], 'urls': [], 'media': [{'id': 1405806792668372994, 'id_str': '1405806792668372994', 'indices': [202, 225], 'media_url': 'http://pbs.twimg.com/media/E4Jt1GPUYAIAqNe.jpg', 'media_url_https': 'https://pbs.twimg.com/media/E4Jt1GPUYAIAqNe.jpg', 'url': 'https://t.co/YNS7Rfg8Uy', 'display_url': 'pic.twitter.com/YNS7Rfg8Uy', 'expanded_url': 'https://twitter.com/RafazTweets/status/1405806930749054979/photo/1', 'type': 'photo', 'sizes': {'large': {'w': 1080, 'h': 1080, 'resize': 'fit'}, 'thumb': {'w': 150, 'h': 150, 'resize': 'crop'}, 'small': {'w': 680, 'h': 680, 'resize': 'fit'}, 'medium': {'w': 1080, 'h': 1080, 'resize': 'fit'}}}]}, extended_entities={'media': [{'id': 1405806792668372994, 'id_str': '1405806792668372994', 'indices': [202, 225], 'media_url': 'http://pbs.twimg.com/media/E4Jt1GPUYAIAqNe.jpg', 'media_url_https': 'https://pbs.twimg.com/media/E4Jt1GPUYAIAqNe.jpg', 'url': 'https://t.co/YNS7Rfg8Uy', 'display_url': 'pic.twitter.com/YNS7Rfg8Uy', 'expanded_url': 'https://twitter.com/RafazTweets/status/1405806930749054979/photo/1', 'type': 'photo', 'sizes': {'large': {'w': 1080, 'h': 1080, 'resize': 'fit'}, 'thumb': {'w': 150, 'h': 150, 'resize': 'crop'}, 'small': {'w': 680, 'h': 680, 'resize': 'fit'}, 'medium': {'w': 1080, 'h': 1080, 'resize': 'fit'}}}]}, metadata={'iso_language_code': 'en', 'result_type': 'recent'}, source='Twitter for Android', source_url='http://twitter.com/download/android', in_reply_to_status_id=None, in_reply_to_status_id_str=None, in_reply_to_user_id=None, in_reply_to_user_id_str=None, in_reply_to_screen_name=None, author=User(_api=<tweepy.api.API object at 0x00000204E8E29070>, _json={'id': 4757851338, 'id_str': '4757851338', 'name': 'ミ Rafaz 彡', 'screen_name': 'RafazTweets', 'location': 'Mangalore, India', 'description': '', 'url': 'https://t.co/ODV4SBnhL0', 'entities': {'url': {'urls': [{'url': 'https://t.co/ODV4SBnhL0', 'expanded_url': 'http://bit.ly/RafazYT', 'display_url': 'bit.ly/RafazYT', 'indices': [0, 23]}]}, 'description': {'urls': []}}, 'protected': False, 'followers_count': 3082, 'friends_count': 288, 'listed_count': 0, 'created_at': 'Thu Jan 14 12:25:26 +0000 2016', 'favourites_count': 64270, 'utc_offset': None, 'time_zone': None, 'geo_enabled': True, 'verified': False, 'statuses_count': 53618, 'lang': None, 'contributors_enabled': False, 'is_translator': False, 'is_translation_enabled': False, 'profile_background_color': '000000', 'profile_background_image_url': 'http://abs.twimg.com/images/themes/theme1/bg.png', 'profile_background_image_url_https': 'https://abs.twimg.com/images/themes/theme1/bg.png', 'profile_background_tile': False, 'profile_image_url': 'http://pbs.twimg.com/profile_images/1398291473167044610/RTCePtdE_normal.jpg', 'profile_image_url_https': 'https://pbs.twimg.com/profile_images/1398291473167044610/RTCePtdE_normal.jpg', 'profile_banner_url': 'https://pbs.twimg.com/profile_banners/4757851338/1617301451', 'profile_link_color': '1DA1F2', 'profile_sidebar_border_color': '000000', 'profile_sidebar_fill_color': '000000', 'profile_text_color': '000000', 'profile_use_background_image': False, 'has_extended_profile': True, 'default_profile': False, 'default_profile_image': False, 'following': False, 'follow_request_sent': False, 'notifications': False, 'translator_type': 'none', 'withheld_in_countries': []}, id=4757851338, id_str='4757851338', name='ミ Rafaz 彡', screen_name='RafazTweets', location='Mangalore, India', description='', url='https://t.co/ODV4SBnhL0', entities={'url': {'urls': [{'url': 'https://t.co/ODV4SBnhL0', 'expanded_url': 'http://bit.ly/RafazYT', 'display_url': 'bit.ly/RafazYT', 'indices': [0, 23]}]}, 'description': {'urls': []}}, protected=False, followers_count=3082, friends_count=288, listed_count=0, created_at=datetime.datetime(2016, 1, 14, 12, 25, 26), favourites_count=64270, utc_offset=None, time_zone=None, geo_enabled=True, verified=False, statuses_count=53618, lang=None, contributors_enabled=False, is_translator=False, is_translation_enabled=False, profile_background_color='000000', profile_background_image_url='http://abs.twimg.com/images/themes/theme1/bg.png', profile_background_image_url_https='https://abs.twimg.com/images/themes/theme1/bg.png', profile_background_tile=False, profile_image_url='http://pbs.twimg.com/profile_images/1398291473167044610/RTCePtdE_normal.jpg', profile_image_url_https='https://pbs.twimg.com/profile_images/1398291473167044610/RTCePtdE_normal.jpg', profile_banner_url='https://pbs.twimg.com/profile_banners/4757851338/1617301451', profile_link_color='1DA1F2', profile_sidebar_border_color='000000', profile_sidebar_fill_color='000000', profile_text_color='000000', profile_use_background_image=False, has_extended_profile=True, default_profile=False, default_profile_image=False, following=False, follow_request_sent=False, notifications=False, translator_type='none', withheld_in_countries=[]), user=User(_api=<tweepy.api.API object at 0x00000204E8E29070>, _json={'id': 4757851338, 'id_str': '4757851338', 'name': 'ミ Rafaz 彡', 'screen_name': 'RafazTweets', 'location': 'Mangalore, India', 'description': '', 'url': 'https://t.co/ODV4SBnhL0', 'entities': {'url': {'urls': [{'url': 'https://t.co/ODV4SBnhL0', 'expanded_url': 'http://bit.ly/RafazYT', 'display_url': 'bit.ly/RafazYT', 'indices': [0, 23]}]}, 'description': {'urls': []}}, 'protected': False, 'followers_count': 3082, 'friends_count': 288, 'listed_count': 0, 'created_at': 'Thu Jan 14 12:25:26 +0000 2016', 'favourites_count': 64270, 'utc_offset': None, 'time_zone': None, 'geo_enabled': True, 'verified': False, 'statuses_count': 53618, 'lang': None, 'contributors_enabled': False, 'is_translator': False, 'is_translation_enabled': False, 'profile_background_color': '000000', 'profile_background_image_url': 'http://abs.twimg.com/images/themes/theme1/bg.png', 'profile_background_image_url_https': 'https://abs.twimg.com/images/themes/theme1/bg.png', 'profile_background_tile': False, 'profile_image_url': 'http://pbs.twimg.com/profile_images/1398291473167044610/RTCePtdE_normal.jpg', 'profile_image_url_https': 'https://pbs.twimg.com/profile_images/1398291473167044610/RTCePtdE_normal.jpg', 'profile_banner_url': 'https://pbs.twimg.com/profile_banners/4757851338/1617301451', 'profile_link_color': '1DA1F2', 'profile_sidebar_border_color': '000000', 'profile_sidebar_fill_color': '000000', 'profile_text_color': '000000', 'profile_use_background_image': False, 'has_extended_profile': True, 'default_profile': False, 'default_profile_image': False, 'following': False, 'follow_request_sent': False, 'notifications': False, 'translator_type': 'none', 'withheld_in_countries': []}, id=4757851338, id_str='4757851338', name='ミ Rafaz 彡', screen_name='RafazTweets', location='Mangalore, India', description='', url='https://t.co/ODV4SBnhL0', entities={'url': {'urls': [{'url': 'https://t.co/ODV4SBnhL0', 'expanded_url': 'http://bit.ly/RafazYT', 'display_url': 'bit.ly/RafazYT', 'indices': [0, 23]}]}, 'description': {'urls': []}}, protected=False, followers_count=3082, friends_count=288, listed_count=0, created_at=datetime.datetime(2016, 1, 14, 12, 25, 26), favourites_count=64270, utc_offset=None, time_zone=None, geo_enabled=True, verified=False, statuses_count=53618, lang=None, contributors_enabled=False, is_translator=False, is_translation_enabled=False, profile_background_color='000000', profile_background_image_url='http://abs.twimg.com/images/themes/theme1/bg.png', profile_background_image_url_https='https://abs.twimg.com/images/themes/theme1/bg.png', profile_background_tile=False, profile_image_url='http://pbs.twimg.com/profile_images/1398291473167044610/RTCePtdE_normal.jpg', profile_image_url_https='https://pbs.twimg.com/profile_images/1398291473167044610/RTCePtdE_normal.jpg', profile_banner_url='https://pbs.twimg.com/profile_banners/4757851338/1617301451', profile_link_color='1DA1F2', profile_sidebar_border_color='000000', profile_sidebar_fill_color='000000', profile_text_color='000000', profile_use_background_image=False, has_extended_profile=True, default_profile=False, default_profile_image=False, following=False, follow_request_sent=False, notifications=False, translator_type='none', withheld_in_countries=[]), geo=None, coordinates=None, place=None, contributors=None, is_quote_status=False, retweet_count=2, favorite_count=4, favorited=False, retweeted=False, possibly_sensitive=False, lang='en') \n",
      "\n",
      ".....................................\n",
      "\n",
      "Status(_api=<tweepy.api.API object at 0x00000204E8E29070>, _json={'created_at': 'Fri Jun 18 08:07:05 +0000 2021', 'id': 1405799211703029760, 'id_str': '1405799211703029760', 'full_text': 'Who will win test championship ??\\n#CristianoRonaldo #Cricket #Viral #final #TestChampionship #INDvNZ #India #NewZealand #USA #Canada', 'truncated': False, 'display_text_range': [0, 132], 'entities': {'hashtags': [{'text': 'CristianoRonaldo', 'indices': [34, 51]}, {'text': 'Cricket', 'indices': [52, 60]}, {'text': 'Viral', 'indices': [61, 67]}, {'text': 'final', 'indices': [68, 74]}, {'text': 'TestChampionship', 'indices': [75, 92]}, {'text': 'INDvNZ', 'indices': [93, 100]}, {'text': 'India', 'indices': [101, 107]}, {'text': 'NewZealand', 'indices': [108, 119]}, {'text': 'USA', 'indices': [120, 124]}, {'text': 'Canada', 'indices': [125, 132]}], 'symbols': [], 'user_mentions': [], 'urls': []}, 'metadata': {'iso_language_code': 'en', 'result_type': 'recent'}, 'source': '<a href=\"https://mobile.twitter.com\" rel=\"nofollow\">Twitter Web App</a>', 'in_reply_to_status_id': None, 'in_reply_to_status_id_str': None, 'in_reply_to_user_id': None, 'in_reply_to_user_id_str': None, 'in_reply_to_screen_name': None, 'user': {'id': 1405394003298635779, 'id_str': '1405394003298635779', 'name': 'Business Outsider', 'screen_name': 'BusinessOutsid5', 'location': '', 'description': 'I am a student. Currently I am pursuing Commerce with an ambition to become a successful businessman and help the country in different ways.', 'url': None, 'entities': {'description': {'urls': []}}, 'protected': False, 'followers_count': 2, 'friends_count': 14, 'listed_count': 0, 'created_at': 'Thu Jun 17 05:17:27 +0000 2021', 'favourites_count': 140, 'utc_offset': None, 'time_zone': None, 'geo_enabled': False, 'verified': False, 'statuses_count': 73, 'lang': None, 'contributors_enabled': False, 'is_translator': False, 'is_translation_enabled': False, 'profile_background_color': 'F5F8FA', 'profile_background_image_url': None, 'profile_background_image_url_https': None, 'profile_background_tile': False, 'profile_image_url': 'http://pbs.twimg.com/profile_images/1405796681761783808/eyAs8yqH_normal.jpg', 'profile_image_url_https': 'https://pbs.twimg.com/profile_images/1405796681761783808/eyAs8yqH_normal.jpg', 'profile_banner_url': 'https://pbs.twimg.com/profile_banners/1405394003298635779/1623908221', 'profile_link_color': '1DA1F2', 'profile_sidebar_border_color': 'C0DEED', 'profile_sidebar_fill_color': 'DDEEF6', 'profile_text_color': '333333', 'profile_use_background_image': True, 'has_extended_profile': True, 'default_profile': True, 'default_profile_image': False, 'following': False, 'follow_request_sent': False, 'notifications': False, 'translator_type': 'none', 'withheld_in_countries': []}, 'geo': None, 'coordinates': None, 'place': None, 'contributors': None, 'is_quote_status': False, 'retweet_count': 0, 'favorite_count': 1, 'favorited': False, 'retweeted': False, 'lang': 'en'}, created_at=datetime.datetime(2021, 6, 18, 8, 7, 5), id=1405799211703029760, id_str='1405799211703029760', full_text='Who will win test championship ??\\n#CristianoRonaldo #Cricket #Viral #final #TestChampionship #INDvNZ #India #NewZealand #USA #Canada', truncated=False, display_text_range=[0, 132], entities={'hashtags': [{'text': 'CristianoRonaldo', 'indices': [34, 51]}, {'text': 'Cricket', 'indices': [52, 60]}, {'text': 'Viral', 'indices': [61, 67]}, {'text': 'final', 'indices': [68, 74]}, {'text': 'TestChampionship', 'indices': [75, 92]}, {'text': 'INDvNZ', 'indices': [93, 100]}, {'text': 'India', 'indices': [101, 107]}, {'text': 'NewZealand', 'indices': [108, 119]}, {'text': 'USA', 'indices': [120, 124]}, {'text': 'Canada', 'indices': [125, 132]}], 'symbols': [], 'user_mentions': [], 'urls': []}, metadata={'iso_language_code': 'en', 'result_type': 'recent'}, source='Twitter Web App', source_url='https://mobile.twitter.com', in_reply_to_status_id=None, in_reply_to_status_id_str=None, in_reply_to_user_id=None, in_reply_to_user_id_str=None, in_reply_to_screen_name=None, author=User(_api=<tweepy.api.API object at 0x00000204E8E29070>, _json={'id': 1405394003298635779, 'id_str': '1405394003298635779', 'name': 'Business Outsider', 'screen_name': 'BusinessOutsid5', 'location': '', 'description': 'I am a student. Currently I am pursuing Commerce with an ambition to become a successful businessman and help the country in different ways.', 'url': None, 'entities': {'description': {'urls': []}}, 'protected': False, 'followers_count': 2, 'friends_count': 14, 'listed_count': 0, 'created_at': 'Thu Jun 17 05:17:27 +0000 2021', 'favourites_count': 140, 'utc_offset': None, 'time_zone': None, 'geo_enabled': False, 'verified': False, 'statuses_count': 73, 'lang': None, 'contributors_enabled': False, 'is_translator': False, 'is_translation_enabled': False, 'profile_background_color': 'F5F8FA', 'profile_background_image_url': None, 'profile_background_image_url_https': None, 'profile_background_tile': False, 'profile_image_url': 'http://pbs.twimg.com/profile_images/1405796681761783808/eyAs8yqH_normal.jpg', 'profile_image_url_https': 'https://pbs.twimg.com/profile_images/1405796681761783808/eyAs8yqH_normal.jpg', 'profile_banner_url': 'https://pbs.twimg.com/profile_banners/1405394003298635779/1623908221', 'profile_link_color': '1DA1F2', 'profile_sidebar_border_color': 'C0DEED', 'profile_sidebar_fill_color': 'DDEEF6', 'profile_text_color': '333333', 'profile_use_background_image': True, 'has_extended_profile': True, 'default_profile': True, 'default_profile_image': False, 'following': False, 'follow_request_sent': False, 'notifications': False, 'translator_type': 'none', 'withheld_in_countries': []}, id=1405394003298635779, id_str='1405394003298635779', name='Business Outsider', screen_name='BusinessOutsid5', location='', description='I am a student. Currently I am pursuing Commerce with an ambition to become a successful businessman and help the country in different ways.', url=None, entities={'description': {'urls': []}}, protected=False, followers_count=2, friends_count=14, listed_count=0, created_at=datetime.datetime(2021, 6, 17, 5, 17, 27), favourites_count=140, utc_offset=None, time_zone=None, geo_enabled=False, verified=False, statuses_count=73, lang=None, contributors_enabled=False, is_translator=False, is_translation_enabled=False, profile_background_color='F5F8FA', profile_background_image_url=None, profile_background_image_url_https=None, profile_background_tile=False, profile_image_url='http://pbs.twimg.com/profile_images/1405796681761783808/eyAs8yqH_normal.jpg', profile_image_url_https='https://pbs.twimg.com/profile_images/1405796681761783808/eyAs8yqH_normal.jpg', profile_banner_url='https://pbs.twimg.com/profile_banners/1405394003298635779/1623908221', profile_link_color='1DA1F2', profile_sidebar_border_color='C0DEED', profile_sidebar_fill_color='DDEEF6', profile_text_color='333333', profile_use_background_image=True, has_extended_profile=True, default_profile=True, default_profile_image=False, following=False, follow_request_sent=False, notifications=False, translator_type='none', withheld_in_countries=[]), user=User(_api=<tweepy.api.API object at 0x00000204E8E29070>, _json={'id': 1405394003298635779, 'id_str': '1405394003298635779', 'name': 'Business Outsider', 'screen_name': 'BusinessOutsid5', 'location': '', 'description': 'I am a student. Currently I am pursuing Commerce with an ambition to become a successful businessman and help the country in different ways.', 'url': None, 'entities': {'description': {'urls': []}}, 'protected': False, 'followers_count': 2, 'friends_count': 14, 'listed_count': 0, 'created_at': 'Thu Jun 17 05:17:27 +0000 2021', 'favourites_count': 140, 'utc_offset': None, 'time_zone': None, 'geo_enabled': False, 'verified': False, 'statuses_count': 73, 'lang': None, 'contributors_enabled': False, 'is_translator': False, 'is_translation_enabled': False, 'profile_background_color': 'F5F8FA', 'profile_background_image_url': None, 'profile_background_image_url_https': None, 'profile_background_tile': False, 'profile_image_url': 'http://pbs.twimg.com/profile_images/1405796681761783808/eyAs8yqH_normal.jpg', 'profile_image_url_https': 'https://pbs.twimg.com/profile_images/1405796681761783808/eyAs8yqH_normal.jpg', 'profile_banner_url': 'https://pbs.twimg.com/profile_banners/1405394003298635779/1623908221', 'profile_link_color': '1DA1F2', 'profile_sidebar_border_color': 'C0DEED', 'profile_sidebar_fill_color': 'DDEEF6', 'profile_text_color': '333333', 'profile_use_background_image': True, 'has_extended_profile': True, 'default_profile': True, 'default_profile_image': False, 'following': False, 'follow_request_sent': False, 'notifications': False, 'translator_type': 'none', 'withheld_in_countries': []}, id=1405394003298635779, id_str='1405394003298635779', name='Business Outsider', screen_name='BusinessOutsid5', location='', description='I am a student. Currently I am pursuing Commerce with an ambition to become a successful businessman and help the country in different ways.', url=None, entities={'description': {'urls': []}}, protected=False, followers_count=2, friends_count=14, listed_count=0, created_at=datetime.datetime(2021, 6, 17, 5, 17, 27), favourites_count=140, utc_offset=None, time_zone=None, geo_enabled=False, verified=False, statuses_count=73, lang=None, contributors_enabled=False, is_translator=False, is_translation_enabled=False, profile_background_color='F5F8FA', profile_background_image_url=None, profile_background_image_url_https=None, profile_background_tile=False, profile_image_url='http://pbs.twimg.com/profile_images/1405796681761783808/eyAs8yqH_normal.jpg', profile_image_url_https='https://pbs.twimg.com/profile_images/1405796681761783808/eyAs8yqH_normal.jpg', profile_banner_url='https://pbs.twimg.com/profile_banners/1405394003298635779/1623908221', profile_link_color='1DA1F2', profile_sidebar_border_color='C0DEED', profile_sidebar_fill_color='DDEEF6', profile_text_color='333333', profile_use_background_image=True, has_extended_profile=True, default_profile=True, default_profile_image=False, following=False, follow_request_sent=False, notifications=False, translator_type='none', withheld_in_countries=[]), geo=None, coordinates=None, place=None, contributors=None, is_quote_status=False, retweet_count=0, favorite_count=1, favorited=False, retweeted=False, lang='en') \n",
      "\n",
      ".....................................\n",
      "\n",
      "Status(_api=<tweepy.api.API object at 0x00000204E8E29070>, _json={'created_at': 'Fri Jun 18 07:30:00 +0000 2021', 'id': 1405789881100427264, 'id_str': '1405789881100427264', 'full_text': '#VIDEO: #India or #NewZealand, who will win the World Test Championship in #Cricket?: https://t.co/GnsPGOYieZ @gulf_news https://t.co/DMkXKddIS5', 'truncated': False, 'display_text_range': [0, 120], 'entities': {'hashtags': [{'text': 'VIDEO', 'indices': [0, 6]}, {'text': 'India', 'indices': [8, 14]}, {'text': 'NewZealand', 'indices': [18, 29]}, {'text': 'Cricket', 'indices': [75, 83]}], 'symbols': [], 'user_mentions': [{'screen_name': 'gulf_news', 'name': 'Gulf News', 'id': 20578408, 'id_str': '20578408', 'indices': [110, 120]}], 'urls': [{'url': 'https://t.co/GnsPGOYieZ', 'expanded_url': 'https://youtu.be/5rPU8KLZS0k', 'display_url': 'youtu.be/5rPU8KLZS0k', 'indices': [86, 109]}], 'media': [{'id': 1405452533796020234, 'id_str': '1405452533796020234', 'indices': [121, 144], 'media_url': 'http://pbs.twimg.com/media/E4ErohGVoAoAG4r.jpg', 'media_url_https': 'https://pbs.twimg.com/media/E4ErohGVoAoAG4r.jpg', 'url': 'https://t.co/DMkXKddIS5', 'display_url': 'pic.twitter.com/DMkXKddIS5', 'expanded_url': 'https://twitter.com/GulfNewsVideo/status/1405789881100427264/photo/1', 'type': 'photo', 'sizes': {'medium': {'w': 1200, 'h': 675, 'resize': 'fit'}, 'thumb': {'w': 150, 'h': 150, 'resize': 'crop'}, 'small': {'w': 680, 'h': 383, 'resize': 'fit'}, 'large': {'w': 1280, 'h': 720, 'resize': 'fit'}}}]}, 'extended_entities': {'media': [{'id': 1405452533796020234, 'id_str': '1405452533796020234', 'indices': [121, 144], 'media_url': 'http://pbs.twimg.com/media/E4ErohGVoAoAG4r.jpg', 'media_url_https': 'https://pbs.twimg.com/media/E4ErohGVoAoAG4r.jpg', 'url': 'https://t.co/DMkXKddIS5', 'display_url': 'pic.twitter.com/DMkXKddIS5', 'expanded_url': 'https://twitter.com/GulfNewsVideo/status/1405789881100427264/photo/1', 'type': 'photo', 'sizes': {'medium': {'w': 1200, 'h': 675, 'resize': 'fit'}, 'thumb': {'w': 150, 'h': 150, 'resize': 'crop'}, 'small': {'w': 680, 'h': 383, 'resize': 'fit'}, 'large': {'w': 1280, 'h': 720, 'resize': 'fit'}}}]}, 'metadata': {'iso_language_code': 'en', 'result_type': 'recent'}, 'source': '<a href=\"https://about.twitter.com/products/tweetdeck\" rel=\"nofollow\">TweetDeck</a>', 'in_reply_to_status_id': None, 'in_reply_to_status_id_str': None, 'in_reply_to_user_id': None, 'in_reply_to_user_id_str': None, 'in_reply_to_screen_name': None, 'user': {'id': 311375894, 'id_str': '311375894', 'name': 'Gulf News Video', 'screen_name': 'GulfNewsVideo', 'location': 'Dubai, United Arab Emirates', 'description': 'Gulf News videos: Content that matters, and you can trust.', 'url': 'https://t.co/RTLdfNe6Ix', 'entities': {'url': {'urls': [{'url': 'https://t.co/RTLdfNe6Ix', 'expanded_url': 'https://gulfnews.com/videos', 'display_url': 'gulfnews.com/videos', 'indices': [0, 23]}]}, 'description': {'urls': []}}, 'protected': False, 'followers_count': 9985, 'friends_count': 276, 'listed_count': 79, 'created_at': 'Sun Jun 05 10:28:26 +0000 2011', 'favourites_count': 39, 'utc_offset': None, 'time_zone': None, 'geo_enabled': False, 'verified': False, 'statuses_count': 7549, 'lang': None, 'contributors_enabled': False, 'is_translator': False, 'is_translation_enabled': False, 'profile_background_color': '1A1B1F', 'profile_background_image_url': 'http://abs.twimg.com/images/themes/theme9/bg.gif', 'profile_background_image_url_https': 'https://abs.twimg.com/images/themes/theme9/bg.gif', 'profile_background_tile': False, 'profile_image_url': 'http://pbs.twimg.com/profile_images/1274592893592797186/CGafIuDW_normal.jpg', 'profile_image_url_https': 'https://pbs.twimg.com/profile_images/1274592893592797186/CGafIuDW_normal.jpg', 'profile_banner_url': 'https://pbs.twimg.com/profile_banners/311375894/1531832117', 'profile_link_color': '2FC2EF', 'profile_sidebar_border_color': 'FFFFFF', 'profile_sidebar_fill_color': '252429', 'profile_text_color': '666666', 'profile_use_background_image': True, 'has_extended_profile': False, 'default_profile': False, 'default_profile_image': False, 'following': False, 'follow_request_sent': False, 'notifications': False, 'translator_type': 'none', 'withheld_in_countries': []}, 'geo': None, 'coordinates': None, 'place': None, 'contributors': None, 'is_quote_status': False, 'retweet_count': 1, 'favorite_count': 2, 'favorited': False, 'retweeted': False, 'possibly_sensitive': False, 'lang': 'en'}, created_at=datetime.datetime(2021, 6, 18, 7, 30), id=1405789881100427264, id_str='1405789881100427264', full_text='#VIDEO: #India or #NewZealand, who will win the World Test Championship in #Cricket?: https://t.co/GnsPGOYieZ @gulf_news https://t.co/DMkXKddIS5', truncated=False, display_text_range=[0, 120], entities={'hashtags': [{'text': 'VIDEO', 'indices': [0, 6]}, {'text': 'India', 'indices': [8, 14]}, {'text': 'NewZealand', 'indices': [18, 29]}, {'text': 'Cricket', 'indices': [75, 83]}], 'symbols': [], 'user_mentions': [{'screen_name': 'gulf_news', 'name': 'Gulf News', 'id': 20578408, 'id_str': '20578408', 'indices': [110, 120]}], 'urls': [{'url': 'https://t.co/GnsPGOYieZ', 'expanded_url': 'https://youtu.be/5rPU8KLZS0k', 'display_url': 'youtu.be/5rPU8KLZS0k', 'indices': [86, 109]}], 'media': [{'id': 1405452533796020234, 'id_str': '1405452533796020234', 'indices': [121, 144], 'media_url': 'http://pbs.twimg.com/media/E4ErohGVoAoAG4r.jpg', 'media_url_https': 'https://pbs.twimg.com/media/E4ErohGVoAoAG4r.jpg', 'url': 'https://t.co/DMkXKddIS5', 'display_url': 'pic.twitter.com/DMkXKddIS5', 'expanded_url': 'https://twitter.com/GulfNewsVideo/status/1405789881100427264/photo/1', 'type': 'photo', 'sizes': {'medium': {'w': 1200, 'h': 675, 'resize': 'fit'}, 'thumb': {'w': 150, 'h': 150, 'resize': 'crop'}, 'small': {'w': 680, 'h': 383, 'resize': 'fit'}, 'large': {'w': 1280, 'h': 720, 'resize': 'fit'}}}]}, extended_entities={'media': [{'id': 1405452533796020234, 'id_str': '1405452533796020234', 'indices': [121, 144], 'media_url': 'http://pbs.twimg.com/media/E4ErohGVoAoAG4r.jpg', 'media_url_https': 'https://pbs.twimg.com/media/E4ErohGVoAoAG4r.jpg', 'url': 'https://t.co/DMkXKddIS5', 'display_url': 'pic.twitter.com/DMkXKddIS5', 'expanded_url': 'https://twitter.com/GulfNewsVideo/status/1405789881100427264/photo/1', 'type': 'photo', 'sizes': {'medium': {'w': 1200, 'h': 675, 'resize': 'fit'}, 'thumb': {'w': 150, 'h': 150, 'resize': 'crop'}, 'small': {'w': 680, 'h': 383, 'resize': 'fit'}, 'large': {'w': 1280, 'h': 720, 'resize': 'fit'}}}]}, metadata={'iso_language_code': 'en', 'result_type': 'recent'}, source='TweetDeck', source_url='https://about.twitter.com/products/tweetdeck', in_reply_to_status_id=None, in_reply_to_status_id_str=None, in_reply_to_user_id=None, in_reply_to_user_id_str=None, in_reply_to_screen_name=None, author=User(_api=<tweepy.api.API object at 0x00000204E8E29070>, _json={'id': 311375894, 'id_str': '311375894', 'name': 'Gulf News Video', 'screen_name': 'GulfNewsVideo', 'location': 'Dubai, United Arab Emirates', 'description': 'Gulf News videos: Content that matters, and you can trust.', 'url': 'https://t.co/RTLdfNe6Ix', 'entities': {'url': {'urls': [{'url': 'https://t.co/RTLdfNe6Ix', 'expanded_url': 'https://gulfnews.com/videos', 'display_url': 'gulfnews.com/videos', 'indices': [0, 23]}]}, 'description': {'urls': []}}, 'protected': False, 'followers_count': 9985, 'friends_count': 276, 'listed_count': 79, 'created_at': 'Sun Jun 05 10:28:26 +0000 2011', 'favourites_count': 39, 'utc_offset': None, 'time_zone': None, 'geo_enabled': False, 'verified': False, 'statuses_count': 7549, 'lang': None, 'contributors_enabled': False, 'is_translator': False, 'is_translation_enabled': False, 'profile_background_color': '1A1B1F', 'profile_background_image_url': 'http://abs.twimg.com/images/themes/theme9/bg.gif', 'profile_background_image_url_https': 'https://abs.twimg.com/images/themes/theme9/bg.gif', 'profile_background_tile': False, 'profile_image_url': 'http://pbs.twimg.com/profile_images/1274592893592797186/CGafIuDW_normal.jpg', 'profile_image_url_https': 'https://pbs.twimg.com/profile_images/1274592893592797186/CGafIuDW_normal.jpg', 'profile_banner_url': 'https://pbs.twimg.com/profile_banners/311375894/1531832117', 'profile_link_color': '2FC2EF', 'profile_sidebar_border_color': 'FFFFFF', 'profile_sidebar_fill_color': '252429', 'profile_text_color': '666666', 'profile_use_background_image': True, 'has_extended_profile': False, 'default_profile': False, 'default_profile_image': False, 'following': False, 'follow_request_sent': False, 'notifications': False, 'translator_type': 'none', 'withheld_in_countries': []}, id=311375894, id_str='311375894', name='Gulf News Video', screen_name='GulfNewsVideo', location='Dubai, United Arab Emirates', description='Gulf News videos: Content that matters, and you can trust.', url='https://t.co/RTLdfNe6Ix', entities={'url': {'urls': [{'url': 'https://t.co/RTLdfNe6Ix', 'expanded_url': 'https://gulfnews.com/videos', 'display_url': 'gulfnews.com/videos', 'indices': [0, 23]}]}, 'description': {'urls': []}}, protected=False, followers_count=9985, friends_count=276, listed_count=79, created_at=datetime.datetime(2011, 6, 5, 10, 28, 26), favourites_count=39, utc_offset=None, time_zone=None, geo_enabled=False, verified=False, statuses_count=7549, lang=None, contributors_enabled=False, is_translator=False, is_translation_enabled=False, profile_background_color='1A1B1F', profile_background_image_url='http://abs.twimg.com/images/themes/theme9/bg.gif', profile_background_image_url_https='https://abs.twimg.com/images/themes/theme9/bg.gif', profile_background_tile=False, profile_image_url='http://pbs.twimg.com/profile_images/1274592893592797186/CGafIuDW_normal.jpg', profile_image_url_https='https://pbs.twimg.com/profile_images/1274592893592797186/CGafIuDW_normal.jpg', profile_banner_url='https://pbs.twimg.com/profile_banners/311375894/1531832117', profile_link_color='2FC2EF', profile_sidebar_border_color='FFFFFF', profile_sidebar_fill_color='252429', profile_text_color='666666', profile_use_background_image=True, has_extended_profile=False, default_profile=False, default_profile_image=False, following=False, follow_request_sent=False, notifications=False, translator_type='none', withheld_in_countries=[]), user=User(_api=<tweepy.api.API object at 0x00000204E8E29070>, _json={'id': 311375894, 'id_str': '311375894', 'name': 'Gulf News Video', 'screen_name': 'GulfNewsVideo', 'location': 'Dubai, United Arab Emirates', 'description': 'Gulf News videos: Content that matters, and you can trust.', 'url': 'https://t.co/RTLdfNe6Ix', 'entities': {'url': {'urls': [{'url': 'https://t.co/RTLdfNe6Ix', 'expanded_url': 'https://gulfnews.com/videos', 'display_url': 'gulfnews.com/videos', 'indices': [0, 23]}]}, 'description': {'urls': []}}, 'protected': False, 'followers_count': 9985, 'friends_count': 276, 'listed_count': 79, 'created_at': 'Sun Jun 05 10:28:26 +0000 2011', 'favourites_count': 39, 'utc_offset': None, 'time_zone': None, 'geo_enabled': False, 'verified': False, 'statuses_count': 7549, 'lang': None, 'contributors_enabled': False, 'is_translator': False, 'is_translation_enabled': False, 'profile_background_color': '1A1B1F', 'profile_background_image_url': 'http://abs.twimg.com/images/themes/theme9/bg.gif', 'profile_background_image_url_https': 'https://abs.twimg.com/images/themes/theme9/bg.gif', 'profile_background_tile': False, 'profile_image_url': 'http://pbs.twimg.com/profile_images/1274592893592797186/CGafIuDW_normal.jpg', 'profile_image_url_https': 'https://pbs.twimg.com/profile_images/1274592893592797186/CGafIuDW_normal.jpg', 'profile_banner_url': 'https://pbs.twimg.com/profile_banners/311375894/1531832117', 'profile_link_color': '2FC2EF', 'profile_sidebar_border_color': 'FFFFFF', 'profile_sidebar_fill_color': '252429', 'profile_text_color': '666666', 'profile_use_background_image': True, 'has_extended_profile': False, 'default_profile': False, 'default_profile_image': False, 'following': False, 'follow_request_sent': False, 'notifications': False, 'translator_type': 'none', 'withheld_in_countries': []}, id=311375894, id_str='311375894', name='Gulf News Video', screen_name='GulfNewsVideo', location='Dubai, United Arab Emirates', description='Gulf News videos: Content that matters, and you can trust.', url='https://t.co/RTLdfNe6Ix', entities={'url': {'urls': [{'url': 'https://t.co/RTLdfNe6Ix', 'expanded_url': 'https://gulfnews.com/videos', 'display_url': 'gulfnews.com/videos', 'indices': [0, 23]}]}, 'description': {'urls': []}}, protected=False, followers_count=9985, friends_count=276, listed_count=79, created_at=datetime.datetime(2011, 6, 5, 10, 28, 26), favourites_count=39, utc_offset=None, time_zone=None, geo_enabled=False, verified=False, statuses_count=7549, lang=None, contributors_enabled=False, is_translator=False, is_translation_enabled=False, profile_background_color='1A1B1F', profile_background_image_url='http://abs.twimg.com/images/themes/theme9/bg.gif', profile_background_image_url_https='https://abs.twimg.com/images/themes/theme9/bg.gif', profile_background_tile=False, profile_image_url='http://pbs.twimg.com/profile_images/1274592893592797186/CGafIuDW_normal.jpg', profile_image_url_https='https://pbs.twimg.com/profile_images/1274592893592797186/CGafIuDW_normal.jpg', profile_banner_url='https://pbs.twimg.com/profile_banners/311375894/1531832117', profile_link_color='2FC2EF', profile_sidebar_border_color='FFFFFF', profile_sidebar_fill_color='252429', profile_text_color='666666', profile_use_background_image=True, has_extended_profile=False, default_profile=False, default_profile_image=False, following=False, follow_request_sent=False, notifications=False, translator_type='none', withheld_in_countries=[]), geo=None, coordinates=None, place=None, contributors=None, is_quote_status=False, retweet_count=1, favorite_count=2, favorited=False, retweeted=False, possibly_sensitive=False, lang='en') \n",
      "\n",
      ".....................................\n",
      "\n"
     ]
    }
   ],
   "source": [
    "Tweets = api.search( query , count=10 , lang='en' , exclude='retweets' , tweet_mode='extended' )\n",
    "# tweet_mode='extended'\n",
    "# tweet_mode='compat'\n",
    "\n",
    "for tweet in Tweets:\n",
    "    print(tweet,\"\\n\")\n",
    "    print(\".....................................\\n\")"
   ]
  },
  {
   "cell_type": "markdown",
   "id": "e0e36d4d",
   "metadata": {},
   "source": [
    "### Get the tweets and some Attributes"
   ]
  },
  {
   "cell_type": "code",
   "execution_count": 6,
   "id": "0b4d2c06",
   "metadata": {},
   "outputs": [
    {
     "name": "stdout",
     "output_type": "stream",
     "text": [
      "Empty DataFrame\n",
      "Columns: [Tweets, User, User_statuses_count, user_followers, User_location, User_verified, fav_count, rt_count, tweet_date]\n",
      "Index: []\n"
     ]
    }
   ],
   "source": [
    "df = pd.DataFrame(columns = ['Tweets' , 'User' , 'User_statuses_count' , \n",
    "                            'user_followers' , 'User_location' , 'User_verified' ,\n",
    "                            'fav_count' , 'rt_count' , 'tweet_date'] )\n",
    "print(df)\n",
    "# print(df.shape)"
   ]
  },
  {
   "cell_type": "code",
   "execution_count": 7,
   "id": "b1e1d1d4",
   "metadata": {},
   "outputs": [],
   "source": [
    "def stream(data, file_name):\n",
    "    i = 0\n",
    "    for tweet in tweepy.Cursor(api.search, q=data, count=100, lang='en').items():\n",
    "        print(i, end='\\r')\n",
    "        df.loc[i, 'Tweets'] = tweet.text\n",
    "        df.loc[i, 'User'] = tweet.user.name\n",
    "        df.loc[i, 'User_statuses_count'] = tweet.user.statuses_count\n",
    "        df.loc[i, 'user_followers'] = tweet.user.followers_count\n",
    "        df.loc[i, 'User_location'] = tweet.user.location\n",
    "        df.loc[i, 'User_verified'] = tweet.user.verified\n",
    "        df.loc[i, 'fav_count'] = tweet.favorite_count\n",
    "        df.loc[i, 'rt_count'] = tweet.retweet_count\n",
    "        df.loc[i, 'tweet_date'] = tweet.created_at\n",
    "        df.to_excel('{}.xlsx'.format(file_name))\n",
    "        i = i+1\n",
    "        if i == 1000:\n",
    "            break\n",
    "        else:\n",
    "            pass"
   ]
  },
  {
   "cell_type": "code",
   "execution_count": 8,
   "id": "5afdb6fa",
   "metadata": {},
   "outputs": [
    {
     "name": "stdout",
     "output_type": "stream",
     "text": [
      "77\r"
     ]
    }
   ],
   "source": [
    "stream(data=[\"India will win Test Cricket Championship\"] , file_name='india_tcc_tweets')"
   ]
  },
  {
   "cell_type": "code",
   "execution_count": 9,
   "id": "ed90c90e",
   "metadata": {},
   "outputs": [
    {
     "data": {
      "text/html": [
       "<div>\n",
       "<style scoped>\n",
       "    .dataframe tbody tr th:only-of-type {\n",
       "        vertical-align: middle;\n",
       "    }\n",
       "\n",
       "    .dataframe tbody tr th {\n",
       "        vertical-align: top;\n",
       "    }\n",
       "\n",
       "    .dataframe thead th {\n",
       "        text-align: right;\n",
       "    }\n",
       "</style>\n",
       "<table border=\"1\" class=\"dataframe\">\n",
       "  <thead>\n",
       "    <tr style=\"text-align: right;\">\n",
       "      <th></th>\n",
       "      <th>Tweets</th>\n",
       "      <th>User</th>\n",
       "      <th>User_statuses_count</th>\n",
       "      <th>user_followers</th>\n",
       "      <th>User_location</th>\n",
       "      <th>User_verified</th>\n",
       "      <th>fav_count</th>\n",
       "      <th>rt_count</th>\n",
       "      <th>tweet_date</th>\n",
       "    </tr>\n",
       "  </thead>\n",
       "  <tbody>\n",
       "    <tr>\n",
       "      <th>0</th>\n",
       "      <td>Looking to India's approach against Australia ...</td>\n",
       "      <td>CricAddicts</td>\n",
       "      <td>273</td>\n",
       "      <td>14</td>\n",
       "      <td>Gujarat, India</td>\n",
       "      <td>False</td>\n",
       "      <td>2</td>\n",
       "      <td>0</td>\n",
       "      <td>2021-06-22 05:33:47</td>\n",
       "    </tr>\n",
       "    <tr>\n",
       "      <th>1</th>\n",
       "      <td>Ashwin vs Williamson in Tests- \\n\\nMatches: 6\\...</td>\n",
       "      <td>Cricket.com</td>\n",
       "      <td>10332</td>\n",
       "      <td>19606</td>\n",
       "      <td></td>\n",
       "      <td>False</td>\n",
       "      <td>2</td>\n",
       "      <td>0</td>\n",
       "      <td>2021-06-20 16:49:24</td>\n",
       "    </tr>\n",
       "    <tr>\n",
       "      <th>2</th>\n",
       "      <td>RT @BETDAQ: ▶️ India v New Zealand\\n\\n😍 Who wi...</td>\n",
       "      <td>Horse Racing</td>\n",
       "      <td>21364</td>\n",
       "      <td>40</td>\n",
       "      <td>everywhere</td>\n",
       "      <td>False</td>\n",
       "      <td>0</td>\n",
       "      <td>2</td>\n",
       "      <td>2021-06-19 12:58:06</td>\n",
       "    </tr>\n",
       "    <tr>\n",
       "      <th>3</th>\n",
       "      <td>RT @BETDAQ: ▶️ India v New Zealand\\n\\n😍 Who wi...</td>\n",
       "      <td>Horse Racing</td>\n",
       "      <td>21364</td>\n",
       "      <td>40</td>\n",
       "      <td>everywhere</td>\n",
       "      <td>False</td>\n",
       "      <td>0</td>\n",
       "      <td>2</td>\n",
       "      <td>2021-06-19 12:57:02</td>\n",
       "    </tr>\n",
       "    <tr>\n",
       "      <th>4</th>\n",
       "      <td>RT @BETDAQ: ▶️ India v New Zealand\\n\\n😍 Who wi...</td>\n",
       "      <td>Horse Racing</td>\n",
       "      <td>21364</td>\n",
       "      <td>40</td>\n",
       "      <td>everywhere</td>\n",
       "      <td>False</td>\n",
       "      <td>0</td>\n",
       "      <td>3</td>\n",
       "      <td>2021-06-19 12:56:41</td>\n",
       "    </tr>\n",
       "  </tbody>\n",
       "</table>\n",
       "</div>"
      ],
      "text/plain": [
       "                                              Tweets          User  \\\n",
       "0  Looking to India's approach against Australia ...   CricAddicts   \n",
       "1  Ashwin vs Williamson in Tests- \\n\\nMatches: 6\\...   Cricket.com   \n",
       "2  RT @BETDAQ: ▶️ India v New Zealand\\n\\n😍 Who wi...  Horse Racing   \n",
       "3  RT @BETDAQ: ▶️ India v New Zealand\\n\\n😍 Who wi...  Horse Racing   \n",
       "4  RT @BETDAQ: ▶️ India v New Zealand\\n\\n😍 Who wi...  Horse Racing   \n",
       "\n",
       "  User_statuses_count user_followers   User_location User_verified fav_count  \\\n",
       "0                 273             14  Gujarat, India         False         2   \n",
       "1               10332          19606                         False         2   \n",
       "2               21364             40      everywhere         False         0   \n",
       "3               21364             40      everywhere         False         0   \n",
       "4               21364             40      everywhere         False         0   \n",
       "\n",
       "  rt_count           tweet_date  \n",
       "0        0  2021-06-22 05:33:47  \n",
       "1        0  2021-06-20 16:49:24  \n",
       "2        2  2021-06-19 12:58:06  \n",
       "3        2  2021-06-19 12:57:02  \n",
       "4        3  2021-06-19 12:56:41  "
      ]
     },
     "execution_count": 9,
     "metadata": {},
     "output_type": "execute_result"
    }
   ],
   "source": [
    "df.head()"
   ]
  },
  {
   "cell_type": "code",
   "execution_count": 10,
   "id": "2735c15c",
   "metadata": {},
   "outputs": [
    {
     "data": {
      "text/html": [
       "<div>\n",
       "<style scoped>\n",
       "    .dataframe tbody tr th:only-of-type {\n",
       "        vertical-align: middle;\n",
       "    }\n",
       "\n",
       "    .dataframe tbody tr th {\n",
       "        vertical-align: top;\n",
       "    }\n",
       "\n",
       "    .dataframe thead th {\n",
       "        text-align: right;\n",
       "    }\n",
       "</style>\n",
       "<table border=\"1\" class=\"dataframe\">\n",
       "  <thead>\n",
       "    <tr style=\"text-align: right;\">\n",
       "      <th></th>\n",
       "      <th>Tweets</th>\n",
       "      <th>User</th>\n",
       "      <th>User_statuses_count</th>\n",
       "      <th>user_followers</th>\n",
       "      <th>User_location</th>\n",
       "      <th>User_verified</th>\n",
       "      <th>fav_count</th>\n",
       "      <th>rt_count</th>\n",
       "      <th>tweet_date</th>\n",
       "    </tr>\n",
       "  </thead>\n",
       "  <tbody>\n",
       "    <tr>\n",
       "      <th>73</th>\n",
       "      <td>Who will win world test championship \\n India ...</td>\n",
       "      <td>Aman kumar</td>\n",
       "      <td>40</td>\n",
       "      <td>0</td>\n",
       "      <td>Bengaluru, India</td>\n",
       "      <td>False</td>\n",
       "      <td>0</td>\n",
       "      <td>0</td>\n",
       "      <td>2021-06-14 06:36:41</td>\n",
       "    </tr>\n",
       "    <tr>\n",
       "      <th>74</th>\n",
       "      <td>New Zealand will have the advantage of having ...</td>\n",
       "      <td>Jeetbuzz</td>\n",
       "      <td>258</td>\n",
       "      <td>60</td>\n",
       "      <td></td>\n",
       "      <td>False</td>\n",
       "      <td>3</td>\n",
       "      <td>0</td>\n",
       "      <td>2021-06-14 05:08:37</td>\n",
       "    </tr>\n",
       "    <tr>\n",
       "      <th>75</th>\n",
       "      <td>RT @IExpressSports: New Zealand will have the ...</td>\n",
       "      <td>dhiman_saab</td>\n",
       "      <td>389018</td>\n",
       "      <td>315</td>\n",
       "      <td>india</td>\n",
       "      <td>False</td>\n",
       "      <td>0</td>\n",
       "      <td>3</td>\n",
       "      <td>2021-06-14 03:39:39</td>\n",
       "    </tr>\n",
       "    <tr>\n",
       "      <th>76</th>\n",
       "      <td>RT @IExpressSports: New Zealand will have the ...</td>\n",
       "      <td>The Indian Express</td>\n",
       "      <td>795791</td>\n",
       "      <td>3926387</td>\n",
       "      <td>India</td>\n",
       "      <td>True</td>\n",
       "      <td>0</td>\n",
       "      <td>3</td>\n",
       "      <td>2021-06-14 03:18:18</td>\n",
       "    </tr>\n",
       "    <tr>\n",
       "      <th>77</th>\n",
       "      <td>New Zealand will have the advantage of having ...</td>\n",
       "      <td>Express Sports</td>\n",
       "      <td>172891</td>\n",
       "      <td>84606</td>\n",
       "      <td>New Delhi</td>\n",
       "      <td>True</td>\n",
       "      <td>23</td>\n",
       "      <td>3</td>\n",
       "      <td>2021-06-14 03:18:11</td>\n",
       "    </tr>\n",
       "  </tbody>\n",
       "</table>\n",
       "</div>"
      ],
      "text/plain": [
       "                                               Tweets                User  \\\n",
       "73  Who will win world test championship \\n India ...          Aman kumar   \n",
       "74  New Zealand will have the advantage of having ...            Jeetbuzz   \n",
       "75  RT @IExpressSports: New Zealand will have the ...         dhiman_saab   \n",
       "76  RT @IExpressSports: New Zealand will have the ...  The Indian Express   \n",
       "77  New Zealand will have the advantage of having ...      Express Sports   \n",
       "\n",
       "   User_statuses_count user_followers     User_location User_verified  \\\n",
       "73                  40              0  Bengaluru, India         False   \n",
       "74                 258             60                           False   \n",
       "75              389018            315             india         False   \n",
       "76              795791        3926387             India          True   \n",
       "77              172891          84606         New Delhi          True   \n",
       "\n",
       "   fav_count rt_count           tweet_date  \n",
       "73         0        0  2021-06-14 06:36:41  \n",
       "74         3        0  2021-06-14 05:08:37  \n",
       "75         0        3  2021-06-14 03:39:39  \n",
       "76         0        3  2021-06-14 03:18:18  \n",
       "77        23        3  2021-06-14 03:18:11  "
      ]
     },
     "execution_count": 10,
     "metadata": {},
     "output_type": "execute_result"
    }
   ],
   "source": [
    "df.tail()"
   ]
  },
  {
   "cell_type": "code",
   "execution_count": 11,
   "id": "1e9bdaea",
   "metadata": {},
   "outputs": [],
   "source": [
    "from textblob import TextBlob"
   ]
  },
  {
   "cell_type": "code",
   "execution_count": 12,
   "id": "f81f55a2",
   "metadata": {},
   "outputs": [],
   "source": [
    "import re\n",
    "def clean_tweet(tweet):\n",
    "    return ' '.join(re.sub('(@[A-Za-z0-9]+)|([^0-9A-Za-z \\t])|(\\w+:\\/\\/\\S+)', ' ', tweet).split())"
   ]
  },
  {
   "cell_type": "code",
   "execution_count": 13,
   "id": "96113c76",
   "metadata": {},
   "outputs": [],
   "source": [
    "def analyze_sentiment(tweet):\n",
    "    analysis = TextBlob(tweet)\n",
    "    if analysis.sentiment.polarity > 0:\n",
    "        return 'Positive'\n",
    "    elif analysis.sentiment.polarity == 0:\n",
    "        return 'Neutral'\n",
    "    else:\n",
    "        return 'Negative'"
   ]
  },
  {
   "cell_type": "code",
   "execution_count": 14,
   "id": "1acb322e",
   "metadata": {},
   "outputs": [],
   "source": [
    "df['clean_tweet'] = df['Tweets'].apply(lambda x : clean_tweet(x))"
   ]
  },
  {
   "cell_type": "code",
   "execution_count": 15,
   "id": "ca7f4212",
   "metadata": {},
   "outputs": [
    {
     "data": {
      "text/html": [
       "<div>\n",
       "<style scoped>\n",
       "    .dataframe tbody tr th:only-of-type {\n",
       "        vertical-align: middle;\n",
       "    }\n",
       "\n",
       "    .dataframe tbody tr th {\n",
       "        vertical-align: top;\n",
       "    }\n",
       "\n",
       "    .dataframe thead th {\n",
       "        text-align: right;\n",
       "    }\n",
       "</style>\n",
       "<table border=\"1\" class=\"dataframe\">\n",
       "  <thead>\n",
       "    <tr style=\"text-align: right;\">\n",
       "      <th></th>\n",
       "      <th>Tweets</th>\n",
       "      <th>User</th>\n",
       "      <th>User_statuses_count</th>\n",
       "      <th>user_followers</th>\n",
       "      <th>User_location</th>\n",
       "      <th>User_verified</th>\n",
       "      <th>fav_count</th>\n",
       "      <th>rt_count</th>\n",
       "      <th>tweet_date</th>\n",
       "      <th>clean_tweet</th>\n",
       "    </tr>\n",
       "  </thead>\n",
       "  <tbody>\n",
       "    <tr>\n",
       "      <th>0</th>\n",
       "      <td>Looking to India's approach against Australia ...</td>\n",
       "      <td>CricAddicts</td>\n",
       "      <td>273</td>\n",
       "      <td>14</td>\n",
       "      <td>Gujarat, India</td>\n",
       "      <td>False</td>\n",
       "      <td>2</td>\n",
       "      <td>0</td>\n",
       "      <td>2021-06-22 05:33:47</td>\n",
       "      <td>Looking to India s approach against Australia ...</td>\n",
       "    </tr>\n",
       "    <tr>\n",
       "      <th>1</th>\n",
       "      <td>Ashwin vs Williamson in Tests- \\n\\nMatches: 6\\...</td>\n",
       "      <td>Cricket.com</td>\n",
       "      <td>10332</td>\n",
       "      <td>19606</td>\n",
       "      <td></td>\n",
       "      <td>False</td>\n",
       "      <td>2</td>\n",
       "      <td>0</td>\n",
       "      <td>2021-06-20 16:49:24</td>\n",
       "      <td>Ashwin vs Williamson in Tests Matches 6 Dismis...</td>\n",
       "    </tr>\n",
       "    <tr>\n",
       "      <th>2</th>\n",
       "      <td>RT @BETDAQ: ▶️ India v New Zealand\\n\\n😍 Who wi...</td>\n",
       "      <td>Horse Racing</td>\n",
       "      <td>21364</td>\n",
       "      <td>40</td>\n",
       "      <td>everywhere</td>\n",
       "      <td>False</td>\n",
       "      <td>0</td>\n",
       "      <td>2</td>\n",
       "      <td>2021-06-19 12:58:06</td>\n",
       "      <td>RT India v New Zealand Who will win the WorldT...</td>\n",
       "    </tr>\n",
       "    <tr>\n",
       "      <th>3</th>\n",
       "      <td>RT @BETDAQ: ▶️ India v New Zealand\\n\\n😍 Who wi...</td>\n",
       "      <td>Horse Racing</td>\n",
       "      <td>21364</td>\n",
       "      <td>40</td>\n",
       "      <td>everywhere</td>\n",
       "      <td>False</td>\n",
       "      <td>0</td>\n",
       "      <td>2</td>\n",
       "      <td>2021-06-19 12:57:02</td>\n",
       "      <td>RT India v New Zealand Who will win the WorldT...</td>\n",
       "    </tr>\n",
       "    <tr>\n",
       "      <th>4</th>\n",
       "      <td>RT @BETDAQ: ▶️ India v New Zealand\\n\\n😍 Who wi...</td>\n",
       "      <td>Horse Racing</td>\n",
       "      <td>21364</td>\n",
       "      <td>40</td>\n",
       "      <td>everywhere</td>\n",
       "      <td>False</td>\n",
       "      <td>0</td>\n",
       "      <td>3</td>\n",
       "      <td>2021-06-19 12:56:41</td>\n",
       "      <td>RT India v New Zealand Who will win the WorldT...</td>\n",
       "    </tr>\n",
       "  </tbody>\n",
       "</table>\n",
       "</div>"
      ],
      "text/plain": [
       "                                              Tweets          User  \\\n",
       "0  Looking to India's approach against Australia ...   CricAddicts   \n",
       "1  Ashwin vs Williamson in Tests- \\n\\nMatches: 6\\...   Cricket.com   \n",
       "2  RT @BETDAQ: ▶️ India v New Zealand\\n\\n😍 Who wi...  Horse Racing   \n",
       "3  RT @BETDAQ: ▶️ India v New Zealand\\n\\n😍 Who wi...  Horse Racing   \n",
       "4  RT @BETDAQ: ▶️ India v New Zealand\\n\\n😍 Who wi...  Horse Racing   \n",
       "\n",
       "  User_statuses_count user_followers   User_location User_verified fav_count  \\\n",
       "0                 273             14  Gujarat, India         False         2   \n",
       "1               10332          19606                         False         2   \n",
       "2               21364             40      everywhere         False         0   \n",
       "3               21364             40      everywhere         False         0   \n",
       "4               21364             40      everywhere         False         0   \n",
       "\n",
       "  rt_count           tweet_date  \\\n",
       "0        0  2021-06-22 05:33:47   \n",
       "1        0  2021-06-20 16:49:24   \n",
       "2        2  2021-06-19 12:58:06   \n",
       "3        2  2021-06-19 12:57:02   \n",
       "4        3  2021-06-19 12:56:41   \n",
       "\n",
       "                                         clean_tweet  \n",
       "0  Looking to India s approach against Australia ...  \n",
       "1  Ashwin vs Williamson in Tests Matches 6 Dismis...  \n",
       "2  RT India v New Zealand Who will win the WorldT...  \n",
       "3  RT India v New Zealand Who will win the WorldT...  \n",
       "4  RT India v New Zealand Who will win the WorldT...  "
      ]
     },
     "execution_count": 15,
     "metadata": {},
     "output_type": "execute_result"
    }
   ],
   "source": [
    "df.head()"
   ]
  },
  {
   "cell_type": "code",
   "execution_count": 16,
   "id": "5390aec8",
   "metadata": {},
   "outputs": [
    {
     "data": {
      "text/html": [
       "<div>\n",
       "<style scoped>\n",
       "    .dataframe tbody tr th:only-of-type {\n",
       "        vertical-align: middle;\n",
       "    }\n",
       "\n",
       "    .dataframe tbody tr th {\n",
       "        vertical-align: top;\n",
       "    }\n",
       "\n",
       "    .dataframe thead th {\n",
       "        text-align: right;\n",
       "    }\n",
       "</style>\n",
       "<table border=\"1\" class=\"dataframe\">\n",
       "  <thead>\n",
       "    <tr style=\"text-align: right;\">\n",
       "      <th></th>\n",
       "      <th>Tweets</th>\n",
       "      <th>User</th>\n",
       "      <th>User_statuses_count</th>\n",
       "      <th>user_followers</th>\n",
       "      <th>User_location</th>\n",
       "      <th>User_verified</th>\n",
       "      <th>fav_count</th>\n",
       "      <th>rt_count</th>\n",
       "      <th>tweet_date</th>\n",
       "      <th>clean_tweet</th>\n",
       "      <th>Sentiment</th>\n",
       "    </tr>\n",
       "  </thead>\n",
       "  <tbody>\n",
       "    <tr>\n",
       "      <th>0</th>\n",
       "      <td>Looking to India's approach against Australia ...</td>\n",
       "      <td>CricAddicts</td>\n",
       "      <td>273</td>\n",
       "      <td>14</td>\n",
       "      <td>Gujarat, India</td>\n",
       "      <td>False</td>\n",
       "      <td>2</td>\n",
       "      <td>0</td>\n",
       "      <td>2021-06-22 05:33:47</td>\n",
       "      <td>Looking to India s approach against Australia ...</td>\n",
       "      <td>Positive</td>\n",
       "    </tr>\n",
       "    <tr>\n",
       "      <th>1</th>\n",
       "      <td>Ashwin vs Williamson in Tests- \\n\\nMatches: 6\\...</td>\n",
       "      <td>Cricket.com</td>\n",
       "      <td>10332</td>\n",
       "      <td>19606</td>\n",
       "      <td></td>\n",
       "      <td>False</td>\n",
       "      <td>2</td>\n",
       "      <td>0</td>\n",
       "      <td>2021-06-20 16:49:24</td>\n",
       "      <td>Ashwin vs Williamson in Tests Matches 6 Dismis...</td>\n",
       "      <td>Positive</td>\n",
       "    </tr>\n",
       "    <tr>\n",
       "      <th>2</th>\n",
       "      <td>RT @BETDAQ: ▶️ India v New Zealand\\n\\n😍 Who wi...</td>\n",
       "      <td>Horse Racing</td>\n",
       "      <td>21364</td>\n",
       "      <td>40</td>\n",
       "      <td>everywhere</td>\n",
       "      <td>False</td>\n",
       "      <td>0</td>\n",
       "      <td>2</td>\n",
       "      <td>2021-06-19 12:58:06</td>\n",
       "      <td>RT India v New Zealand Who will win the WorldT...</td>\n",
       "      <td>Positive</td>\n",
       "    </tr>\n",
       "    <tr>\n",
       "      <th>3</th>\n",
       "      <td>RT @BETDAQ: ▶️ India v New Zealand\\n\\n😍 Who wi...</td>\n",
       "      <td>Horse Racing</td>\n",
       "      <td>21364</td>\n",
       "      <td>40</td>\n",
       "      <td>everywhere</td>\n",
       "      <td>False</td>\n",
       "      <td>0</td>\n",
       "      <td>2</td>\n",
       "      <td>2021-06-19 12:57:02</td>\n",
       "      <td>RT India v New Zealand Who will win the WorldT...</td>\n",
       "      <td>Positive</td>\n",
       "    </tr>\n",
       "    <tr>\n",
       "      <th>4</th>\n",
       "      <td>RT @BETDAQ: ▶️ India v New Zealand\\n\\n😍 Who wi...</td>\n",
       "      <td>Horse Racing</td>\n",
       "      <td>21364</td>\n",
       "      <td>40</td>\n",
       "      <td>everywhere</td>\n",
       "      <td>False</td>\n",
       "      <td>0</td>\n",
       "      <td>3</td>\n",
       "      <td>2021-06-19 12:56:41</td>\n",
       "      <td>RT India v New Zealand Who will win the WorldT...</td>\n",
       "      <td>Positive</td>\n",
       "    </tr>\n",
       "  </tbody>\n",
       "</table>\n",
       "</div>"
      ],
      "text/plain": [
       "                                              Tweets          User  \\\n",
       "0  Looking to India's approach against Australia ...   CricAddicts   \n",
       "1  Ashwin vs Williamson in Tests- \\n\\nMatches: 6\\...   Cricket.com   \n",
       "2  RT @BETDAQ: ▶️ India v New Zealand\\n\\n😍 Who wi...  Horse Racing   \n",
       "3  RT @BETDAQ: ▶️ India v New Zealand\\n\\n😍 Who wi...  Horse Racing   \n",
       "4  RT @BETDAQ: ▶️ India v New Zealand\\n\\n😍 Who wi...  Horse Racing   \n",
       "\n",
       "  User_statuses_count user_followers   User_location User_verified fav_count  \\\n",
       "0                 273             14  Gujarat, India         False         2   \n",
       "1               10332          19606                         False         2   \n",
       "2               21364             40      everywhere         False         0   \n",
       "3               21364             40      everywhere         False         0   \n",
       "4               21364             40      everywhere         False         0   \n",
       "\n",
       "  rt_count           tweet_date  \\\n",
       "0        0  2021-06-22 05:33:47   \n",
       "1        0  2021-06-20 16:49:24   \n",
       "2        2  2021-06-19 12:58:06   \n",
       "3        2  2021-06-19 12:57:02   \n",
       "4        3  2021-06-19 12:56:41   \n",
       "\n",
       "                                         clean_tweet Sentiment  \n",
       "0  Looking to India s approach against Australia ...  Positive  \n",
       "1  Ashwin vs Williamson in Tests Matches 6 Dismis...  Positive  \n",
       "2  RT India v New Zealand Who will win the WorldT...  Positive  \n",
       "3  RT India v New Zealand Who will win the WorldT...  Positive  \n",
       "4  RT India v New Zealand Who will win the WorldT...  Positive  "
      ]
     },
     "execution_count": 16,
     "metadata": {},
     "output_type": "execute_result"
    }
   ],
   "source": [
    "df['Sentiment'] = df['clean_tweet'].apply(lambda x : analyze_sentiment(x) )\n",
    "df.head()"
   ]
  },
  {
   "cell_type": "markdown",
   "id": "2c2160c8",
   "metadata": {},
   "source": [
    "### Analysis of tweet"
   ]
  },
  {
   "cell_type": "code",
   "execution_count": 17,
   "id": "052bacea",
   "metadata": {},
   "outputs": [
    {
     "name": "stdout",
     "output_type": "stream",
     "text": [
      "Original tweet:\n",
      " Ashwin vs Williamson in Tests- \n",
      "\n",
      "Matches: 6\n",
      "Dismissals: 5\n",
      "Average: 29.60\n",
      "\n",
      "Who do you think will win this battle at… https://t.co/VByGLJ9kXV\n",
      "\n",
      "Clean tweet:\n",
      " Ashwin vs Williamson in Tests Matches 6 Dismissals 5 Average 29 60 Who do you think will win this battle at\n",
      "\n",
      "Sentiment of the tweet:\n",
      " Positive\n"
     ]
    }
   ],
   "source": [
    "n = 1\n",
    "print(\"Original tweet:\\n\",df['Tweets'][n])\n",
    "print()\n",
    "print(\"Clean tweet:\\n\",df['clean_tweet'][n])\n",
    "print()\n",
    "print(\"Sentiment of the tweet:\\n\",df['Sentiment'][n])"
   ]
  },
  {
   "cell_type": "code",
   "execution_count": 18,
   "id": "49ca03b7",
   "metadata": {},
   "outputs": [
    {
     "name": "stdout",
     "output_type": "stream",
     "text": [
      "Original tweet:\n",
      " RT @RafazTweets: Watch the royal and finale encounter between India and new zealand. Who will win the first ever tile of world test champio…\n",
      "\n",
      "Clean tweet:\n",
      " RT Watch the royal and finale encounter between India and new zealand Who will win the first ever tile of world test champio\n",
      "\n",
      "Sentiment of the tweet:\n",
      " Positive\n"
     ]
    }
   ],
   "source": [
    "n = 20\n",
    "print(\"Original tweet:\\n\",df['Tweets'][n])\n",
    "print()\n",
    "print(\"Clean tweet:\\n\",df['clean_tweet'][n])\n",
    "print()\n",
    "print(\"Sentiment of the tweet:\\n\",df['Sentiment'][n])"
   ]
  },
  {
   "cell_type": "code",
   "execution_count": 19,
   "id": "89805cec",
   "metadata": {},
   "outputs": [
    {
     "name": "stdout",
     "output_type": "stream",
     "text": [
      "Original tweet:\n",
      " Who will win the inaugural World Test Championship Final. \n",
      "\n",
      "India 🇮🇳 or New Zealand 🇳🇿?\n",
      "\n",
      "We’ll have commentary from… https://t.co/8e8wt4o62S\n",
      "\n",
      "Clean tweet:\n",
      " Who will win the inaugural World Test Championship Final India or New Zealand We ll have commentary from\n",
      "\n",
      "Sentiment of the tweet:\n",
      " Positive\n"
     ]
    }
   ],
   "source": [
    "n = 50\n",
    "print(\"Original tweet:\\n\",df['Tweets'][n])\n",
    "print()\n",
    "print(\"Clean tweet:\\n\",df['clean_tweet'][n])\n",
    "print()\n",
    "print(\"Sentiment of the tweet:\\n\",df['Sentiment'][n])"
   ]
  },
  {
   "cell_type": "code",
   "execution_count": 20,
   "id": "37d0f5c7",
   "metadata": {},
   "outputs": [
    {
     "data": {
      "text/plain": [
       "75"
      ]
     },
     "execution_count": 20,
     "metadata": {},
     "output_type": "execute_result"
    }
   ],
   "source": [
    "df[df.Sentiment == 'Positive'].shape[0]"
   ]
  },
  {
   "cell_type": "code",
   "execution_count": 21,
   "id": "5d4c2e66",
   "metadata": {},
   "outputs": [
    {
     "data": {
      "text/plain": [
       "2"
      ]
     },
     "execution_count": 21,
     "metadata": {},
     "output_type": "execute_result"
    }
   ],
   "source": [
    "df[df.Sentiment == 'Neutral'].shape[0]"
   ]
  },
  {
   "cell_type": "code",
   "execution_count": 22,
   "id": "571dcfab",
   "metadata": {},
   "outputs": [
    {
     "data": {
      "text/plain": [
       "1"
      ]
     },
     "execution_count": 22,
     "metadata": {},
     "output_type": "execute_result"
    }
   ],
   "source": [
    "df[df.Sentiment == 'Negative'].shape[0]"
   ]
  },
  {
   "cell_type": "code",
   "execution_count": null,
   "id": "44f9fb6c",
   "metadata": {},
   "outputs": [],
   "source": []
  }
 ],
 "metadata": {
  "kernelspec": {
   "display_name": "Python 3",
   "language": "python",
   "name": "python3"
  },
  "language_info": {
   "codemirror_mode": {
    "name": "ipython",
    "version": 3
   },
   "file_extension": ".py",
   "mimetype": "text/x-python",
   "name": "python",
   "nbconvert_exporter": "python",
   "pygments_lexer": "ipython3",
   "version": "3.9.3"
  }
 },
 "nbformat": 4,
 "nbformat_minor": 5
}
