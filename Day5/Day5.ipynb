{
 "cells": [
  {
   "cell_type": "code",
   "execution_count": 14,
   "metadata": {},
   "outputs": [
    {
     "name": "stdout",
     "output_type": "stream",
     "text": [
      "Enter number:100\n",
      "3\n",
      "5\n",
      "7\n",
      "11\n",
      "13\n",
      "17\n",
      "19\n",
      "23\n",
      "29\n",
      "31\n",
      "37\n",
      "41\n",
      "43\n",
      "47\n",
      "53\n",
      "59\n",
      "61\n",
      "67\n",
      "71\n",
      "73\n",
      "79\n",
      "83\n",
      "89\n",
      "97\n"
     ]
    }
   ],
   "source": [
    "#Answer 1:\n",
    "num= int(input(\"Enter number:\"))\n",
    "count=0\n",
    "for val in range(3, num): \n",
    "    if val > 1:\n",
    "        for n in range(2, val//2 + 2): \n",
    "            if (val % n) == 0: \n",
    "                break\n",
    "            else: \n",
    "                if n == val//2 + 1: \n",
    "                    print(val)"
   ]
  },
  {
   "cell_type": "code",
   "execution_count": 6,
   "metadata": {},
   "outputs": [
    {
     "name": "stdout",
     "output_type": "stream",
     "text": [
      "Enter the text:dskjfdslkjf\n",
      "['dskjfdslkjf']\n",
      "dskjfdslkjf\n",
      "DSKJFDSLKJF\n",
      "True\n",
      "False\n",
      "Dskjfdslkjf\n",
      "['dskjfdslkjf']\n",
      "dskjfdslkjf\n",
      "11\n",
      "False\n",
      "True\n",
      "False\n",
      "False\n"
     ]
    }
   ],
   "source": [
    "#Answer 2:\n",
    "txt= input(\"Enter the text:\")\n",
    "print(txt.split())\n",
    "print(txt.lower())\n",
    "print(txt.upper())\n",
    "print(txt.islower())\n",
    "print(txt.isupper())\n",
    "print(txt.capitalize())\n",
    "print(txt.split())\n",
    "print(txt.casefold())\n",
    "print(len(txt))\n",
    "print(txt.istitle())\n",
    "print(txt.isalpha())\n",
    "print(txt.isdecimal())\n",
    "print(txt.isdigit())"
   ]
  },
  {
   "cell_type": "code",
   "execution_count": 17,
   "metadata": {},
   "outputs": [
    {
     "name": "stdout",
     "output_type": "stream",
     "text": [
      "Enter the text:jokerekoj\n",
      "True\n",
      "Palindrome.\n"
     ]
    }
   ],
   "source": [
    "#Answer 3:\n",
    "def pal(s):\n",
    "    return s==s[::-1]\n",
    "s=input(\"Enter the text:\")\n",
    "ans= pal(s)\n",
    "print(ans)\n",
    "if ans:\n",
    "    print(\"Palindrome.\")\n",
    "else:\n",
    "    print(\"Not Palindrome.\")"
   ]
  },
  {
   "cell_type": "code",
   "execution_count": 16,
   "metadata": {},
   "outputs": [
    {
     "name": "stdout",
     "output_type": "stream",
     "text": [
      "Enter the text:bdhu#@kfrfg%@!#gkjgkl\n",
      "Original String : bdhu#@kfrfg%@!#gkjgkl\n",
      "Resultant list is : bdhukfrfggkjgkl\n"
     ]
    }
   ],
   "source": [
    "rem = [\";\", \":\", \"!\", \"*\",\"@\",\"#\",\"$\",\"%\"] \n",
    "txt = input(\"Enter the text:\")\n",
    "print (\"Original String : \" + txt)   \n",
    "for i in rem : \n",
    "    txt = txt.replace(i, \"\")\n",
    "print (\"Resultant list is : \" + str(txt)) "
   ]
  },
  {
   "cell_type": "code",
   "execution_count": null,
   "metadata": {},
   "outputs": [],
   "source": []
  }
 ],
 "metadata": {
  "kernelspec": {
   "display_name": "Python 3",
   "language": "python",
   "name": "python3"
  },
  "language_info": {
   "codemirror_mode": {
    "name": "ipython",
    "version": 3
   },
   "file_extension": ".py",
   "mimetype": "text/x-python",
   "name": "python",
   "nbconvert_exporter": "python",
   "pygments_lexer": "ipython3",
   "version": "3.7.6"
  }
 },
 "nbformat": 4,
 "nbformat_minor": 4
}
