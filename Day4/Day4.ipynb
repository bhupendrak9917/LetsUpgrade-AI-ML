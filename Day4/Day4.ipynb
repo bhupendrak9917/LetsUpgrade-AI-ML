{
 "cells": [
  {
   "cell_type": "code",
   "execution_count": 5,
   "metadata": {},
   "outputs": [
    {
     "name": "stdout",
     "output_type": "stream",
     "text": [
      "Addition of complex no: (90+119j)\n",
      "Subtraction of complex no: (22+29j)\n",
      "Multiplication of complex no: (-1426+5036j)\n",
      "division of complex no: (1.6453945300220054-0.00125746620559572j)\n",
      "Floor division and modulus of complex no is not possible, it will throwback error.\n"
     ]
    }
   ],
   "source": [
    "#Answer 1:\n",
    "a= 56 + 74j\n",
    "b= 34 + 45j\n",
    "add= a+b\n",
    "sub= a-b\n",
    "mul= a*b\n",
    "div= a/b\n",
    "#fldiv= a//b\n",
    "#mod= a%b\n",
    "print(\"Addition of complex no:\", add)\n",
    "print(\"Subtraction of complex no:\", sub)\n",
    "print(\"Multiplication of complex no:\", mul)\n",
    "print(\"division of complex no:\", div)\n",
    "#print(\"floor division of complex no:\", fldiv)\n",
    "#print(\"Modulus of complex no:\", mod)\n",
    "\n",
    "print(\"Floor division and modulus of complex no is not possible, it will throwback error.\")"
   ]
  },
  {
   "cell_type": "markdown",
   "metadata": {},
   "source": [
    "# Answer 2\n",
    "range() in python is a function which returns the value from its initial point to the given range value.\n",
    "Like in the example given in the below cell range value starts from 5 and ends with 15 so it will print all the values between 5 to 15.\n",
    "In the one more cell given below that, I'm not giving any initial value so by default the initial value will be 0 and it will print all the value till 10."
   ]
  },
  {
   "cell_type": "code",
   "execution_count": 8,
   "metadata": {},
   "outputs": [
    {
     "name": "stdout",
     "output_type": "stream",
     "text": [
      "5\n",
      "6\n",
      "7\n",
      "8\n",
      "9\n",
      "10\n",
      "11\n",
      "12\n",
      "13\n",
      "14\n"
     ]
    }
   ],
   "source": [
    "for i in range(5,15):\n",
    "    print(i)"
   ]
  },
  {
   "cell_type": "code",
   "execution_count": 9,
   "metadata": {},
   "outputs": [
    {
     "name": "stdout",
     "output_type": "stream",
     "text": [
      "0\n",
      "1\n",
      "2\n",
      "3\n",
      "4\n",
      "5\n",
      "6\n",
      "7\n",
      "8\n",
      "9\n"
     ]
    }
   ],
   "source": [
    "for k in range(10):\n",
    "    print(k)"
   ]
  },
  {
   "cell_type": "code",
   "execution_count": 17,
   "metadata": {},
   "outputs": [
    {
     "name": "stdout",
     "output_type": "stream",
     "text": [
      "29\n",
      "multiplication of both number is: 1512\n"
     ]
    }
   ],
   "source": [
    "#Answer 3:\n",
    "num1= 56\n",
    "num2= 27\n",
    "sub= num1-num2\n",
    "print(sub)\n",
    "if sub>25:\n",
    "    print(\"multiplication of both number is:\",num1*num2)\n",
    "else:\n",
    "    print(\"division of both number is:\",num1/num2)"
   ]
  },
  {
   "cell_type": "code",
   "execution_count": 14,
   "metadata": {},
   "outputs": [
    {
     "name": "stdout",
     "output_type": "stream",
     "text": [
      "square of the number minus 2: 12 --> 142\n",
      "square of the number minus 2: 34 --> 1154\n",
      "square of the number minus 2: 56 --> 3134\n",
      "square of the number minus 2: 78 --> 6082\n",
      "square of the number minus 2: 90 --> 8098\n"
     ]
    }
   ],
   "source": [
    "#Answer 4:\n",
    "l= [12,23,34,45,56,67,78,89,90,65]\n",
    "for i in l:\n",
    "    if i%2==0:\n",
    "        print(\"square of the number minus 2:\",i,\"-->\",i**2-2)"
   ]
  },
  {
   "cell_type": "code",
   "execution_count": 16,
   "metadata": {},
   "outputs": [
    {
     "name": "stdout",
     "output_type": "stream",
     "text": [
      "16 --> 8.0\n",
      "18 --> 9.0\n",
      "20 --> 10.0\n",
      "15 --> 7.5\n",
      "19 --> 9.5\n",
      "21 --> 10.5\n"
     ]
    }
   ],
   "source": [
    "#Answer 5:\n",
    "m= [12,14,16,18,20,8,15,13,19,21]\n",
    "for i in m:\n",
    "    if i/2>7:\n",
    "        print(i,\"-->\",i/2)"
   ]
  },
  {
   "cell_type": "code",
   "execution_count": null,
   "metadata": {},
   "outputs": [],
   "source": []
  }
 ],
 "metadata": {
  "kernelspec": {
   "display_name": "Python 3",
   "language": "python",
   "name": "python3"
  },
  "language_info": {
   "codemirror_mode": {
    "name": "ipython",
    "version": 3
   },
   "file_extension": ".py",
   "mimetype": "text/x-python",
   "name": "python",
   "nbconvert_exporter": "python",
   "pygments_lexer": "ipython3",
   "version": "3.7.6"
  }
 },
 "nbformat": 4,
 "nbformat_minor": 4
}
